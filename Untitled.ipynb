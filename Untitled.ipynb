{
 "cells": [
  {
   "cell_type": "code",
   "execution_count": 1,
   "metadata": {},
   "outputs": [],
   "source": [
    "from PIL import Image\n",
    "import numpy as np\n",
    "import pandas as pd\n",
    "import os\n",
    "import sys\n",
    "import glob\n",
    "import time\n",
    "import itertools\n",
    "import random\n",
    "import scipy.misc\n",
    "import pickle  \n",
    "\n",
    "from PyQt5 import QtWidgets\n",
    "import matplotlib\n",
    "matplotlib.use('Qt5Agg')   # 允许GUI式matplotlib，即有弹窗. it must be set before import pyplot\n",
    "import matplotlib.pyplot as plt\n",
    "from matplotlib.backends.backend_qt5agg import FigureCanvasQTAgg as FigureCanvas\n",
    "from matplotlib.backends.backend_qt5 import NavigationToolbar2QT as NavigationToolbar\n",
    "from matplotlib.figure import Figure\n"
   ]
  },
  {
   "cell_type": "code",
   "execution_count": 2,
   "metadata": {},
   "outputs": [],
   "source": [
    "# path\n",
    "class path:  \n",
    "    def __init__(self, abs_path_str=''):\n",
    "        \"\"\n",
    "        self.abs_path_str = abs_path_str\n",
    "#         , i_dir=1, i_subdir=1, i_img=1\n",
    "#         self.i_dir = i_dir\n",
    "#         self.i_subdir = i_subdir\n",
    "#         self.i_img = i_img\n",
    "        self.i_dir = 0\n",
    "        self.i_subdir = 0\n",
    "        self.i_img = 0\n",
    "        if self.abs_path_str == '':\n",
    "            self.abs_path_str = input(\"请输入数据文件夹的绝对路径：如 E:\\zhouhan\")\n",
    "        assert os.path.exists(self.abs_path_str), \"invalid dir path\"  # 必须填入有效的起始文件夹data的绝对路径名称\n",
    "        \n",
    "        self.update_path()\n",
    "        self.regulate_dir()\n",
    "        self.update_path()\n",
    "    \n",
    "    def update_path(self):\n",
    "        # update dirs\n",
    "        items = os.listdir(self.abs_path_str)  # PATH下的所有item\n",
    "        self.dirs = [item for item in items if os.path.isdir(os.path.join(self.abs_path_str, item))] # 所有item中的所有文件夹\n",
    "        self.n_dirs = len(self.dirs)\n",
    "#         self.dirs = dict(zip(range(1,len(self.dirs)+1,1),self.dirs))\n",
    "        # 如果没有创建 子文件夹 的话，按照.hsv文件的名称创建，并以列表的字典形式{dir: list_subdir}记录所有subdirs\n",
    "        self.subdirs = {}\n",
    "        for i, dir in enumerate(self.dirs):\n",
    "            list_hsv = glob.glob(self.abs_path_str+'\\\\'+dir+'\\\\*.hsv') # 列出该文件夹下所有hsv文件的路径\n",
    "            list_subdir = [s.split('.')[0].split(\"\\\\\")[-1] for s in list_hsv] # 列出该文件夹下所有hsv文件的名字，注意，不包括后缀.hsv\n",
    "            self.subdirs[dir] = list_subdir  # 更新subdirs词典\n",
    "#             dct_subdir = dict(zip(range(1,len(list_subdir)+1,1),list_subdir))\n",
    "#             self.subdirs[dir] = dct_subdir  # 更新subdirs词典\n",
    "\n",
    "            # 如果没有创建子文件夹，那么逐文件夹新建和.hsv文件同名的子文件夹\n",
    "            for subdir in list_subdir:\n",
    "                if not os.path.exists(self.abs_path_str+\"\\\\\"+dir+\"\\\\\"+subdir):\n",
    "                    os.mkdir(self.abs_path_str+\"\\\\\"+dir+\"\\\\\"+subdir) \n",
    "        self.n_subdirs = {}\n",
    "        for i, dir in enumerate(self.dirs):\n",
    "            self.n_subdirs[dir] = len(self.subdirs[dir])\n",
    "        self.n_img = 3767\n",
    "        print(\"update path done!\")\n",
    "        return None\n",
    "        \n",
    "    def regulate_dir(self):\n",
    "        pass\n",
    "        # 改成全大写\n",
    "        # 改名，将所有experiments级文件夹名由小写改为大写并重新获取目录\n",
    "        for dir in self.dirs:\n",
    "            if dir.islower():\n",
    "                os.rename(self.abs_path_str+\"\\\\\"+dir, self.abs_path_str+\"\\\\\"+dir.upper())        \n",
    "        # 去掉空格\n",
    "        print(\"regulate_dir done!\")\n",
    "        self.update_path()\n",
    "        return None\n",
    "    \n",
    "    def display(self, n_dir=None):\n",
    "        print(\"------list of directories------\")\n",
    "        for i,j in enumerate(self.dirs, start=1):\n",
    "            print(str(i).rjust(2) + \":\" + str(j).rjust(12))    \n",
    "        if n_dir:\n",
    "            print(\"------list of subdirectories------\")\n",
    "            for i,j in enumerate(self.subdirs[self.dirs[n_dir-1]], start=1):\n",
    "                print(str(i).rjust(2) + \":\" + str(j).rjust(12))\n",
    "        return None\n",
    "    \n",
    "    def return_path(self):\n",
    "#         assert(- self.n_dirs <= self.i_dir < self.n_dirs and\n",
    "#                - self.n_subdirs[self.dirs[self.i_dir]] <= self.i_subdir < self.n_subdirs[self.dirs[self.i_dir]] and\n",
    "#                - self.n_img <= self.i_img <= self.n_img), \"invalid index of dir or subdir\"\n",
    "\n",
    "        self.dir_name = self.dirs[self.i_dir]\n",
    "        self.subdir_name = self.subdirs[self.dirs[self.i_dir]][self.i_subdir]\n",
    "        self.img_name = self.subdir_name + '_' + str(self.i_img).zfill(4) + '.jpg'\n",
    "        return self.abs_path_str+\"\\\\\"+self.dir_name+\"\\\\\"+self.subdir_name + \"\\\\\" +self.img_name\n",
    "    \n",
    "    def set_path(self,i_dir, i_subdir, i_img):\n",
    "        self.i_dir = i_dir\n",
    "        self.i_subdir = i_subdir\n",
    "        self.i_img = i_img\n",
    "        if self.i_dir > 0:\n",
    "            self.i_dir -= 1\n",
    "        if self.i_subdir > 0:\n",
    "            self.i_subdir -= 1\n",
    "#         if self.i_img > 0:\n",
    "#             self.i_img -= 1\n",
    "        return None\n",
    "\n",
    "    def get_path(self,i_dir, i_subdir, i_img):\n",
    "        if i_dir > 0:\n",
    "            i_dir -= 1\n",
    "        if i_subdir > 0:\n",
    "            i_subdir -= 1\n",
    "#         if i_img > 0:\n",
    "#             i_img -= 1\n",
    "        assert (- self.n_dirs <= i_dir < self.n_dirs and\n",
    "                - self.n_subdirs[self.dirs[i_dir]] <= i_subdir < self.n_subdirs[self.dirs[i_dir]] and\n",
    "                - self.n_img <= i_img < self.n_img), \"invalid index of dir or subdir\"\n",
    "\n",
    "        dir_name = self.dirs[i_dir]\n",
    "        subdir_name = self.subdirs[self.dirs[i_dir]][i_subdir]\n",
    "        img_name = subdir_name + '_' + str(i_img).zfill(4) + '.jpg'\n",
    "        return self.abs_path_str+\"\\\\\"+dir_name+\"\\\\\"+subdir_name + \"\\\\\" +img_name        \n",
    "\n",
    "    def return_range(self, i_dir, i_subdir, i_img, stop=3767, step=1):\n",
    "        self.set_path(i_dir, i_subdir, i_img)\n",
    "        assert (- self.n_dirs <= i_dir < self.n_dirs and\n",
    "                - self.n_subdirs[self.dirs[i_dir]] <= i_subdir < self.n_subdirs[self.dirs[i_dir]] and\n",
    "                - self.n_img <= i_img < self.n_img and\n",
    "                1 <= stop <= self.n_img)\n",
    "        for i in range(i_img,stop+1,1):\n",
    "            if not (- self.n_dirs <= self.i_dir < self.n_dirs and\n",
    "                    - self.n_subdirs[self.dirs[self.i_dir]] <= self.i_subdir < self.n_subdirs[self.dirs[self.i_dir]] and\n",
    "                    - self.n_img <= self.i_img < min(stop, self.n_img)+1):\n",
    "                raise StopIteration\n",
    "            else:\n",
    "                yield self.return_path()                  \n",
    "                self.i_img += step\n",
    "        \n",
    "#     def __next__(self, step=1):\n",
    "#         if not (- self.n_dirs <= self.i_dir < self.n_dirs and\n",
    "#                 - self.n_subdirs[self.dirs[self.i_dir]] <= self.i_subdir < self.n_subdirs[self.dirs[self.i_dir]] and\n",
    "#                 - self.n_img <= self.i_img < self.n_img):\n",
    "#             raise StopIteration\n",
    "#         else:\n",
    "#             self.i_img += step\n",
    "#             return self.return_path()      "
   ]
  },
  {
   "cell_type": "code",
   "execution_count": 3,
   "metadata": {},
   "outputs": [
    {
     "name": "stdout",
     "output_type": "stream",
     "text": [
      "update path done!\n",
      "regulate_dir done!\n",
      "update path done!\n",
      "update path done!\n"
     ]
    }
   ],
   "source": [
    "paths = path(\"E:\\zhouhan\")"
   ]
  },
  {
   "cell_type": "code",
   "execution_count": 4,
   "metadata": {},
   "outputs": [],
   "source": [
    "##paths.display()"
   ]
  },
  {
   "cell_type": "code",
   "execution_count": 5,
   "metadata": {},
   "outputs": [],
   "source": [
    "# paths.display(n_dir=2)"
   ]
  },
  {
   "cell_type": "code",
   "execution_count": 6,
   "metadata": {},
   "outputs": [],
   "source": [
    "# paths.get_path(2,1,1)"
   ]
  },
  {
   "cell_type": "code",
   "execution_count": 7,
   "metadata": {},
   "outputs": [],
   "source": [
    "class breakage_distribution:\n",
    "    def __init__(self,paths=paths):\n",
    "        HEADER = ['x', 'y', 'circle', 'dir', 'pic', 'subdir', 'timestamp']\n",
    "        self.pts = pd.DataFrame(columns=HEADER)\n",
    "        self.lens = pd.DataFrame(columns=[])\n",
    "    \n",
    "    def get_pts(self, i_dir, i_subdir, i_img, stop=3767, step=1):\n",
    "        \"\"\"循环读取图片，然后标注，结束循环后输入n\"\"\"\n",
    "        pts = []\n",
    "        for p in paths.return_range(i_dir=i_dir, i_subdir=i_subdir, i_img=i_img, stop=stop, step=step):\n",
    "            im = Image.open(p)\n",
    "            plt.imshow(im)\n",
    "            title_pic = p.split(\".\")[0].split(\" / \")[-1].split(\"_\")[-1]\n",
    "            start = int(title_pic)\n",
    "            print(\"正在标注%s:\" % title_pic)            \n",
    "            plt.title(title_pic)\n",
    "            grid_X,grid_Y =  zip(*[(200,100),(200,600), (200,100),(1000,100),\n",
    "                                   (200,350),(1000,350),(400,100),(400,600),\n",
    "                                   (600,100),(600,600), (800,100),(800,600)])\n",
    "            for n_grid in range(min(len(grid_X),len(grid_Y)) // 2):\n",
    "                plt.plot(grid_X[2*n_grid: 2*n_grid+2], grid_Y[2*n_grid: 2*n_grid+2],'k--',lw=1)\n",
    "            grid_X,grid_Y =  zip(*[(1000,100),(1000,600),(200,600),(1000,600)])\n",
    "            for n_grid in range(min(len(grid_X),len(grid_Y)) // 2):\n",
    "                plt.plot(grid_X[2*n_grid: 2*n_grid+2], grid_Y[2*n_grid: 2*n_grid+2],'k-',lw=1)\n",
    "            tmp_pts = []\n",
    "            tmp_pts = plt.ginput(n=-1, timeout=0, show_clicks=True)\n",
    "            # 如果数据不合格就重新标注一下当前\n",
    "            if not self.isvalid(tmp_pts):\n",
    "                print(\"重新标注%s\" % title_pic)\n",
    "                tmp_pts = []\n",
    "                self.get_pts(i_dir, i_subdir, i_img=start, stop=start+1)\n",
    "                continue\n",
    "            pts += tmp_pts\n",
    "            print(\"完成小标注%s:\" % title_pic)  \n",
    "            # \n",
    "        reply = input(\"\"\"Again! press \"a\"\n",
    "                             Quit! press \"q\"\n",
    "                             Done! press \"d\" \"\"\")\n",
    "#             plt.show()               \n",
    "        # 整理格式为DataFrame \n",
    "        print(\"完成标注 %s:\" %title_pic)\n",
    "        \n",
    "        return self.pts\n",
    "    \n",
    "    def pts2len(self):\n",
    "        def get_d_equiv(df):\n",
    "            \"\"\"输入连续的4条坐标信息，返回这四个点确定的圆的直径\"\"\"\n",
    "        #     print(\"\\n\\n------------------\\n\")\n",
    "        #     print(df)\n",
    "            x = df['x'].values\n",
    "            y = df['y'].values\n",
    "        #     print(x,\"\\n\")\n",
    "        #     print(y,\"\\n\")\n",
    "        #     x = [3,0,3,6]\n",
    "        #     y = [4,0,8,4]\n",
    "            laxis = np.hypot(abs(x[0]-x[1]), abs(y[0]-y[1]))  # 长轴\n",
    "            saxis = np.hypot(abs(x[2]-x[3]), abs(y[2]-y[3]))  # 短轴\n",
    "            get_geo_mean = lambda x: np.sqrt(x[0]*x[1])\n",
    "        #     print(get_geo_mean((laxis, saxis)))\n",
    "            return get_geo_mean((laxis, saxis))\n",
    "\n",
    "\n",
    "        data_diameters = data_copy.groupby(by=[\"dir\", \"subdir\", 'pic', \"circle\"])[['x','y']].apply(get_d_equiv)\n",
    "        # data_diameters\n",
    "        data_diameters.to_csv(PREFIX+'_diameters.csv', header=[\"diameter\"])\n",
    "\n",
    "        data_diameters = data_diameters.reset_index(level=[0,1,2,3])\n",
    "\n",
    "        data_diameters.rename_axis({0:\"diameter\"},axis=1)\n",
    "        data_diameters.to_csv(PREFIX+\"_diameters.csv\", header=True)\n",
    "\n",
    "        data_diameters.head(10)\n",
    "\n",
    "    def isvalid(self,pts):\n",
    "        # 如果pts是空的\n",
    "#         if len(pts) == 0:\n",
    "#             return False\n",
    "        # 如果不满足 正好4个一组\n",
    "        if np.mod(len(pts), 4) != 0:\n",
    "            return False\n",
    "        # 如果每组四个点两两之间的距离过大（大于250）\n",
    "        for start, stop in zip(range(0, len(pts)-1, 4), range(4, len(pts)+1, 4)): \n",
    "            for a, b in itertools.combinations(pts[start: stop], 2): \n",
    "                if (abs(a[0] - b[0]) > 250 or abs(a[1] - b[1]) > 250):\n",
    "                    return False\n",
    "        if False:# 如果没有按照对角线顺序选取\n",
    "            return False\n",
    "    #     if s=input(\"Sure to sumbit?\") # 用户确认功能\n",
    "        else:\n",
    "            return True\n"
   ]
  },
  {
   "cell_type": "code",
   "execution_count": 8,
   "metadata": {},
   "outputs": [],
   "source": [
    "bd = breakage_distribution(paths)"
   ]
  },
  {
   "cell_type": "code",
   "execution_count": null,
   "metadata": {},
   "outputs": [
    {
     "name": "stdout",
     "output_type": "stream",
     "text": [
      "正在标注0001:\n"
     ]
    },
    {
     "name": "stderr",
     "output_type": "stream",
     "text": [
      "C:\\ProgramData\\Anaconda3\\envs\\stat\\lib\\site-packages\\matplotlib\\backend_bases.py:2453: MatplotlibDeprecationWarning: Using default event loop until function specific to this GUI is implemented\n",
      "  warnings.warn(str, mplDeprecation)\n"
     ]
    },
    {
     "name": "stdout",
     "output_type": "stream",
     "text": [
      "完成小标注0001:\n",
      "正在标注0002:\n",
      "完成小标注0002:\n",
      "正在标注0003:\n",
      "重新标注0003\n",
      "正在标注0003:\n",
      "完成小标注0003:\n",
      "正在标注0004:\n"
     ]
    }
   ],
   "source": [
    "bd.get_pts(2,1,1,stop=3767, step=500)"
   ]
  },
  {
   "cell_type": "code",
   "execution_count": null,
   "metadata": {},
   "outputs": [],
   "source": [
    "print(\"\"\"save the result above? input \"s\" \n",
    "\"\"\")"
   ]
  },
  {
   "cell_type": "code",
   "execution_count": null,
   "metadata": {},
   "outputs": [],
   "source": [
    "def \n",
    "for p in paths.return_range(i_dir=2, i_subdir=1, i_img=1, stop=11, step=5):\n",
    "    \n",
    "    for img_index, img_path in zip(range(iimg,stop,step), img_paths):\n",
    "        name_experiment = img_path.split(\".\")[0].split(\"\\\\\")[-1].split(\"_\")[0]\n",
    "        name_pic = img_path.split(\".\")[0].split(\" / \")[-1].split(\"_\")[-1]\n",
    "        print(\"正在标注%s:\" % name_pic)\n",
    "        im = Image.open(img_path)\n",
    "        plt.imshow(im)\n",
    "        grid_X,grid_Y =  zip(*[(200,100),(200,600), (200,100),(1000,100),\n",
    "                               (200,350),(1000,350),(400,100),(400,600),\n",
    "                               (600,100),(600,600), (800,100),(800,600)])\n",
    "        for n_grid in range(min(len(grid_X),len(grid_Y)) // 2):\n",
    "            plt.plot(grid_X[2*n_grid: 2*n_grid+2], grid_Y[2*n_grid: 2*n_grid+2],'k--',lw=1)\n",
    "        grid_X,grid_Y =  zip(*[(1000,100),(1000,600),(200,600),(1000,600)])\n",
    "        for n_grid in range(min(len(grid_X),len(grid_Y)) // 2):\n",
    "            plt.plot(grid_X[2*n_grid: 2*n_grid+2], grid_Y[2*n_grid: 2*n_grid+2],'k-',lw=1)\n",
    "        \n",
    "        plt.title(name_experiment + \": \" + str(idir) + \" / \" + str(isubdir) + \" / \" + name_pic)\n",
    "\n",
    "        pts = []\n",
    "#         plt.text(10, 10, \"Notes: must pick points in diagonal order, or will not pass the test and redo\")\n",
    "        pts = plt.ginput(n=-1, timeout=0, show_clicks=True)\n",
    "\n",
    "        \n",
    "        # 如果数据不合格就重新标注一遍\n",
    "        if not isvalid(pts):\n",
    "            print(\"重新标注%s\" % name_pic)\n",
    "            pts = []\n",
    "            load_image_path(idir, isubdir, iimg=img_index, stop=img_index+1)\n",
    "            continue\n",
    "        \n",
    "        print(\"完成标注 %s:\" %name_pic)\n",
    "        \n",
    "        # 保存数据\n",
    "        n_circle = int(len(pts)/4)\n",
    "        circle = []\n",
    "        for i in range(n_circle):\n",
    "            circle += [i] * 4\n",
    "        df_circle = pd.DataFrame(circle, columns=['circle'])\n",
    "        df_dir = pd.DataFrame({'dir':[dirs[idir]]*len(pts),\n",
    "                               'subdir': [subdirs[dirs[idir]][isubdir]]*len(pts), \n",
    "                               \"timestamp\":[time.asctime()]*len(pts),\n",
    "                               \"pic\":name_pic})\n",
    "        df_pts = pd.DataFrame(pts, columns=list(\"xy\"), copy=True)\n",
    "        df_data = pd.concat([df_pts, df_circle,df_dir], axis=1)\n",
    "        print(df_data)\n",
    "        # if os.getcwd()+\n",
    "        df_data.to_csv(os.getcwd()+\"\\\\data_\" + str(subdirs[dirs[idir]][isubdir]) + \".csv\",mode='a', header=False)\n",
    "        print(\"数据保存完毕\")\n",
    "    print(\"所有数据保存完毕，程序退出\")\n",
    "    plt.close()\n",
    "    return None"
   ]
  },
  {
   "cell_type": "code",
   "execution_count": null,
   "metadata": {},
   "outputs": [],
   "source": []
  },
  {
   "cell_type": "code",
   "execution_count": null,
   "metadata": {},
   "outputs": [],
   "source": [
    "\n",
    "# ********************************\n",
    "# DO NOT CHANGE ANYTHING BELOW !!!\n",
    "# ********************************\n"
   ]
  },
  {
   "cell_type": "code",
   "execution_count": null,
   "metadata": {},
   "outputs": [],
   "source": []
  },
  {
   "cell_type": "code",
   "execution_count": 172,
   "metadata": {},
   "outputs": [
    {
     "ename": "TypeError",
     "evalue": "'path' object is not iterable",
     "output_type": "error",
     "traceback": [
      "\u001b[1;31m------------------------------------------------------------------\u001b[0m",
      "\u001b[1;31mTypeError\u001b[0m                        Traceback (most recent call last)",
      "\u001b[1;32m<ipython-input-172-84c4db2fb615>\u001b[0m in \u001b[0;36m<module>\u001b[1;34m()\u001b[0m\n\u001b[0;32m      1\u001b[0m \u001b[0mpaths\u001b[0m\u001b[1;33m.\u001b[0m\u001b[0mset_path\u001b[0m\u001b[1;33m(\u001b[0m\u001b[1;36m2\u001b[0m\u001b[1;33m,\u001b[0m\u001b[1;36m1\u001b[0m\u001b[1;33m,\u001b[0m\u001b[1;36m1\u001b[0m\u001b[1;33m)\u001b[0m\u001b[1;33m\u001b[0m\u001b[0m\n\u001b[1;32m----> 2\u001b[1;33m \u001b[1;32mfor\u001b[0m \u001b[0mp\u001b[0m \u001b[1;32min\u001b[0m \u001b[0mpaths\u001b[0m\u001b[1;33m:\u001b[0m\u001b[1;33m\u001b[0m\u001b[0m\n\u001b[0m\u001b[0;32m      3\u001b[0m     \u001b[0mim\u001b[0m \u001b[1;33m=\u001b[0m \u001b[0mImage\u001b[0m\u001b[1;33m.\u001b[0m\u001b[0mopen\u001b[0m\u001b[1;33m(\u001b[0m\u001b[0mpaths\u001b[0m\u001b[1;33m.\u001b[0m\u001b[0mget_path\u001b[0m\u001b[1;33m(\u001b[0m\u001b[1;36m2\u001b[0m\u001b[1;33m,\u001b[0m\u001b[1;36m1\u001b[0m\u001b[1;33m,\u001b[0m\u001b[1;36m1\u001b[0m\u001b[1;33m)\u001b[0m\u001b[1;33m)\u001b[0m\u001b[1;33m\u001b[0m\u001b[0m\n\u001b[0;32m      4\u001b[0m     \u001b[0mplt\u001b[0m\u001b[1;33m.\u001b[0m\u001b[0mimshow\u001b[0m\u001b[1;33m(\u001b[0m\u001b[0mim\u001b[0m\u001b[1;33m)\u001b[0m\u001b[1;33m\u001b[0m\u001b[0m\n\u001b[0;32m      5\u001b[0m     \u001b[0mplt\u001b[0m\u001b[1;33m.\u001b[0m\u001b[0mshow\u001b[0m\u001b[1;33m(\u001b[0m\u001b[1;33m)\u001b[0m\u001b[1;33m\u001b[0m\u001b[0m\n",
      "\u001b[1;31mTypeError\u001b[0m: 'path' object is not iterable"
     ]
    }
   ],
   "source": [
    "paths.set_path(2,1,1)\n",
    "for p in paths:\n",
    "    im = Image.open(paths.get_path(2,1,1))\n",
    "    plt.imshow(im)\n",
    "    plt.show()    \n",
    "    "
   ]
  },
  {
   "cell_type": "code",
   "execution_count": 155,
   "metadata": {},
   "outputs": [],
   "source": [
    "im = Image.open(paths.get_path(2,1,1))\n",
    "plt.imshow(im)\n",
    "plt.show()"
   ]
  },
  {
   "cell_type": "code",
   "execution_count": 121,
   "metadata": {},
   "outputs": [],
   "source": [
    "paths = 'E:\\zhouhan'"
   ]
  },
  {
   "cell_type": "code",
   "execution_count": 80,
   "metadata": {},
   "outputs": [
    {
     "data": {
      "text/plain": [
       "True"
      ]
     },
     "execution_count": 80,
     "metadata": {},
     "output_type": "execute_result"
    }
   ],
   "source": [
    "os.path.exists(paths)"
   ]
  },
  {
   "cell_type": "code",
   "execution_count": 23,
   "metadata": {},
   "outputs": [],
   "source": [
    "lst=list('abcdefg')"
   ]
  },
  {
   "cell_type": "code",
   "execution_count": 25,
   "metadata": {},
   "outputs": [
    {
     "data": {
      "text/plain": [
       "{1: 'a', 2: 'b', 3: 'c', 4: 'd', 5: 'e', 6: 'f', 7: 'g'}"
      ]
     },
     "execution_count": 25,
     "metadata": {},
     "output_type": "execute_result"
    }
   ],
   "source": [
    "dict(zip(range(1,len(lst)+1,1),lst))"
   ]
  },
  {
   "cell_type": "code",
   "execution_count": 27,
   "metadata": {},
   "outputs": [
    {
     "data": {
      "text/plain": [
       "True"
      ]
     },
     "execution_count": 27,
     "metadata": {},
     "output_type": "execute_result"
    }
   ],
   "source": [
    "n_subdir=0\n",
    "not n_subdir"
   ]
  },
  {
   "cell_type": "code",
   "execution_count": 90,
   "metadata": {},
   "outputs": [
    {
     "data": {
      "text/plain": [
       "False"
      ]
     },
     "execution_count": 90,
     "metadata": {},
     "output_type": "execute_result"
    }
   ],
   "source": [
    "i = 0\n",
    "1 <= i <= 11"
   ]
  },
  {
   "cell_type": "code",
   "execution_count": null,
   "metadata": {},
   "outputs": [],
   "source": []
  },
  {
   "cell_type": "code",
   "execution_count": null,
   "metadata": {},
   "outputs": [],
   "source": []
  },
  {
   "cell_type": "code",
   "execution_count": 4,
   "metadata": {},
   "outputs": [
    {
     "data": {
      "text/plain": [
       "['nihk', '\\tkkk', '']"
      ]
     },
     "execution_count": 4,
     "metadata": {},
     "output_type": "execute_result"
    }
   ],
   "source": [
    "ss = 'nihk \\tkkk '\n",
    "ss.split(' ')"
   ]
  },
  {
   "cell_type": "code",
   "execution_count": 5,
   "metadata": {},
   "outputs": [
    {
     "data": {
      "text/plain": [
       "<zip at 0x1da5367e6c8>"
      ]
     },
     "execution_count": 5,
     "metadata": {},
     "output_type": "execute_result"
    }
   ],
   "source": [
    "a = [\"foo\", 2, \"bar\", 4, \"far\", 6]\n",
    "group_adjacent = lambda x, k: zip(*([iter(x)] * k))\n",
    "group_adjacent(a,2)"
   ]
  },
  {
   "cell_type": "code",
   "execution_count": 6,
   "metadata": {},
   "outputs": [
    {
     "data": {
      "text/plain": [
       "[('foo', 2), ('bar', 4), ('far', 6)]"
      ]
     },
     "execution_count": 6,
     "metadata": {},
     "output_type": "execute_result"
    }
   ],
   "source": [
    "list(group_adjacent(a,2))"
   ]
  },
  {
   "cell_type": "code",
   "execution_count": 11,
   "metadata": {},
   "outputs": [
    {
     "data": {
      "text/plain": [
       "[<list_iterator at 0x1da537cf400>, <list_iterator at 0x1da537cf400>]"
      ]
     },
     "execution_count": 11,
     "metadata": {},
     "output_type": "execute_result"
    }
   ],
   "source": [
    "list()"
   ]
  },
  {
   "cell_type": "code",
   "execution_count": 14,
   "metadata": {},
   "outputs": [
    {
     "name": "stdout",
     "output_type": "stream",
     "text": [
      "(<list_iterator object at 0x000001DA537952B0>,)\n",
      "(<list_iterator object at 0x000001DA537952B0>,)\n"
     ]
    }
   ],
   "source": [
    "for i in zip([iter(a)] * 2):\n",
    "    print(i)"
   ]
  },
  {
   "cell_type": "code",
   "execution_count": 16,
   "metadata": {},
   "outputs": [
    {
     "data": {
      "text/plain": [
       "[(1, 3), (2, 4)]"
      ]
     },
     "execution_count": 16,
     "metadata": {},
     "output_type": "execute_result"
    }
   ],
   "source": [
    "list(zip(*[[1,2],[3,4]]))"
   ]
  },
  {
   "cell_type": "code",
   "execution_count": 17,
   "metadata": {},
   "outputs": [
    {
     "data": {
      "text/plain": [
       "<zip at 0x1da53876e48>"
      ]
     },
     "execution_count": 17,
     "metadata": {},
     "output_type": "execute_result"
    }
   ],
   "source": [
    "a = [\"foo\", 2, \"bar\", 4, \"far\", 6]\n",
    "group_adjacent = lambda x, k: zip(*([iter(x),iter(x)]))\n",
    "group_adjacent(a,2)"
   ]
  },
  {
   "cell_type": "code",
   "execution_count": 18,
   "metadata": {},
   "outputs": [
    {
     "data": {
      "text/plain": [
       "[('foo', 'foo'), (2, 2), ('bar', 'bar'), (4, 4), ('far', 'far'), (6, 6)]"
      ]
     },
     "execution_count": 18,
     "metadata": {},
     "output_type": "execute_result"
    }
   ],
   "source": [
    "list(group_adjacent(a,2))"
   ]
  },
  {
   "cell_type": "code",
   "execution_count": 19,
   "metadata": {},
   "outputs": [
    {
     "data": {
      "text/plain": [
       "'ahello pyqt5.hello pyqt5c'"
      ]
     },
     "execution_count": 19,
     "metadata": {},
     "output_type": "execute_result"
    }
   ],
   "source": [
    "dss='hello pyqt5'\n",
    "s2=dss.join(['a','.','c'])\n",
    "s2"
   ]
  },
  {
   "cell_type": "code",
   "execution_count": 21,
   "metadata": {},
   "outputs": [
    {
     "data": {
      "text/plain": [
       "'ahello pyqt5.hello pyqt5c'"
      ]
     },
     "execution_count": 21,
     "metadata": {},
     "output_type": "execute_result"
    }
   ],
   "source": [
    "dss='hello pyqt5'\n",
    "s2=dss.join(['a','.','c'])\n",
    "s2"
   ]
  },
  {
   "cell_type": "code",
   "execution_count": 25,
   "metadata": {},
   "outputs": [
    {
     "data": {
      "text/plain": [
       "'ahello pyqt5'"
      ]
     },
     "execution_count": 25,
     "metadata": {},
     "output_type": "execute_result"
    }
   ],
   "source": [
    "dss.join(['a',''])"
   ]
  },
  {
   "cell_type": "code",
   "execution_count": 26,
   "metadata": {},
   "outputs": [
    {
     "data": {
      "text/plain": [
       "'Ajfksald'"
      ]
     },
     "execution_count": 26,
     "metadata": {},
     "output_type": "execute_result"
    }
   ],
   "source": [
    "'AjfksalD'.capitalize()"
   ]
  },
  {
   "cell_type": "code",
   "execution_count": 28,
   "metadata": {},
   "outputs": [
    {
     "data": {
      "text/plain": [
       "7"
      ]
     },
     "execution_count": 28,
     "metadata": {},
     "output_type": "execute_result"
    }
   ],
   "source": [
    "list('AjfksalD').index('D')"
   ]
  },
  {
   "cell_type": "code",
   "execution_count": 32,
   "metadata": {},
   "outputs": [
    {
     "data": {
      "text/plain": [
       "'D'"
      ]
     },
     "execution_count": 32,
     "metadata": {},
     "output_type": "execute_result"
    }
   ],
   "source": [
    "list('AjfksalD').pop(-1)"
   ]
  },
  {
   "cell_type": "code",
   "execution_count": 35,
   "metadata": {},
   "outputs": [
    {
     "ename": "ValueError",
     "evalue": "list.remove(x): x not in list",
     "output_type": "error",
     "traceback": [
      "\u001b[1;31m------------------------------------------------------------------\u001b[0m",
      "\u001b[1;31mValueError\u001b[0m                       Traceback (most recent call last)",
      "\u001b[1;32m<ipython-input-35-1fa18f3f7329>\u001b[0m in \u001b[0;36m<module>\u001b[1;34m()\u001b[0m\n\u001b[1;32m----> 1\u001b[1;33m \u001b[0mlist\u001b[0m\u001b[1;33m(\u001b[0m\u001b[1;34m'AjfksalD'\u001b[0m\u001b[1;33m)\u001b[0m\u001b[1;33m.\u001b[0m\u001b[0mremove\u001b[0m\u001b[1;33m(\u001b[0m\u001b[1;34m'c'\u001b[0m\u001b[1;33m)\u001b[0m\u001b[1;33m\u001b[0m\u001b[0m\n\u001b[0m",
      "\u001b[1;31mValueError\u001b[0m: list.remove(x): x not in list"
     ]
    }
   ],
   "source": [
    "list('AjfksalD').remove('c')"
   ]
  },
  {
   "cell_type": "code",
   "execution_count": 39,
   "metadata": {},
   "outputs": [
    {
     "data": {
      "text/plain": [
       "['A', 'b', 'j', 'f', 'k', 's', 'a', 'l', 'D']"
      ]
     },
     "execution_count": 39,
     "metadata": {},
     "output_type": "execute_result"
    }
   ],
   "source": [
    "lst = list('AjfksalD')\n",
    "lst.insert(1,'b')\n",
    "lst"
   ]
  },
  {
   "cell_type": "code",
   "execution_count": null,
   "metadata": {},
   "outputs": [],
   "source": [
    "list('AjfksalD').sort()"
   ]
  },
  {
   "cell_type": "code",
   "execution_count": 40,
   "metadata": {},
   "outputs": [
    {
     "ename": "NameError",
     "evalue": "name 'cmp' is not defined",
     "output_type": "error",
     "traceback": [
      "\u001b[1;31m------------------------------------------------------------------\u001b[0m",
      "\u001b[1;31mNameError\u001b[0m                        Traceback (most recent call last)",
      "\u001b[1;32m<ipython-input-40-80c345942207>\u001b[0m in \u001b[0;36m<module>\u001b[1;34m()\u001b[0m\n\u001b[1;32m----> 1\u001b[1;33m \u001b[0mcmp\u001b[0m\u001b[1;33m(\u001b[0m\u001b[0mlist\u001b[0m\u001b[1;33m(\u001b[0m\u001b[1;34m'Ab'\u001b[0m\u001b[1;33m)\u001b[0m\u001b[1;33m,\u001b[0m\u001b[0mlist\u001b[0m\u001b[1;33m(\u001b[0m\u001b[1;34m'B'\u001b[0m\u001b[1;33m)\u001b[0m\u001b[1;33m)\u001b[0m\u001b[1;33m\u001b[0m\u001b[0m\n\u001b[0m",
      "\u001b[1;31mNameError\u001b[0m: name 'cmp' is not defined"
     ]
    }
   ],
   "source": [
    "cmp(list('Ab'),list('B'))"
   ]
  },
  {
   "cell_type": "code",
   "execution_count": null,
   "metadata": {},
   "outputs": [],
   "source": [
    "list('Bd').cmp()"
   ]
  },
  {
   "cell_type": "code",
   "execution_count": 41,
   "metadata": {},
   "outputs": [
    {
     "data": {
      "text/plain": [
       "True"
      ]
     },
     "execution_count": 41,
     "metadata": {},
     "output_type": "execute_result"
    }
   ],
   "source": [
    "list('Ab') > list('A')"
   ]
  },
  {
   "cell_type": "code",
   "execution_count": 42,
   "metadata": {},
   "outputs": [
    {
     "data": {
      "text/plain": [
       "\"['a', 'b']\""
      ]
     },
     "execution_count": 42,
     "metadata": {},
     "output_type": "execute_result"
    }
   ],
   "source": [
    "str(list('ab'))"
   ]
  },
  {
   "cell_type": "code",
   "execution_count": 49,
   "metadata": {},
   "outputs": [
    {
     "data": {
      "text/plain": [
       "'o'"
      ]
     },
     "execution_count": 49,
     "metadata": {},
     "output_type": "execute_result"
    }
   ],
   "source": [
    "chr(111)"
   ]
  },
  {
   "cell_type": "markdown",
   "metadata": {},
   "source": [
    "radiansdict.clear() \t删除字典内所有元素\n",
    "radiansdict.copy() \t返回一个字典的浅复制\n",
    "radiansdict.fromkeys() \t创建一个新字典，以序列seq中元素做字典的键，val为字典所有键对应的初始值\n",
    "radiansdict.get(key, default=None) \t返回指定键的值，如果值不在字典中返回default值\n",
    "radiansdict.has_key(key) \t如果键在字典dict里返回true，否则返回false\n",
    "radiansdict.items() \t以列表返回可遍历的(键, 值) 元组数组\n",
    "radiansdict.keys() \t以列表返回一个字典所有的键\n",
    "radiansdict.setdefault(key, default=None) \t和get()类似, 但如果键不已经存在于字典中，将会添加键并将值设为default\n",
    "radiansdict.update(dict2) \t把字典dict2的键/值对更新到dict里\n",
    "radiansdict.values() \t以列表返回字典中的所有值"
   ]
  },
  {
   "cell_type": "code",
   "execution_count": 52,
   "metadata": {},
   "outputs": [],
   "source": [
    "radiansdict = {1:'a'}\n",
    "radiansdict"
   ]
  },
  {
   "cell_type": "code",
   "execution_count": 59,
   "metadata": {},
   "outputs": [
    {
     "ename": "NameError",
     "evalue": "name 'rdiansdict' is not defined",
     "output_type": "error",
     "traceback": [
      "\u001b[1;31m------------------------------------------------------------------\u001b[0m",
      "\u001b[1;31mNameError\u001b[0m                        Traceback (most recent call last)",
      "\u001b[1;32m<ipython-input-59-af2769cccebe>\u001b[0m in \u001b[0;36m<module>\u001b[1;34m()\u001b[0m\n\u001b[1;32m----> 1\u001b[1;33m \u001b[0mrdiansdict\u001b[0m\u001b[1;33m.\u001b[0m\u001b[0mfromkeys\u001b[0m\u001b[1;33m(\u001b[0m\u001b[1;33m[\u001b[0m\u001b[1;36m1\u001b[0m\u001b[1;33m,\u001b[0m\u001b[1;36m2\u001b[0m\u001b[1;33m,\u001b[0m\u001b[1;36m3\u001b[0m\u001b[1;33m]\u001b[0m\u001b[1;33m,\u001b[0m\u001b[0mlist\u001b[0m\u001b[1;33m(\u001b[0m\u001b[1;34m'abc'\u001b[0m\u001b[1;33m)\u001b[0m\u001b[1;33m)\u001b[0m\u001b[1;33m\u001b[0m\u001b[0m\n\u001b[0m\u001b[0;32m      2\u001b[0m \u001b[0mrdiansdict\u001b[0m\u001b[1;33m\u001b[0m\u001b[0m\n",
      "\u001b[1;31mNameError\u001b[0m: name 'rdiansdict' is not defined"
     ]
    }
   ],
   "source": [
    "radiansdict.fromkeys([1,2,3],list('abc'))\n",
    "radiansdict"
   ]
  },
  {
   "cell_type": "code",
   "execution_count": 73,
   "metadata": {},
   "outputs": [
    {
     "data": {
      "text/plain": [
       "{1: None, 2: None}"
      ]
     },
     "execution_count": 73,
     "metadata": {},
     "output_type": "execute_result"
    }
   ],
   "source": [
    "# radiansdict = {}\n",
    "radiansdict.fromkeys([1,2])"
   ]
  },
  {
   "cell_type": "code",
   "execution_count": 74,
   "metadata": {},
   "outputs": [
    {
     "data": {
      "text/plain": [
       "{}"
      ]
     },
     "execution_count": 74,
     "metadata": {},
     "output_type": "execute_result"
    }
   ],
   "source": [
    "sdict = {}\n",
    "sdict.fromkeys([1,2,3])\n",
    "sdict.update(radiansdict)\n",
    "sdict"
   ]
  },
  {
   "cell_type": "code",
   "execution_count": 75,
   "metadata": {},
   "outputs": [
    {
     "data": {
      "text/plain": [
       "{1: 'a', 2: 'b'}"
      ]
     },
     "execution_count": 75,
     "metadata": {},
     "output_type": "execute_result"
    }
   ],
   "source": [
    "radiansdict = {1:'a',2:'b'}\n",
    "radiansdict"
   ]
  },
  {
   "cell_type": "code",
   "execution_count": 78,
   "metadata": {},
   "outputs": [],
   "source": [
    "radiansdict.update([(3,'c')])"
   ]
  },
  {
   "cell_type": "code",
   "execution_count": 79,
   "metadata": {},
   "outputs": [
    {
     "data": {
      "text/plain": [
       "{1: 'a', 2: 'b', 3: 'c'}"
      ]
     },
     "execution_count": 79,
     "metadata": {},
     "output_type": "execute_result"
    }
   ],
   "source": [
    "radiansdict"
   ]
  },
  {
   "cell_type": "code",
   "execution_count": 81,
   "metadata": {},
   "outputs": [
    {
     "data": {
      "text/plain": [
       "dict_keys([1, 2, 3])"
      ]
     },
     "execution_count": 81,
     "metadata": {},
     "output_type": "execute_result"
    }
   ],
   "source": [
    "radiansdict.keys()"
   ]
  },
  {
   "cell_type": "code",
   "execution_count": 82,
   "metadata": {},
   "outputs": [
    {
     "data": {
      "text/plain": [
       "7"
      ]
     },
     "execution_count": 82,
     "metadata": {},
     "output_type": "execute_result"
    }
   ],
   "source": [
    "import functools  # 需要先加载functools模块\n",
    "def add(a, b):\n",
    "    return a + b\n",
    "plus3 = functools.partial(add, 3)\n",
    "plus3(4)"
   ]
  },
  {
   "cell_type": "code",
   "execution_count": 85,
   "metadata": {},
   "outputs": [],
   "source": [
    "class MyClass:\n",
    "    name = \"DefaultName\"\n",
    "    count = 0\n",
    "\n",
    "    def __init__(self, name):\n",
    "        self.name = name\n",
    "        print('类的变量为%s\\n对象的变量是%s\\n' % ( MyClass.name, self.name))\n",
    "    def setCount(self, count):\n",
    "        self.count = count\n",
    "        return None\n",
    "    def getCount(self):\n",
    "        return self.count"
   ]
  },
  {
   "cell_type": "code",
   "execution_count": 86,
   "metadata": {},
   "outputs": [
    {
     "name": "stdout",
     "output_type": "stream",
     "text": [
      "类的变量为DefaultName\n",
      "对象的变量是mine\n",
      "\n"
     ]
    }
   ],
   "source": [
    "cls = MyClass('mine')"
   ]
  },
  {
   "cell_type": "markdown",
   "metadata": {},
   "source": [
    "类的动态属性操作"
   ]
  },
  {
   "cell_type": "code",
   "execution_count": 87,
   "metadata": {},
   "outputs": [
    {
     "name": "stdout",
     "output_type": "stream",
     "text": [
      "set param: None\n",
      "get param: 10\n",
      "current param : 10 \n",
      "del param: 10\n"
     ]
    }
   ],
   "source": [
    "class MyClass(object):\n",
    "    def __init__(self):\n",
    "        self._param = None\n",
    "    def getParam(self):\n",
    "        print( \"get param: %s\" % self._param)\n",
    "        return self._param\n",
    "    def setParam(self, value):\n",
    "        print( \"set param: %s\" % self._param)\n",
    "        self._param = value\n",
    "    def delParam(self):\n",
    "        print( \"del param: %s\" % self._param)\n",
    "        del self._param\n",
    "    \n",
    "    param = property(getParam, setParam, delParam)\n",
    "\n",
    "cls = MyClass()\n",
    "cls.param = 10\n",
    "print(\"current param : %s \" % cls.param )\n",
    "del cls.param"
   ]
  },
  {
   "cell_type": "code",
   "execution_count": 90,
   "metadata": {},
   "outputs": [
    {
     "name": "stdout",
     "output_type": "stream",
     "text": [
      "set param: None\n",
      "get param: 10\n",
      "current param : 10 \n",
      "del param: 10\n"
     ]
    }
   ],
   "source": [
    "class MyClass(object):\n",
    "    def __init__(self):\n",
    "        self._param = None\n",
    "    \n",
    "    @property            # @property和@param.setter不同\n",
    "    def param(self):\n",
    "        print( \"get param: %s\" % self._param)\n",
    "        return self._param\n",
    "    \n",
    "    @param.setter\n",
    "    def param(self, value):  # 不同于setParam\n",
    "        print( \"set param: %s\" % self._param)\n",
    "        self._param = value\n",
    "        \n",
    "    @param.deleter\n",
    "    def param(self):  # 不同于delParam\n",
    "        print( \"del param: %s\" % self._param)\n",
    "        del self._param\n",
    "\n",
    "cls = MyClass()\n",
    "cls.param = 10\n",
    "print(\"current param : %s \" % cls.param )\n",
    "del cls.param"
   ]
  },
  {
   "cell_type": "code",
   "execution_count": null,
   "metadata": {},
   "outputs": [],
   "source": []
  },
  {
   "cell_type": "code",
   "execution_count": 1,
   "metadata": {},
   "outputs": [],
   "source": [
    "class a:\n",
    "    pass\n",
    "\n",
    "class a_a(a):\n",
    "    pass\n",
    "\n",
    "class a_b(a):\n",
    "    pass"
   ]
  },
  {
   "cell_type": "code",
   "execution_count": 5,
   "metadata": {},
   "outputs": [],
   "source": [
    "a_instance = a()\n",
    "a_a_instance = a_a()\n",
    "a_b_instance = a_b()"
   ]
  },
  {
   "cell_type": "code",
   "execution_count": 6,
   "metadata": {},
   "outputs": [
    {
     "data": {
      "text/plain": [
       "True"
      ]
     },
     "execution_count": 6,
     "metadata": {},
     "output_type": "execute_result"
    }
   ],
   "source": [
    "isinstance(a_instance, a)\n",
    "isinstance(a_a_instance, a)"
   ]
  },
  {
   "cell_type": "code",
   "execution_count": 12,
   "metadata": {},
   "outputs": [
    {
     "data": {
      "text/plain": [
       "['1', '2', '3', '4', '5']"
      ]
     },
     "execution_count": 12,
     "metadata": {},
     "output_type": "execute_result"
    }
   ],
   "source": [
    "\"1 2 3 4 5\".split(None)"
   ]
  },
  {
   "cell_type": "code",
   "execution_count": 13,
   "metadata": {},
   "outputs": [],
   "source": [
    "*a, b = \"1 2 3 4 5\".split(None)"
   ]
  },
  {
   "cell_type": "code",
   "execution_count": 14,
   "metadata": {},
   "outputs": [
    {
     "data": {
      "text/plain": [
       "['1', '2', '3', '4']"
      ]
     },
     "execution_count": 14,
     "metadata": {},
     "output_type": "execute_result"
    }
   ],
   "source": [
    "a"
   ]
  },
  {
   "cell_type": "code",
   "execution_count": 15,
   "metadata": {},
   "outputs": [
    {
     "data": {
      "text/plain": [
       "'5'"
      ]
     },
     "execution_count": 15,
     "metadata": {},
     "output_type": "execute_result"
    }
   ],
   "source": [
    "b"
   ]
  },
  {
   "cell_type": "code",
   "execution_count": 16,
   "metadata": {},
   "outputs": [
    {
     "data": {
      "text/plain": [
       "'1234'"
      ]
     },
     "execution_count": 16,
     "metadata": {},
     "output_type": "execute_result"
    }
   ],
   "source": [
    "\"\".join(a)"
   ]
  },
  {
   "cell_type": "code",
   "execution_count": 17,
   "metadata": {},
   "outputs": [],
   "source": [
    "from functools import partial"
   ]
  },
  {
   "cell_type": "code",
   "execution_count": 18,
   "metadata": {},
   "outputs": [
    {
     "data": {
      "text/plain": [
       "False"
      ]
     },
     "execution_count": 18,
     "metadata": {},
     "output_type": "execute_result"
    }
   ],
   "source": [
    "1 not in range(2)"
   ]
  },
  {
   "cell_type": "code",
   "execution_count": null,
   "metadata": {},
   "outputs": [],
   "source": [
    "partial()"
   ]
  },
  {
   "cell_type": "code",
   "execution_count": 29,
   "metadata": {},
   "outputs": [],
   "source": [
    "import os\n",
    "import shutil\n"
   ]
  },
  {
   "cell_type": "code",
   "execution_count": 45,
   "metadata": {},
   "outputs": [],
   "source": [
    "DIR = \"/Volumes/Jerry's/zhouhan/420V100Q4\""
   ]
  },
  {
   "cell_type": "code",
   "execution_count": 47,
   "metadata": {},
   "outputs": [
    {
     "name": "stdout",
     "output_type": "stream",
     "text": [
      "[]\n"
     ]
    }
   ],
   "source": [
    "xmls = []\n",
    "for index, (dirpath, dirnames, filenames) in enumerate(os.walk(DIR)):\n",
    "#     print(index)\n",
    "#     print(\"-----------------------------------------------------\")\n",
    "#     print(dirpath)\n",
    "#     print(dirnames)\n",
    "#     print(filenames)\n",
    "#     print(list(map(lambda s: os.path.join(dirpath, s), filter(lambda s: True if s.endswith(\".xml\") else False, filenames))))\n",
    "    xmls.extend(list(map(lambda s: os.path.join(dirpath, s), filter(lambda s: True if s.endswith(\".xml\") else False, filenames))))\n",
    "#     print(xmls)\n",
    "#     if index:\n",
    "#         break\n",
    "print(xmls[:10])"
   ]
  },
  {
   "cell_type": "code",
   "execution_count": 48,
   "metadata": {},
   "outputs": [
    {
     "name": "stdout",
     "output_type": "stream",
     "text": [
      "Done!!!!!!!!!!!!!!\n"
     ]
    }
   ],
   "source": [
    "for xml in xmls:\n",
    "    try:\n",
    "        shutil.move(xml, os.path.join(os.path.join(\"/Users/jerry/Desktop/data/broken\", os.path.basename(DIR)), os.path.basename(xml)))\n",
    "    except:\n",
    "        print(xml)\n",
    "\n",
    "for index, (dirpath, dirnames, filenames) in enumerate(os.walk(DIR)):\n",
    "    xmls.extend(list(map(lambda s: os.path.join(dirpath, s), filter(lambda s: True if s.endswith(\".xml\") else False, filenames))))\n",
    "\n",
    "if len(xmls) == 0:\n",
    "    print(\"Done!!!!!!!!!!!!!!\")"
   ]
  },
  {
   "cell_type": "code",
   "execution_count": 52,
   "metadata": {},
   "outputs": [],
   "source": [
    "import sys\n",
    "import cv2\n",
    "\n",
    "\n",
    "class _const:\n",
    "    class ConstError(TypeError):\n",
    "        pass\n",
    "    class ConstCaseError(ConstError):\n",
    "        pass\n",
    "    \n",
    "    def __setattr__(self, name, value):\n",
    "        if name in self.__dict__.keys():\n",
    "            raise(self.ConstError, \"Can't change const. {}\".format(name))\n",
    "        if not name.isupper():\n",
    "            raise(self.ConstCaseError, \\\n",
    "                'const name \"{}\" is not all uppercase'.format(name))\n",
    "        self.__dict__[name] = value\n",
    "\n",
    "sys.modules[\"const\"]=_const()\n",
    "\n",
    "import const\n",
    "\n",
    "const.SETTING_FILENAME = 'filename'\n",
    "const.SETTING_RECENT_FILES = 'recentFiles'\n",
    "const.SETTING_WIN_SIZE = 'window/size'\n",
    "const.SETTING_WIN_POSE = 'window/position'\n",
    "const.SETTING_WIN_GEOMETRY = 'window/geometry'\n",
    "const.SETTING_LINE_COLOR = 'line/color'\n",
    "const.SETTING_FILL_COLOR = 'fill/color'\n",
    "const.SETTING_ADVANCE_MODE = 'advanced'\n",
    "const.SETTING_WIN_STATE = 'window/state'\n",
    "const.SETTING_SAVE_DIR = 'savedir'\n",
    "const.SETTING_LAST_OPEN_DIR = 'lastOpenDir'\n",
    "const.SETTING_AUTO_SAVE = 'autosave'\n",
    "const.SETTING_SINGLE_CLASS = 'singleclass'\n",
    "const.SETTING_OBSERVE_WINDOW = 'observeWindow'\n",
    "const.SETTING_SHOW_PREPROCESS = 'showPreprossedImage'\n",
    "# const.EXT = '.xml'\n",
    "const.JPG_EXT = '.jpg'\n",
    "# voc_io\n",
    "const.XML_EXT = '.xml'\n",
    "const.TXT_EXT = '.txt'\n",
    "const.ENCODE_METHOD = 'utf-8'\n",
    "# cache.py\n",
    "const.LOAD_WHEN_INIT = 100\n",
    "const.UPDATE_STEP = 100\n",
    "const.UPDATE_INTERVAL = 500  # ms\n",
    "\n",
    "# canvas.py\n",
    "const.OBS_WIN_X = [150, 950]\n",
    "const.OBS_WIN_Y = [60, 560]\n",
    "const.TOLERENCE = 1\n",
    "\n",
    "# preprocessing.py\n",
    "const.BACKGROUND_FILENAME = \"background.jpg\"\n",
    "const.OMIT_FILENAME = [const.BACKGROUND_FILENAME]\n",
    "const.PREPROSSESS_BACKGROUND_LENGTH = 500\n",
    "const.PREPROSSESS_BACKGROUND_BETA = 0.85"
   ]
  },
  {
   "cell_type": "code",
   "execution_count": 131,
   "metadata": {},
   "outputs": [],
   "source": [
    "from libs.pascal_voc_io import PascalVocReader\n",
    "from libs.shape import shapeFactory\n",
    "from libs.shapeType import shapeTypes\n",
    "from libs.lib import distancetopoint\n",
    "\n",
    "from PyQt5.QtCore import QThread, pyqtSignal, QPointF\n",
    "import pandas as pd\n",
    "from functools import reduce\n",
    "from collections import namedtuple, OrderedDict"
   ]
  },
  {
   "cell_type": "code",
   "execution_count": 94,
   "metadata": {},
   "outputs": [],
   "source": [
    "DIR = \"/Users/jerry/Desktop/data/broken/420V5\"\n",
    "labelHist = [\"Droplet\"]\n"
   ]
  },
  {
   "cell_type": "code",
   "execution_count": 126,
   "metadata": {},
   "outputs": [
    {
     "data": {
      "text/html": [
       "<div>\n",
       "<style>\n",
       "    .dataframe thead tr:only-child th {\n",
       "        text-align: right;\n",
       "    }\n",
       "\n",
       "    .dataframe thead th {\n",
       "        text-align: left;\n",
       "    }\n",
       "\n",
       "    .dataframe tbody tr th {\n",
       "        vertical-align: top;\n",
       "    }\n",
       "</style>\n",
       "<table border=\"1\" class=\"dataframe\">\n",
       "  <thead>\n",
       "    <tr style=\"text-align: right;\">\n",
       "      <th></th>\n",
       "      <th>difficult</th>\n",
       "      <th>dir</th>\n",
       "      <th>index</th>\n",
       "      <th>label</th>\n",
       "      <th>points</th>\n",
       "      <th>shapeType</th>\n",
       "      <th>xmlfilename</th>\n",
       "    </tr>\n",
       "  </thead>\n",
       "  <tbody>\n",
       "    <tr>\n",
       "      <th>0</th>\n",
       "      <td>False</td>\n",
       "      <td>420V527</td>\n",
       "      <td>0</td>\n",
       "      <td>1 0</td>\n",
       "      <td>[(451, 427), (484, 537), (418, 495), (510, 472)]</td>\n",
       "      <td>ellipse</td>\n",
       "      <td>420V527_1418.xml</td>\n",
       "    </tr>\n",
       "    <tr>\n",
       "      <th>1</th>\n",
       "      <td>False</td>\n",
       "      <td>420V517</td>\n",
       "      <td>0</td>\n",
       "      <td>0 3</td>\n",
       "      <td>[(100, 279), (82, 194), (37, 251), (139, 224)]</td>\n",
       "      <td>ellipse</td>\n",
       "      <td>420V517_0097.xml</td>\n",
       "    </tr>\n",
       "    <tr>\n",
       "      <th>2</th>\n",
       "      <td>False</td>\n",
       "      <td>420V527</td>\n",
       "      <td>0</td>\n",
       "      <td>3 0</td>\n",
       "      <td>[(178, 344), (102, 442), (98, 376), (176, 420)]</td>\n",
       "      <td>ellipse</td>\n",
       "      <td>420V527_1815.xml</td>\n",
       "    </tr>\n",
       "    <tr>\n",
       "      <th>3</th>\n",
       "      <td>False</td>\n",
       "      <td>420V527</td>\n",
       "      <td>1</td>\n",
       "      <td>3 1</td>\n",
       "      <td>[(236, 440), (234, 525), (192, 486), (277, 487)]</td>\n",
       "      <td>ellipse</td>\n",
       "      <td>420V527_1815.xml</td>\n",
       "    </tr>\n",
       "    <tr>\n",
       "      <th>4</th>\n",
       "      <td>False</td>\n",
       "      <td>420V502</td>\n",
       "      <td>0</td>\n",
       "      <td>1</td>\n",
       "      <td>[(564, 388), (707, 388), (707, 448), (564, 448)]</td>\n",
       "      <td>box</td>\n",
       "      <td>420V502_0161.xml</td>\n",
       "    </tr>\n",
       "    <tr>\n",
       "      <th>5</th>\n",
       "      <td>False</td>\n",
       "      <td>420V518</td>\n",
       "      <td>0</td>\n",
       "      <td>3 0</td>\n",
       "      <td>[(532, 432), (540, 459), (522, 448), (554, 440)]</td>\n",
       "      <td>ellipse</td>\n",
       "      <td>420V518_2312.xml</td>\n",
       "    </tr>\n",
       "    <tr>\n",
       "      <th>6</th>\n",
       "      <td>False</td>\n",
       "      <td>420V518</td>\n",
       "      <td>1</td>\n",
       "      <td>3 1</td>\n",
       "      <td>[(523, 500), (512, 474), (503, 492), (530, 482)]</td>\n",
       "      <td>ellipse</td>\n",
       "      <td>420V518_2312.xml</td>\n",
       "    </tr>\n",
       "    <tr>\n",
       "      <th>7</th>\n",
       "      <td>False</td>\n",
       "      <td>420V522</td>\n",
       "      <td>0</td>\n",
       "      <td>2</td>\n",
       "      <td>[(334, 487), (458, 487), (458, 551), (334, 551)]</td>\n",
       "      <td>box</td>\n",
       "      <td>420V522_1566.xml</td>\n",
       "    </tr>\n",
       "    <tr>\n",
       "      <th>8</th>\n",
       "      <td>False</td>\n",
       "      <td>420V503</td>\n",
       "      <td>0</td>\n",
       "      <td>2 1</td>\n",
       "      <td>[(603, 556), (580, 587), (577, 560), (605, 584)]</td>\n",
       "      <td>ellipse</td>\n",
       "      <td>420V503_3044.xml</td>\n",
       "    </tr>\n",
       "    <tr>\n",
       "      <th>9</th>\n",
       "      <td>False</td>\n",
       "      <td>420V511</td>\n",
       "      <td>0</td>\n",
       "      <td>5 0</td>\n",
       "      <td>[(311, 515), (309, 549), (291, 531), (328, 534)]</td>\n",
       "      <td>ellipse</td>\n",
       "      <td>420V511_2791.xml</td>\n",
       "    </tr>\n",
       "    <tr>\n",
       "      <th>10</th>\n",
       "      <td>False</td>\n",
       "      <td>420V511</td>\n",
       "      <td>0</td>\n",
       "      <td>5 1</td>\n",
       "      <td>[(375, 478), (373, 504), (362, 491), (388, 494)]</td>\n",
       "      <td>ellipse</td>\n",
       "      <td>420V511_2790.xml</td>\n",
       "    </tr>\n",
       "    <tr>\n",
       "      <th>11</th>\n",
       "      <td>False</td>\n",
       "      <td>420V511</td>\n",
       "      <td>1</td>\n",
       "      <td>6</td>\n",
       "      <td>[(166, 415), (258, 415), (258, 478), (166, 478)]</td>\n",
       "      <td>box</td>\n",
       "      <td>420V511_2790.xml</td>\n",
       "    </tr>\n",
       "    <tr>\n",
       "      <th>12</th>\n",
       "      <td>False</td>\n",
       "      <td>420V525</td>\n",
       "      <td>0</td>\n",
       "      <td>0</td>\n",
       "      <td>[(256, 444), (350, 444), (350, 526), (256, 526)]</td>\n",
       "      <td>box</td>\n",
       "      <td>420V525_0146.xml</td>\n",
       "    </tr>\n",
       "    <tr>\n",
       "      <th>13</th>\n",
       "      <td>False</td>\n",
       "      <td>420V527</td>\n",
       "      <td>0</td>\n",
       "      <td>0 0</td>\n",
       "      <td>[(195, 504), (195, 534), (183, 519), (208, 520)]</td>\n",
       "      <td>ellipse</td>\n",
       "      <td>420V527_0303.xml</td>\n",
       "    </tr>\n",
       "    <tr>\n",
       "      <th>14</th>\n",
       "      <td>False</td>\n",
       "      <td>420V518</td>\n",
       "      <td>0</td>\n",
       "      <td>4 1</td>\n",
       "      <td>[(380, 552), (385, 516), (365, 530), (402, 537)]</td>\n",
       "      <td>ellipse</td>\n",
       "      <td>420V518_2475.xml</td>\n",
       "    </tr>\n",
       "    <tr>\n",
       "      <th>15</th>\n",
       "      <td>False</td>\n",
       "      <td>420V502</td>\n",
       "      <td>0</td>\n",
       "      <td>3 1</td>\n",
       "      <td>[(294, 422), (302, 383), (277, 397), (319, 406)]</td>\n",
       "      <td>ellipse</td>\n",
       "      <td>420V502_1530.xml</td>\n",
       "    </tr>\n",
       "    <tr>\n",
       "      <th>16</th>\n",
       "      <td>False</td>\n",
       "      <td>420V522</td>\n",
       "      <td>0</td>\n",
       "      <td>4 1</td>\n",
       "      <td>[(70, 167), (68, 210), (45, 190), (93, 190)]</td>\n",
       "      <td>ellipse</td>\n",
       "      <td>420V522_2898.xml</td>\n",
       "    </tr>\n",
       "    <tr>\n",
       "      <th>17</th>\n",
       "      <td>False</td>\n",
       "      <td>420V522</td>\n",
       "      <td>0</td>\n",
       "      <td>4</td>\n",
       "      <td>[(154, 257), (235, 257), (235, 399), (154, 399)]</td>\n",
       "      <td>box</td>\n",
       "      <td>420V522_2873.xml</td>\n",
       "    </tr>\n",
       "    <tr>\n",
       "      <th>18</th>\n",
       "      <td>False</td>\n",
       "      <td>420V517</td>\n",
       "      <td>0</td>\n",
       "      <td>3 1</td>\n",
       "      <td>[(369, 211), (367, 186), (354, 199), (382, 197)]</td>\n",
       "      <td>ellipse</td>\n",
       "      <td>420V517_1377.xml</td>\n",
       "    </tr>\n",
       "    <tr>\n",
       "      <th>19</th>\n",
       "      <td>False</td>\n",
       "      <td>420V518</td>\n",
       "      <td>0</td>\n",
       "      <td>5</td>\n",
       "      <td>[(402, 548), (500, 548), (500, 604), (402, 604)]</td>\n",
       "      <td>box</td>\n",
       "      <td>420V518_2501.xml</td>\n",
       "    </tr>\n",
       "    <tr>\n",
       "      <th>20</th>\n",
       "      <td>False</td>\n",
       "      <td>420V527</td>\n",
       "      <td>0</td>\n",
       "      <td>1</td>\n",
       "      <td>[(574, 379), (697, 379), (697, 528), (574, 528)]</td>\n",
       "      <td>box</td>\n",
       "      <td>420V527_1343.xml</td>\n",
       "    </tr>\n",
       "    <tr>\n",
       "      <th>21</th>\n",
       "      <td>False</td>\n",
       "      <td>420V530</td>\n",
       "      <td>0</td>\n",
       "      <td>4 0</td>\n",
       "      <td>[(343, 489), (339, 537), (318, 511), (366, 517)]</td>\n",
       "      <td>ellipse</td>\n",
       "      <td>420V530_1569.xml</td>\n",
       "    </tr>\n",
       "    <tr>\n",
       "      <th>22</th>\n",
       "      <td>False</td>\n",
       "      <td>420V526</td>\n",
       "      <td>0</td>\n",
       "      <td>3 0</td>\n",
       "      <td>[(1004, 642), (987, 674), (975, 648), (1010, 6...</td>\n",
       "      <td>ellipse</td>\n",
       "      <td>420V526_2890.xml</td>\n",
       "    </tr>\n",
       "    <tr>\n",
       "      <th>23</th>\n",
       "      <td>False</td>\n",
       "      <td>420V519</td>\n",
       "      <td>0</td>\n",
       "      <td>1</td>\n",
       "      <td>[(192, 466), (262, 466), (262, 539), (192, 539)]</td>\n",
       "      <td>box</td>\n",
       "      <td>420V519_2932.xml</td>\n",
       "    </tr>\n",
       "    <tr>\n",
       "      <th>24</th>\n",
       "      <td>False</td>\n",
       "      <td>420V517</td>\n",
       "      <td>0</td>\n",
       "      <td>3</td>\n",
       "      <td>[(423, 190), (544, 190), (544, 244), (423, 244)]</td>\n",
       "      <td>box</td>\n",
       "      <td>420V517_1361.xml</td>\n",
       "    </tr>\n",
       "    <tr>\n",
       "      <th>25</th>\n",
       "      <td>False</td>\n",
       "      <td>420V529</td>\n",
       "      <td>0</td>\n",
       "      <td>2 1</td>\n",
       "      <td>[(166, 475), (127, 504), (130, 466), (160, 510)]</td>\n",
       "      <td>ellipse</td>\n",
       "      <td>420V529_2912.xml</td>\n",
       "    </tr>\n",
       "    <tr>\n",
       "      <th>26</th>\n",
       "      <td>False</td>\n",
       "      <td>420V517</td>\n",
       "      <td>0</td>\n",
       "      <td>2 1</td>\n",
       "      <td>[(355, 406), (356, 479), (318, 444), (389, 443)]</td>\n",
       "      <td>ellipse</td>\n",
       "      <td>420V517_0902.xml</td>\n",
       "    </tr>\n",
       "    <tr>\n",
       "      <th>27</th>\n",
       "      <td>False</td>\n",
       "      <td>420V503</td>\n",
       "      <td>0</td>\n",
       "      <td>1</td>\n",
       "      <td>[(264, 126), (416, 126), (416, 228), (264, 228)]</td>\n",
       "      <td>box</td>\n",
       "      <td>420V503_2832.xml</td>\n",
       "    </tr>\n",
       "    <tr>\n",
       "      <th>28</th>\n",
       "      <td>False</td>\n",
       "      <td>420V514</td>\n",
       "      <td>0</td>\n",
       "      <td>2 1</td>\n",
       "      <td>[(523, 540), (517, 568), (508, 552), (531, 557)]</td>\n",
       "      <td>ellipse</td>\n",
       "      <td>420V514_3451.xml</td>\n",
       "    </tr>\n",
       "    <tr>\n",
       "      <th>29</th>\n",
       "      <td>False</td>\n",
       "      <td>420V522</td>\n",
       "      <td>0</td>\n",
       "      <td>0</td>\n",
       "      <td>[(265, 494), (352, 494), (352, 562), (265, 562)]</td>\n",
       "      <td>box</td>\n",
       "      <td>420V522_0109.xml</td>\n",
       "    </tr>\n",
       "    <tr>\n",
       "      <th>...</th>\n",
       "      <td>...</td>\n",
       "      <td>...</td>\n",
       "      <td>...</td>\n",
       "      <td>...</td>\n",
       "      <td>...</td>\n",
       "      <td>...</td>\n",
       "      <td>...</td>\n",
       "    </tr>\n",
       "    <tr>\n",
       "      <th>304</th>\n",
       "      <td>False</td>\n",
       "      <td>420V528</td>\n",
       "      <td>0</td>\n",
       "      <td>5 0</td>\n",
       "      <td>[(753, 615), (753, 581), (737, 598), (768, 598)]</td>\n",
       "      <td>ellipse</td>\n",
       "      <td>420V528_1782.xml</td>\n",
       "    </tr>\n",
       "    <tr>\n",
       "      <th>305</th>\n",
       "      <td>False</td>\n",
       "      <td>420V528</td>\n",
       "      <td>1</td>\n",
       "      <td>5 1</td>\n",
       "      <td>[(797, 565), (793, 528), (778, 549), (813, 546)]</td>\n",
       "      <td>ellipse</td>\n",
       "      <td>420V528_1782.xml</td>\n",
       "    </tr>\n",
       "    <tr>\n",
       "      <th>306</th>\n",
       "      <td>False</td>\n",
       "      <td>420V527</td>\n",
       "      <td>0</td>\n",
       "      <td>2</td>\n",
       "      <td>[(476, 446), (594, 446), (594, 588), (476, 588)]</td>\n",
       "      <td>box</td>\n",
       "      <td>420V527_1402.xml</td>\n",
       "    </tr>\n",
       "    <tr>\n",
       "      <th>307</th>\n",
       "      <td>False</td>\n",
       "      <td>420V531</td>\n",
       "      <td>0</td>\n",
       "      <td>0 0</td>\n",
       "      <td>[(368, 499), (370, 529), (354, 517), (388, 515)]</td>\n",
       "      <td>ellipse</td>\n",
       "      <td>420V531_0644.xml</td>\n",
       "    </tr>\n",
       "    <tr>\n",
       "      <th>308</th>\n",
       "      <td>False</td>\n",
       "      <td>420V517</td>\n",
       "      <td>0</td>\n",
       "      <td>0 0</td>\n",
       "      <td>[(293, 465), (286, 434), (276, 454), (307, 445)]</td>\n",
       "      <td>ellipse</td>\n",
       "      <td>420V517_0070.xml</td>\n",
       "    </tr>\n",
       "    <tr>\n",
       "      <th>309</th>\n",
       "      <td>False</td>\n",
       "      <td>420V517</td>\n",
       "      <td>1</td>\n",
       "      <td>0 1</td>\n",
       "      <td>[(249, 518), (245, 497), (238, 509), (256, 504)]</td>\n",
       "      <td>ellipse</td>\n",
       "      <td>420V517_0070.xml</td>\n",
       "    </tr>\n",
       "    <tr>\n",
       "      <th>310</th>\n",
       "      <td>False</td>\n",
       "      <td>420V517</td>\n",
       "      <td>0</td>\n",
       "      <td>6</td>\n",
       "      <td>[(353, 501), (450, 501), (450, 582), (353, 582)]</td>\n",
       "      <td>box</td>\n",
       "      <td>420V517_2854.xml</td>\n",
       "    </tr>\n",
       "    <tr>\n",
       "      <th>311</th>\n",
       "      <td>False</td>\n",
       "      <td>420V517</td>\n",
       "      <td>0</td>\n",
       "      <td>3 0</td>\n",
       "      <td>[(397, 134), (391, 182), (373, 155), (419, 160)]</td>\n",
       "      <td>ellipse</td>\n",
       "      <td>420V517_1385.xml</td>\n",
       "    </tr>\n",
       "    <tr>\n",
       "      <th>312</th>\n",
       "      <td>False</td>\n",
       "      <td>420V525</td>\n",
       "      <td>0</td>\n",
       "      <td>1</td>\n",
       "      <td>[(565, 440), (693, 440), (693, 541), (565, 541)]</td>\n",
       "      <td>box</td>\n",
       "      <td>420V525_0229.xml</td>\n",
       "    </tr>\n",
       "    <tr>\n",
       "      <th>313</th>\n",
       "      <td>False</td>\n",
       "      <td>420V501</td>\n",
       "      <td>0</td>\n",
       "      <td>f</td>\n",
       "      <td>[(148, 381), (290, 381), (290, 549), (148, 549)]</td>\n",
       "      <td>box</td>\n",
       "      <td>420V501_2891.xml</td>\n",
       "    </tr>\n",
       "    <tr>\n",
       "      <th>314</th>\n",
       "      <td>False</td>\n",
       "      <td>420V515</td>\n",
       "      <td>0</td>\n",
       "      <td>3 0</td>\n",
       "      <td>[(266, 298), (264, 330), (247, 311), (285, 318)]</td>\n",
       "      <td>ellipse</td>\n",
       "      <td>420V515_2581.xml</td>\n",
       "    </tr>\n",
       "    <tr>\n",
       "      <th>315</th>\n",
       "      <td>False</td>\n",
       "      <td>420V515</td>\n",
       "      <td>1</td>\n",
       "      <td>3 1</td>\n",
       "      <td>[(365, 307), (327, 326), (338, 296), (355, 340)]</td>\n",
       "      <td>ellipse</td>\n",
       "      <td>420V515_2581.xml</td>\n",
       "    </tr>\n",
       "    <tr>\n",
       "      <th>316</th>\n",
       "      <td>False</td>\n",
       "      <td>420V526</td>\n",
       "      <td>0</td>\n",
       "      <td>0</td>\n",
       "      <td>[(449, 389), (573, 389), (573, 507), (449, 507)]</td>\n",
       "      <td>box</td>\n",
       "      <td>420V526_0130.xml</td>\n",
       "    </tr>\n",
       "    <tr>\n",
       "      <th>317</th>\n",
       "      <td>False</td>\n",
       "      <td>420V509</td>\n",
       "      <td>0</td>\n",
       "      <td>4 0</td>\n",
       "      <td>[(528, 563), (528, 581), (517, 572), (536, 572)]</td>\n",
       "      <td>ellipse</td>\n",
       "      <td>420V509_1072.xml</td>\n",
       "    </tr>\n",
       "    <tr>\n",
       "      <th>318</th>\n",
       "      <td>False</td>\n",
       "      <td>420V513</td>\n",
       "      <td>0</td>\n",
       "      <td>2 1</td>\n",
       "      <td>[(223, 496), (225, 465), (209, 481), (241, 484)]</td>\n",
       "      <td>ellipse</td>\n",
       "      <td>420V513_3375.xml</td>\n",
       "    </tr>\n",
       "    <tr>\n",
       "      <th>319</th>\n",
       "      <td>False</td>\n",
       "      <td>420V527</td>\n",
       "      <td>0</td>\n",
       "      <td>4</td>\n",
       "      <td>[(123, 229), (372, 229), (372, 369), (123, 369)]</td>\n",
       "      <td>box</td>\n",
       "      <td>420V527_3388.xml</td>\n",
       "    </tr>\n",
       "    <tr>\n",
       "      <th>320</th>\n",
       "      <td>False</td>\n",
       "      <td>420V529</td>\n",
       "      <td>0</td>\n",
       "      <td>1 0</td>\n",
       "      <td>[(136, 481), (137, 519), (119, 503), (151, 500)]</td>\n",
       "      <td>ellipse</td>\n",
       "      <td>420V529_0919.xml</td>\n",
       "    </tr>\n",
       "    <tr>\n",
       "      <th>321</th>\n",
       "      <td>False</td>\n",
       "      <td>420V529</td>\n",
       "      <td>1</td>\n",
       "      <td>1 1</td>\n",
       "      <td>[(205, 499), (201, 550), (179, 524), (224, 525)]</td>\n",
       "      <td>ellipse</td>\n",
       "      <td>420V529_0919.xml</td>\n",
       "    </tr>\n",
       "    <tr>\n",
       "      <th>322</th>\n",
       "      <td>False</td>\n",
       "      <td>420V517</td>\n",
       "      <td>0</td>\n",
       "      <td>2</td>\n",
       "      <td>[(551, 423), (681, 423), (681, 539), (551, 539)]</td>\n",
       "      <td>box</td>\n",
       "      <td>420V517_0844.xml</td>\n",
       "    </tr>\n",
       "    <tr>\n",
       "      <th>323</th>\n",
       "      <td>False</td>\n",
       "      <td>420V529</td>\n",
       "      <td>0</td>\n",
       "      <td>2</td>\n",
       "      <td>[(217, 389), (360, 389), (360, 571), (217, 571)]</td>\n",
       "      <td>box</td>\n",
       "      <td>420V529_2883.xml</td>\n",
       "    </tr>\n",
       "    <tr>\n",
       "      <th>324</th>\n",
       "      <td>False</td>\n",
       "      <td>420V502</td>\n",
       "      <td>0</td>\n",
       "      <td>3</td>\n",
       "      <td>[(309, 362), (388, 362), (388, 468), (309, 468)]</td>\n",
       "      <td>box</td>\n",
       "      <td>420V502_1514.xml</td>\n",
       "    </tr>\n",
       "    <tr>\n",
       "      <th>325</th>\n",
       "      <td>False</td>\n",
       "      <td>420V508</td>\n",
       "      <td>0</td>\n",
       "      <td>2 0</td>\n",
       "      <td>[(573, 580), (563, 614), (553, 592), (584, 601)]</td>\n",
       "      <td>ellipse</td>\n",
       "      <td>420V508_1488.xml</td>\n",
       "    </tr>\n",
       "    <tr>\n",
       "      <th>326</th>\n",
       "      <td>False</td>\n",
       "      <td>420V508</td>\n",
       "      <td>1</td>\n",
       "      <td>2 1</td>\n",
       "      <td>[(592, 539), (589, 570), (569, 553), (611, 559)]</td>\n",
       "      <td>ellipse</td>\n",
       "      <td>420V508_1488.xml</td>\n",
       "    </tr>\n",
       "    <tr>\n",
       "      <th>327</th>\n",
       "      <td>False</td>\n",
       "      <td>420V524</td>\n",
       "      <td>0</td>\n",
       "      <td>3</td>\n",
       "      <td>[(780, 395), (841, 395), (841, 463), (780, 463)]</td>\n",
       "      <td>box</td>\n",
       "      <td>420V524_3084.xml</td>\n",
       "    </tr>\n",
       "    <tr>\n",
       "      <th>328</th>\n",
       "      <td>False</td>\n",
       "      <td>420V508</td>\n",
       "      <td>0</td>\n",
       "      <td>1</td>\n",
       "      <td>[(391, 244), (482, 244), (482, 329), (391, 329)]</td>\n",
       "      <td>box</td>\n",
       "      <td>420V508_0741.xml</td>\n",
       "    </tr>\n",
       "    <tr>\n",
       "      <th>329</th>\n",
       "      <td>False</td>\n",
       "      <td>420V518</td>\n",
       "      <td>0</td>\n",
       "      <td>5 0</td>\n",
       "      <td>[(486, 604), (481, 577), (470, 593), (498, 589)]</td>\n",
       "      <td>ellipse</td>\n",
       "      <td>420V518_2519.xml</td>\n",
       "    </tr>\n",
       "    <tr>\n",
       "      <th>330</th>\n",
       "      <td>False</td>\n",
       "      <td>420V518</td>\n",
       "      <td>1</td>\n",
       "      <td>5 1</td>\n",
       "      <td>[(409, 565), (411, 586), (401, 576), (424, 575)]</td>\n",
       "      <td>ellipse</td>\n",
       "      <td>420V518_2519.xml</td>\n",
       "    </tr>\n",
       "    <tr>\n",
       "      <th>331</th>\n",
       "      <td>False</td>\n",
       "      <td>420V518</td>\n",
       "      <td>2</td>\n",
       "      <td>5 2</td>\n",
       "      <td>[(384, 550), (383, 569), (374, 560), (397, 561)]</td>\n",
       "      <td>ellipse</td>\n",
       "      <td>420V518_2519.xml</td>\n",
       "    </tr>\n",
       "    <tr>\n",
       "      <th>332</th>\n",
       "      <td>False</td>\n",
       "      <td>420V510</td>\n",
       "      <td>0</td>\n",
       "      <td>1 1</td>\n",
       "      <td>[(576, 588), (578, 611), (566, 602), (590, 599)]</td>\n",
       "      <td>ellipse</td>\n",
       "      <td>420V510_1493.xml</td>\n",
       "    </tr>\n",
       "    <tr>\n",
       "      <th>333</th>\n",
       "      <td>False</td>\n",
       "      <td>420V531</td>\n",
       "      <td>0</td>\n",
       "      <td>0 3</td>\n",
       "      <td>[(77, 344), (69, 409), (39, 374), (105, 380)]</td>\n",
       "      <td>ellipse</td>\n",
       "      <td>420V531_0692.xml</td>\n",
       "    </tr>\n",
       "  </tbody>\n",
       "</table>\n",
       "<p>334 rows × 7 columns</p>\n",
       "</div>"
      ],
      "text/plain": [
       "     difficult      dir  index label  \\\n",
       "0        False  420V527      0   1 0   \n",
       "1        False  420V517      0   0 3   \n",
       "2        False  420V527      0   3 0   \n",
       "3        False  420V527      1   3 1   \n",
       "4        False  420V502      0     1   \n",
       "5        False  420V518      0   3 0   \n",
       "6        False  420V518      1   3 1   \n",
       "7        False  420V522      0     2   \n",
       "8        False  420V503      0   2 1   \n",
       "9        False  420V511      0   5 0   \n",
       "10       False  420V511      0   5 1   \n",
       "11       False  420V511      1     6   \n",
       "12       False  420V525      0     0   \n",
       "13       False  420V527      0   0 0   \n",
       "14       False  420V518      0   4 1   \n",
       "15       False  420V502      0   3 1   \n",
       "16       False  420V522      0   4 1   \n",
       "17       False  420V522      0     4   \n",
       "18       False  420V517      0   3 1   \n",
       "19       False  420V518      0     5   \n",
       "20       False  420V527      0     1   \n",
       "21       False  420V530      0   4 0   \n",
       "22       False  420V526      0   3 0   \n",
       "23       False  420V519      0     1   \n",
       "24       False  420V517      0     3   \n",
       "25       False  420V529      0   2 1   \n",
       "26       False  420V517      0   2 1   \n",
       "27       False  420V503      0     1   \n",
       "28       False  420V514      0   2 1   \n",
       "29       False  420V522      0     0   \n",
       "..         ...      ...    ...   ...   \n",
       "304      False  420V528      0   5 0   \n",
       "305      False  420V528      1   5 1   \n",
       "306      False  420V527      0     2   \n",
       "307      False  420V531      0   0 0   \n",
       "308      False  420V517      0   0 0   \n",
       "309      False  420V517      1   0 1   \n",
       "310      False  420V517      0     6   \n",
       "311      False  420V517      0   3 0   \n",
       "312      False  420V525      0     1   \n",
       "313      False  420V501      0     f   \n",
       "314      False  420V515      0   3 0   \n",
       "315      False  420V515      1   3 1   \n",
       "316      False  420V526      0     0   \n",
       "317      False  420V509      0   4 0   \n",
       "318      False  420V513      0   2 1   \n",
       "319      False  420V527      0     4   \n",
       "320      False  420V529      0   1 0   \n",
       "321      False  420V529      1   1 1   \n",
       "322      False  420V517      0     2   \n",
       "323      False  420V529      0     2   \n",
       "324      False  420V502      0     3   \n",
       "325      False  420V508      0   2 0   \n",
       "326      False  420V508      1   2 1   \n",
       "327      False  420V524      0     3   \n",
       "328      False  420V508      0     1   \n",
       "329      False  420V518      0   5 0   \n",
       "330      False  420V518      1   5 1   \n",
       "331      False  420V518      2   5 2   \n",
       "332      False  420V510      0   1 1   \n",
       "333      False  420V531      0   0 3   \n",
       "\n",
       "                                                points shapeType  \\\n",
       "0     [(451, 427), (484, 537), (418, 495), (510, 472)]   ellipse   \n",
       "1       [(100, 279), (82, 194), (37, 251), (139, 224)]   ellipse   \n",
       "2      [(178, 344), (102, 442), (98, 376), (176, 420)]   ellipse   \n",
       "3     [(236, 440), (234, 525), (192, 486), (277, 487)]   ellipse   \n",
       "4     [(564, 388), (707, 388), (707, 448), (564, 448)]       box   \n",
       "5     [(532, 432), (540, 459), (522, 448), (554, 440)]   ellipse   \n",
       "6     [(523, 500), (512, 474), (503, 492), (530, 482)]   ellipse   \n",
       "7     [(334, 487), (458, 487), (458, 551), (334, 551)]       box   \n",
       "8     [(603, 556), (580, 587), (577, 560), (605, 584)]   ellipse   \n",
       "9     [(311, 515), (309, 549), (291, 531), (328, 534)]   ellipse   \n",
       "10    [(375, 478), (373, 504), (362, 491), (388, 494)]   ellipse   \n",
       "11    [(166, 415), (258, 415), (258, 478), (166, 478)]       box   \n",
       "12    [(256, 444), (350, 444), (350, 526), (256, 526)]       box   \n",
       "13    [(195, 504), (195, 534), (183, 519), (208, 520)]   ellipse   \n",
       "14    [(380, 552), (385, 516), (365, 530), (402, 537)]   ellipse   \n",
       "15    [(294, 422), (302, 383), (277, 397), (319, 406)]   ellipse   \n",
       "16        [(70, 167), (68, 210), (45, 190), (93, 190)]   ellipse   \n",
       "17    [(154, 257), (235, 257), (235, 399), (154, 399)]       box   \n",
       "18    [(369, 211), (367, 186), (354, 199), (382, 197)]   ellipse   \n",
       "19    [(402, 548), (500, 548), (500, 604), (402, 604)]       box   \n",
       "20    [(574, 379), (697, 379), (697, 528), (574, 528)]       box   \n",
       "21    [(343, 489), (339, 537), (318, 511), (366, 517)]   ellipse   \n",
       "22   [(1004, 642), (987, 674), (975, 648), (1010, 6...   ellipse   \n",
       "23    [(192, 466), (262, 466), (262, 539), (192, 539)]       box   \n",
       "24    [(423, 190), (544, 190), (544, 244), (423, 244)]       box   \n",
       "25    [(166, 475), (127, 504), (130, 466), (160, 510)]   ellipse   \n",
       "26    [(355, 406), (356, 479), (318, 444), (389, 443)]   ellipse   \n",
       "27    [(264, 126), (416, 126), (416, 228), (264, 228)]       box   \n",
       "28    [(523, 540), (517, 568), (508, 552), (531, 557)]   ellipse   \n",
       "29    [(265, 494), (352, 494), (352, 562), (265, 562)]       box   \n",
       "..                                                 ...       ...   \n",
       "304   [(753, 615), (753, 581), (737, 598), (768, 598)]   ellipse   \n",
       "305   [(797, 565), (793, 528), (778, 549), (813, 546)]   ellipse   \n",
       "306   [(476, 446), (594, 446), (594, 588), (476, 588)]       box   \n",
       "307   [(368, 499), (370, 529), (354, 517), (388, 515)]   ellipse   \n",
       "308   [(293, 465), (286, 434), (276, 454), (307, 445)]   ellipse   \n",
       "309   [(249, 518), (245, 497), (238, 509), (256, 504)]   ellipse   \n",
       "310   [(353, 501), (450, 501), (450, 582), (353, 582)]       box   \n",
       "311   [(397, 134), (391, 182), (373, 155), (419, 160)]   ellipse   \n",
       "312   [(565, 440), (693, 440), (693, 541), (565, 541)]       box   \n",
       "313   [(148, 381), (290, 381), (290, 549), (148, 549)]       box   \n",
       "314   [(266, 298), (264, 330), (247, 311), (285, 318)]   ellipse   \n",
       "315   [(365, 307), (327, 326), (338, 296), (355, 340)]   ellipse   \n",
       "316   [(449, 389), (573, 389), (573, 507), (449, 507)]       box   \n",
       "317   [(528, 563), (528, 581), (517, 572), (536, 572)]   ellipse   \n",
       "318   [(223, 496), (225, 465), (209, 481), (241, 484)]   ellipse   \n",
       "319   [(123, 229), (372, 229), (372, 369), (123, 369)]       box   \n",
       "320   [(136, 481), (137, 519), (119, 503), (151, 500)]   ellipse   \n",
       "321   [(205, 499), (201, 550), (179, 524), (224, 525)]   ellipse   \n",
       "322   [(551, 423), (681, 423), (681, 539), (551, 539)]       box   \n",
       "323   [(217, 389), (360, 389), (360, 571), (217, 571)]       box   \n",
       "324   [(309, 362), (388, 362), (388, 468), (309, 468)]       box   \n",
       "325   [(573, 580), (563, 614), (553, 592), (584, 601)]   ellipse   \n",
       "326   [(592, 539), (589, 570), (569, 553), (611, 559)]   ellipse   \n",
       "327   [(780, 395), (841, 395), (841, 463), (780, 463)]       box   \n",
       "328   [(391, 244), (482, 244), (482, 329), (391, 329)]       box   \n",
       "329   [(486, 604), (481, 577), (470, 593), (498, 589)]   ellipse   \n",
       "330   [(409, 565), (411, 586), (401, 576), (424, 575)]   ellipse   \n",
       "331   [(384, 550), (383, 569), (374, 560), (397, 561)]   ellipse   \n",
       "332   [(576, 588), (578, 611), (566, 602), (590, 599)]   ellipse   \n",
       "333      [(77, 344), (69, 409), (39, 374), (105, 380)]   ellipse   \n",
       "\n",
       "          xmlfilename  \n",
       "0    420V527_1418.xml  \n",
       "1    420V517_0097.xml  \n",
       "2    420V527_1815.xml  \n",
       "3    420V527_1815.xml  \n",
       "4    420V502_0161.xml  \n",
       "5    420V518_2312.xml  \n",
       "6    420V518_2312.xml  \n",
       "7    420V522_1566.xml  \n",
       "8    420V503_3044.xml  \n",
       "9    420V511_2791.xml  \n",
       "10   420V511_2790.xml  \n",
       "11   420V511_2790.xml  \n",
       "12   420V525_0146.xml  \n",
       "13   420V527_0303.xml  \n",
       "14   420V518_2475.xml  \n",
       "15   420V502_1530.xml  \n",
       "16   420V522_2898.xml  \n",
       "17   420V522_2873.xml  \n",
       "18   420V517_1377.xml  \n",
       "19   420V518_2501.xml  \n",
       "20   420V527_1343.xml  \n",
       "21   420V530_1569.xml  \n",
       "22   420V526_2890.xml  \n",
       "23   420V519_2932.xml  \n",
       "24   420V517_1361.xml  \n",
       "25   420V529_2912.xml  \n",
       "26   420V517_0902.xml  \n",
       "27   420V503_2832.xml  \n",
       "28   420V514_3451.xml  \n",
       "29   420V522_0109.xml  \n",
       "..                ...  \n",
       "304  420V528_1782.xml  \n",
       "305  420V528_1782.xml  \n",
       "306  420V527_1402.xml  \n",
       "307  420V531_0644.xml  \n",
       "308  420V517_0070.xml  \n",
       "309  420V517_0070.xml  \n",
       "310  420V517_2854.xml  \n",
       "311  420V517_1385.xml  \n",
       "312  420V525_0229.xml  \n",
       "313  420V501_2891.xml  \n",
       "314  420V515_2581.xml  \n",
       "315  420V515_2581.xml  \n",
       "316  420V526_0130.xml  \n",
       "317  420V509_1072.xml  \n",
       "318  420V513_3375.xml  \n",
       "319  420V527_3388.xml  \n",
       "320  420V529_0919.xml  \n",
       "321  420V529_0919.xml  \n",
       "322  420V517_0844.xml  \n",
       "323  420V529_2883.xml  \n",
       "324  420V502_1514.xml  \n",
       "325  420V508_1488.xml  \n",
       "326  420V508_1488.xml  \n",
       "327  420V524_3084.xml  \n",
       "328  420V508_0741.xml  \n",
       "329  420V518_2519.xml  \n",
       "330  420V518_2519.xml  \n",
       "331  420V518_2519.xml  \n",
       "332  420V510_1493.xml  \n",
       "333  420V531_0692.xml  \n",
       "\n",
       "[334 rows x 7 columns]"
      ]
     },
     "execution_count": 126,
     "metadata": {},
     "output_type": "execute_result"
    }
   ],
   "source": [
    "xmls = []\n",
    "for index, (dirpath, dirnames, filenames) in enumerate(os.walk(DIR)):\n",
    "    xmls.extend(list(map(lambda s: os.path.join(dirpath, s), filter(lambda s: True if s.endswith(\".xml\") else False, filenames))))\n",
    "\n",
    "easy_track_df = pd.DataFrame()\n",
    "for xml in xmls:\n",
    "    tVocParseReader = PascalVocReader(xml)\n",
    "    shapes = tVocParseReader.getShapes()\n",
    "    \n",
    "    xmlfilename = os.path.basename(xml)\n",
    "    *dir_, _ = xml.split('_')\n",
    "    dir_ = os.path.basename(\"_\".join(dir_)) if isinstance(dir_, (list, tuple)) else os.path.basename(dir_)\n",
    "    \n",
    "    i_easytrack = 0\n",
    "    for shape in shapes:\n",
    "        shapeType, label, points, _, _, difficult = shape\n",
    "        if label not in labelHist:\n",
    "            easy_track_df = easy_track_df.append([{\n",
    "                    'dir':dir_,\n",
    "                    'xmlfilename':xmlfilename, \n",
    "                    'index':i_easytrack, \n",
    "                    'label':label,\n",
    "                    'shapeType':shapeType,\n",
    "                    'points':points,\n",
    "                    'difficult':difficult}],\n",
    "                    ignore_index= True)\n",
    "            i_easytrack += 1\n",
    "\n",
    "easy_track_df.sort_values(by=[\"dir\", \"xmlfilename\", \"label\"]).reindex(range(len(easy_track_df)))"
   ]
  },
  {
   "cell_type": "code",
   "execution_count": 135,
   "metadata": {},
   "outputs": [],
   "source": [
    "import pprint"
   ]
  },
  {
   "cell_type": "code",
   "execution_count": 163,
   "metadata": {},
   "outputs": [
    {
     "name": "stdout",
     "output_type": "stream",
     "text": [
      "broken_info_dict:\n",
      "\n",
      "{2: [(31.064449134018133, 54.56569422441064),\n",
      "     (28.30997928279275, 23.762279072966916),\n",
      "     (39.42080668885405, 28.62136473588817),\n",
      "     (33.179506450237, 41.35294171166256),\n",
      "     (36.15288351744291, 29.60716602500896),\n",
      "     (32.60295940970196, 71.55970202935703),\n",
      "     (42.27319083696467, 42.21535025668886),\n",
      "     (31.61423499187059, 17.94505067594105),\n",
      "     (48.600413698702226, 44.215338556649094),\n",
      "     (38.420879057281915, 17.714111282231546),\n",
      "     (42.037183342487005, 25.943975986440197),\n",
      "     (62.52074301517069, 59.62518886132507),\n",
      "     (25.775266397536342, 51.37235067047306),\n",
      "     (33.8231724263946, 36.35055615437973),\n",
      "     (32.56879129411516, 25.000063999754243),\n",
      "     (25.298607292734236, 31.004060831361237),\n",
      "     (18.49324200890693, 36.81834158857632),\n",
      "     (68.12893265535803, 56.55179651709104),\n",
      "     (30.496782812075665, 23.63038343886484),\n",
      "     (32.984845004941285, 58.532047493412634),\n",
      "     (24.673116534791628, 15.883499378271265),\n",
      "     (22.540252621054382, 21.817664954934607),\n",
      "     (23.220288273969555, 51.19669968167213),\n",
      "     (17.54659780973714, 32.754409490225335),\n",
      "     (38.45407207230344, 16.04146451298261),\n",
      "     (35.5571383627299, 26.124613322115646),\n",
      "     (31.979778203180288, 34.18325259868199),\n",
      "     (25.624154406717178, 31.59780457215638),\n",
      "     (23.711341418714042, 25.96156712050562),\n",
      "     (35.19761451645031, 44.76636232065605),\n",
      "     (33.98915622192614, 29.86149750533973),\n",
      "     (36.42215541991174, 33.967284379951195),\n",
      "     (37.89929421121721, 50.2910881504718),\n",
      "     (34.15131864672289, 26.666811522257195),\n",
      "     (44.5982316066697, 72.00000267918367),\n",
      "     (47.31056462893105, 26.53348012827448),\n",
      "     (28.982753492378876, 43.16372725608434),\n",
      "     (19.910019583612023, 16.506670828935267),\n",
      "     (30.477231976116254, 28.5103935991412),\n",
      "     (26.026728214860004, 36.9951474078362),\n",
      "     (26.62812649074459, 18.0),\n",
      "     (60.09483280186456, 61.8793793311169),\n",
      "     (23.45207879911715, 47.77449593997865),\n",
      "     (30.2961865854665, 46.59774963605713),\n",
      "     (24.69190323177277, 32.89716761025997),\n",
      "     (19.39582651292627, 25.58976079011978),\n",
      "     (31.303362521516068, 22.98821729879091),\n",
      "     (19.5869414769114, 29.443884389716313),\n",
      "     (78.20900687037545, 45.455817581503965),\n",
      "     (57.68191249926651, 31.032207835643312),\n",
      "     (20.24737255078314, 20.283688052020224),\n",
      "     (31.60030047904307, 35.45412287657389),\n",
      "     (46.35743091049401, 65.83610476800506),\n",
      "     (21.81744830219632, 29.156212059561756),\n",
      "     (20.66627294031121, 20.66627294031121),\n",
      "     (47.4531271949007, 46.5643227106368),\n",
      "     (61.40944007116659, 80.09144465314986),\n",
      "     (36.824626220853865, 30.77714756002709),\n",
      "     (38.95593017960469, 39.99034806957091),\n",
      "     (27.39707575986547, 37.47223079971489),\n",
      "     (104.35880932875588, 67.51806636234467),\n",
      "     (32.46536616149585, 36.156903760724454),\n",
      "     (34.95361047732415, 47.9855846895156),\n",
      "     (45.18832071485946, 63.4396302547051),\n",
      "     (48.26985126011589, 27.477564595681773),\n",
      "     (87.5017299778483, 117.35032723654774)],\n",
      " 3: [(31.040277582219417, 32.93933818400121, 14.358108555129503),\n",
      "     (49.030636624305814, 52.1856253586855, 23.99183973374765),\n",
      "     (28.74173207152572, 25.01686293082037, 42.50280350846226),\n",
      "     (43.60769288793959, 57.07889277132134, 23.273876627934335),\n",
      "     (27.86861161877111, 22.037329748940163, 20.928885886720572),\n",
      "     (33.041168688022466, 22.13017920215368, 28.84546229308034),\n",
      "     (37.71281355209658, 35.365313528424885, 35.32398101984876)],\n",
      " 4: [(22.949782350045638,\n",
      "      20.267251613645534,\n",
      "      15.491933384829668,\n",
      "      37.353800582536024),\n",
      "     (32.56216777696346,\n",
      "      21.02379604162864,\n",
      "      14.841658544095019,\n",
      "      14.1845476362585),\n",
      "     (37.7295212259835,\n",
      "      40.34528846682821,\n",
      "      18.04373608546728,\n",
      "      14.072682754855395),\n",
      "     (9.42413992068762,\n",
      "      42.82027255342763,\n",
      "      6.955109380145743,\n",
      "      81.80562078269163),\n",
      "     (19.53718132225612,\n",
      "      17.74823934929885,\n",
      "      6.324555320336759,\n",
      "      6.955109380145743),\n",
      "     (32.02928716157963,\n",
      "      19.98413738829273,\n",
      "      86.52988222057941,\n",
      "      95.74705143911883),\n",
      "     (26.575470258241346,\n",
      "      26.391011024167412,\n",
      "      9.9498743710662,\n",
      "      10.981735174982626),\n",
      "     (25.721607420026523,\n",
      "      11.33196341945808,\n",
      "      42.05996553128383,\n",
      "      59.48679796480602),\n",
      "     (105.38594056437783,\n",
      "      85.01470369497571,\n",
      "      36.50323818073084,\n",
      "      60.629282985794866),\n",
      "     (51.384028180140014,\n",
      "      50.87407547430132,\n",
      "      54.30504717130979,\n",
      "      32.04878511421298),\n",
      "     (32.00048827007453,\n",
      "      17.892909541816906,\n",
      "      14.507451509387192,\n",
      "      65.88015228951203)],\n",
      " 6: [(35.22782990761707,\n",
      "      15.589051215931764,\n",
      "      14.742090873254648,\n",
      "      13.736070130904693,\n",
      "      21.550657402107287,\n",
      "      35.811975138918434),\n",
      "     (11.022657174613563,\n",
      "      8.544404542961196,\n",
      "      8.06225774829855,\n",
      "      10.514210946729659,\n",
      "      36.48287784231594,\n",
      "      47.48686129409404)],\n",
      " 7: [(18.658607893224012,\n",
      "      9.625761012989468,\n",
      "      8.54400374531753,\n",
      "      13.527850243850311,\n",
      "      16.28026921196242,\n",
      "      32.90095886678457,\n",
      "      60.30543071056598)]}\n"
     ]
    }
   ],
   "source": [
    "ShapeObj = namedtuple('ShapeObj', ['subdir', 'label', 'shape'])\n",
    "shape_obj_list = []\n",
    "shape_obj_dict_list = []\n",
    "\n",
    "subdirs = sorted(list(easy_track_df.dir.value_counts().keys()))\n",
    "\n",
    "for i_subdir, subdir in enumerate(subdirs):\n",
    "    tmp_sub_df = easy_track_df[easy_track_df[\"dir\"] == subdir].sort_values(by=\"label\")\n",
    "#     display(tmp_sub_df)\n",
    "    shape_obj_list_tmp = []\n",
    "    \n",
    "    for i, row in tmp_sub_df.iterrows():\n",
    "        subdir = row.dir\n",
    "        xmlfilename = row.xmlfilename\n",
    "        shapeType = row.shapeType\n",
    "        label = row.label.lower().strip()\n",
    "        points = row.points\n",
    "        difficult = row.difficult\n",
    "        shapeFac = shapeFactory()\n",
    "        shapeFac.setType(shapeType)\n",
    "        shape = shapeFac.getShape()\n",
    "        shape.points = [QPointF(*xy) for xy in points]\n",
    "        shape.label = label\n",
    "        shape.difficult = difficult\n",
    "        shape.close()\n",
    "        \n",
    "        shape_obj = ShapeObj(subdir, label, shape)\n",
    "        shape_obj_list_tmp.append(shape_obj)\n",
    "        \n",
    "#     pprint.pprint(shape_obj_list_tmp)\n",
    "#     ls = [ShapeObj(s.label.lower().strip(), s.shape) for s in shape_obj_list]\n",
    "    # ls = list(map(lambda s: ShapeObj(s.i_img, s.label.lower().strip(), s.shape), ls))\n",
    "#     ls.sort(key=lambda s: s.label)\n",
    "    shape_obj_dict = OrderedDict()\n",
    "    for shape in shape_obj_list_tmp:\n",
    "        just_found_one = False\n",
    "        key = \" \"\n",
    "        if \" \" not in shape.label:\n",
    "            key = shape.label\n",
    "            shape_obj_dict[key] = []\n",
    "            just_found_one = True\n",
    "        if shape.label.split(\" \", 1)[0] in shape_obj_dict.keys():\n",
    "            if not just_found_one:\n",
    "                shape_obj_dict[shape.label.split(\" \", 1)[0]].append(shape)\n",
    "            \n",
    "#     pprint.pprint(shape_obj_dict)\n",
    "    # 去除字典中小于1个的情况\n",
    "    to_del = []\n",
    "    for key,value in shape_obj_dict.items():\n",
    "        if len(value) <= 1:\n",
    "#             shape_obj_dict.pop(key)\n",
    "            to_del.append(key)\n",
    "    for key in to_del:\n",
    "        shape_obj_dict.pop(key)\n",
    "#     pprint.pprint(shape_obj_dict)\n",
    "    \n",
    "    shape_obj_list.extend(shape_obj_list_tmp)\n",
    "    shape_obj_dict_list.append(shape_obj_dict)\n",
    "#     if i_subdir == 2:\n",
    "#         break\n",
    "        \n",
    "# pprint.pprint(shape_obj_list)\n",
    "# pprint.pprint(shape_obj_dict_list)\n",
    "\n",
    "broken_info_dict = dict()\n",
    "for shape_obj_dict_tmp in shape_obj_dict_list:\n",
    "    for _, shape_objs in shape_obj_dict_tmp.items():\n",
    "        n_break = len(shape_objs)\n",
    "        diameters = tuple(shape_obj.shape.getDiameter() for shape_obj in shape_objs)\n",
    "        if n_break in broken_info_dict.keys():\n",
    "            broken_info_dict[n_break].append(diameters)\n",
    "        else:\n",
    "            broken_info_dict[n_break] = [diameters]\n",
    "print(\"broken_info_dict:\\n\")\n",
    "pprint.pprint(broken_info_dict)"
   ]
  },
  {
   "cell_type": "code",
   "execution_count": 166,
   "metadata": {},
   "outputs": [
    {
     "name": "stdout",
     "output_type": "stream",
     "text": [
      "4\n",
      "    diameter 1  diameter 2  diameter 3  diameter 4  diameter of mother drop  \\\n",
      "0    22.949782   20.267252   15.491933   37.353801                42.404732   \n",
      "1    32.562168   21.023796   14.841659   14.184548                36.825870   \n",
      "2    37.729521   40.345288   18.043736   14.072683                50.402342   \n",
      "3     9.424140   42.820273    6.955109   81.805621                85.596447   \n",
      "4    19.537181   17.748239    6.324555    6.955109                23.891578   \n",
      "5    32.029287   19.984137   86.529882   95.747051               116.138300   \n",
      "6    26.575470   26.391011    9.949874   10.981735                34.044765   \n",
      "7    25.721607   11.331963   42.059966   59.486798                67.193995   \n",
      "8   105.385941   85.014704   36.503238   60.629283               127.165234   \n",
      "9    51.384028   50.874075   54.305047   32.048785                77.217174   \n",
      "10   32.000488   17.892910   14.507452   65.880152                68.928163   \n",
      "\n",
      "    diameter 1 frac  diameter 2 frac  diameter 3 frac  diameter 4 frac  \n",
      "0          0.158523         0.109180         0.048761         0.683536  \n",
      "1          0.691323         0.186069         0.065462         0.057146  \n",
      "2          0.419461         0.512892         0.045880         0.021766  \n",
      "3          0.001335         0.125193         0.000536         0.872936  \n",
      "4          0.546829         0.409950         0.018550         0.024670  \n",
      "5          0.020976         0.005095         0.413592         0.560338  \n",
      "6          0.475655         0.465819         0.024963         0.033563  \n",
      "7          0.056092         0.004796         0.245254         0.693858  \n",
      "8          0.569171         0.298797         0.023653         0.108378  \n",
      "9          0.294675         0.285988         0.347839         0.071498  \n",
      "10         0.100064         0.017493         0.009324         0.873119  \n",
      "2\n",
      "    diameter 1  diameter 2  diameter of mother drop  diameter 1 frac  \\\n",
      "0    31.064449   54.565694                57.734209         0.155773   \n",
      "1    28.309979   23.762279                33.051785         0.628397   \n",
      "2    39.420807   28.621365                43.917555         0.723206   \n",
      "3    33.179506   41.352942                47.510490         0.340597   \n",
      "4    36.152884   29.607166                41.832690         0.645478   \n",
      "5    32.602959   71.559702                73.747967         0.086401   \n",
      "6    42.273191   42.215350                53.224471         0.501027   \n",
      "7    31.614235   17.945051                33.434687         0.845388   \n",
      "8    48.600414   44.215339                58.600480         0.570448   \n",
      "9    38.420879   17.714111                39.637140         0.910741   \n",
      "10   42.037183   25.943976                45.102249         0.809667   \n",
      "11   62.520743   59.625189                76.990332         0.535505   \n",
      "12   25.775266   51.372351                53.450052         0.112141   \n",
      "13   33.823172   36.350556                44.263948         0.446162   \n",
      "14   32.568791   25.000064                36.882434         0.688567   \n",
      "15   25.298607   31.004061                35.829002         0.352035   \n",
      "16   18.493242   36.818342                38.312128         0.112468   \n",
      "17   68.128933   56.551797                79.215380         0.636160   \n",
      "18   30.496783   23.630383                34.638104         0.682495   \n",
      "19   32.984845   58.532047                61.833959         0.151797   \n",
      "20   24.673117   15.883499                26.696767         0.789398   \n",
      "21   22.540253   21.817665                27.951150         0.524418   \n",
      "22   23.220288   51.196700                52.741800         0.085337   \n",
      "23   17.546598   32.754409                34.353552         0.133249   \n",
      "24   38.454072   16.041465                39.362942         0.932319   \n",
      "25   35.557138   26.124613                39.745294         0.716017   \n",
      "26   31.979778   34.183253                41.726275         0.450192   \n",
      "27   25.624154   31.597805                36.436223         0.347815   \n",
      "28   23.711341   25.961567                31.356057         0.432418   \n",
      "29   35.197615   44.766362                51.085382         0.327077   \n",
      "..         ...         ...                      ...              ...   \n",
      "36   28.982753   43.163727                47.141594         0.232384   \n",
      "37   19.910020   16.506671                23.139719         0.637002   \n",
      "38   30.477232   28.510394                37.201143         0.549867   \n",
      "39   26.026728   36.995147                40.869171         0.258268   \n",
      "40   26.628126   18.000000                29.127800         0.764010   \n",
      "41   60.094833   61.879379                76.855383         0.478067   \n",
      "42   23.452079   47.774496                49.588526         0.105779   \n",
      "43   30.296187   46.597750                50.526132         0.215584   \n",
      "44   24.691903   32.897168                37.000852         0.297186   \n",
      "45   19.395827   25.589761                28.866515         0.303348   \n",
      "46   31.303363   22.988217                34.985706         0.716310   \n",
      "47   19.586941   29.443884                32.088507         0.227432   \n",
      "48   78.209007   45.455818                83.024779         0.835886   \n",
      "49   57.681912   31.032208                60.532609         0.865268   \n",
      "50   20.247373   20.283688                25.532989         0.498656   \n",
      "51   31.600300   35.454123                42.380712         0.414542   \n",
      "52   46.357431   65.836105                72.746741         0.258772   \n",
      "53   21.817448   29.156212                32.763655         0.295281   \n",
      "54   20.666273   20.666273                26.037872         0.500000   \n",
      "55   47.453127   46.564323                59.232575         0.514177   \n",
      "56   61.409440   80.091445                90.667469         0.310707   \n",
      "57   36.824626   30.777148                42.924561         0.631390   \n",
      "58   38.955930   39.990348                49.741576         0.480355   \n",
      "59   27.397076   37.472231                41.828010         0.281003   \n",
      "60  104.358809   67.518066               113.037676         0.786897   \n",
      "61   32.465366   36.156904                43.354062         0.419925   \n",
      "62   34.953610   47.985585                53.507774         0.278757   \n",
      "63   45.188321   63.439630                70.311006         0.265466   \n",
      "64   48.269851   27.477565                51.072016         0.844265   \n",
      "65   87.501730  117.350327               131.732328         0.293071   \n",
      "\n",
      "    diameter 2 frac  \n",
      "0          0.844227  \n",
      "1          0.371603  \n",
      "2          0.276794  \n",
      "3          0.659403  \n",
      "4          0.354522  \n",
      "5          0.913599  \n",
      "6          0.498973  \n",
      "7          0.154612  \n",
      "8          0.429552  \n",
      "9          0.089259  \n",
      "10         0.190333  \n",
      "11         0.464495  \n",
      "12         0.887859  \n",
      "13         0.553838  \n",
      "14         0.311433  \n",
      "15         0.647965  \n",
      "16         0.887532  \n",
      "17         0.363840  \n",
      "18         0.317505  \n",
      "19         0.848203  \n",
      "20         0.210602  \n",
      "21         0.475582  \n",
      "22         0.914663  \n",
      "23         0.866751  \n",
      "24         0.067681  \n",
      "25         0.283983  \n",
      "26         0.549808  \n",
      "27         0.652185  \n",
      "28         0.567582  \n",
      "29         0.672923  \n",
      "..              ...  \n",
      "36         0.767616  \n",
      "37         0.362998  \n",
      "38         0.450133  \n",
      "39         0.741732  \n",
      "40         0.235990  \n",
      "41         0.521933  \n",
      "42         0.894221  \n",
      "43         0.784416  \n",
      "44         0.702814  \n",
      "45         0.696652  \n",
      "46         0.283690  \n",
      "47         0.772568  \n",
      "48         0.164114  \n",
      "49         0.134732  \n",
      "50         0.501344  \n",
      "51         0.585458  \n",
      "52         0.741228  \n",
      "53         0.704719  \n",
      "54         0.500000  \n",
      "55         0.485823  \n",
      "56         0.689293  \n",
      "57         0.368610  \n",
      "58         0.519645  \n",
      "59         0.718997  \n",
      "60         0.213103  \n",
      "61         0.580075  \n",
      "62         0.721243  \n",
      "63         0.734534  \n",
      "64         0.155735  \n",
      "65         0.706929  \n",
      "\n",
      "[66 rows x 5 columns]\n",
      "6\n",
      "   diameter 1  diameter 2  diameter 3  diameter 4  diameter 5  diameter 6  \\\n",
      "0   35.227830   15.589051   14.742091   13.736070   21.550657   35.811975   \n",
      "1   11.022657    8.544405    8.062258   10.514211   36.482878   47.486861   \n",
      "\n",
      "   diameter of mother drop  diameter 1 frac  diameter 2 frac  diameter 3 frac  \\\n",
      "0                47.803498         0.400201         0.034680         0.029329   \n",
      "1                54.208058         0.008408         0.003916         0.003290   \n",
      "\n",
      "   diameter 4 frac  diameter 5 frac  diameter 6 frac  \n",
      "0         0.023725         0.091623         0.420442  \n",
      "1         0.007297         0.304843         0.672247  \n",
      "3\n",
      "   diameter 1  diameter 2  diameter 3  diameter of mother drop  \\\n",
      "0   31.040278   32.939338   14.358109                40.937532   \n",
      "1   49.030637   52.185625   23.991840                64.934758   \n",
      "2   28.741732   25.016863   42.502804                48.795291   \n",
      "3   43.607693   57.078893   23.273877                65.537601   \n",
      "4   27.868612   22.037330   20.928886                34.625657   \n",
      "5   33.041169   22.130179   28.845462                41.390865   \n",
      "6   37.712814   35.365314   35.323981                52.164367   \n",
      "\n",
      "   diameter 1 frac  diameter 2 frac  diameter 3 frac  \n",
      "0         0.435925         0.520930         0.043145  \n",
      "1         0.430498         0.519064         0.050438  \n",
      "2         0.204364         0.134761         0.660874  \n",
      "3         0.294590         0.660625         0.044785  \n",
      "4         0.521377         0.257800         0.220823  \n",
      "5         0.508689         0.152841         0.338469  \n",
      "6         0.377872         0.311610         0.310518  \n",
      "7\n",
      "   diameter 1  diameter 2  diameter 3  diameter 4  diameter 5  diameter 6  \\\n",
      "0   18.658608    9.625761    8.544004    13.52785   16.280269   32.900959   \n",
      "\n",
      "   diameter 7  diameter of mother drop  diameter 1 frac  diameter 2 frac  \\\n",
      "0   60.305431                 64.61165         0.024083         0.003307   \n",
      "\n",
      "   diameter 3 frac  diameter 4 frac  diameter 5 frac  diameter 6 frac  \\\n",
      "0         0.002312         0.009178         0.015998         0.132036   \n",
      "\n",
      "   diameter 7 frac  \n",
      "0         0.813087  \n"
     ]
    }
   ],
   "source": [
    "\n",
    "def genSheetname(s):\n",
    "    return \"broken {}\".format(s)\n",
    "\n",
    "def genColname(i):\n",
    "    return \"diameter {}\".format(i+1)\n",
    "\n",
    "df_dict = dict()\n",
    "for key, value in broken_info_dict.items():\n",
    "    columns = [genColname(i) for i in range(key)]  # range(len(value))\n",
    "    df = pd.DataFrame(value, columns=columns)\n",
    "    df['diameter of mother drop'] = reduce( lambda x, y: (x**3 + y**3)**(1/3), \n",
    "                                            [df[col] for col in columns])\n",
    "    columns_frac = [col+\" frac\" for col in columns]\n",
    "    for col in columns_frac:\n",
    "        df[col] = df[col[:-len(\" frac\")]]**3 / df['diameter of mother drop']**3\n",
    "\n",
    "    df_dict[key] = df\n",
    "\n",
    "    print(key)\n",
    "    print(df)\n",
    "\n",
    "summary_df_data = []\n",
    "for i_df, df in df_dict.items():\n",
    "    # sheetname = genSheetname(i_df)\n",
    "    columns = [genColname(i) for i in range(i_df)]\n",
    "    for i, row in df.iterrows():\n",
    "        drops = list(row[columns])\n",
    "        assert(len(drops) == i_df)\n",
    "        drops.sort()\n",
    "        mother_drops = [0 for _ in range(len(drops))]\n",
    "        mother_drops[0] = drops[0]\n",
    "        for i in range(len(drops)-1):\n",
    "            drop_1 = mother_drops[i]\n",
    "            drop_2 = drops[i+1]\n",
    "            mother_drops[i+1] = (drop_1**3 + drop_2**3)**(1/3)\n",
    "            drop_1_frac = drop_1**3 / mother_drops[i+1]**3\n",
    "            drop_2_frac = drop_2**3 / mother_drops[i+1]**3\n",
    "            n_breakage = i_df\n",
    "            summary_df_data.append((drop_1, drop_2, mother_drops[i+1], \n",
    "                                    drop_1_frac, drop_2_frac, n_breakage))\n",
    "summary_df = pd.DataFrame(summary_df_data, columns=[ 'drop_1', 'drop_2', 'mothoer_drop', \n",
    "                                    'drop_1_frac', \"drop_2_frac\", \"n_breakage\"])\n",
    "\n",
    "filename = os.path.join(\".\", \"summary.xlsx\")\n",
    "writer = pd.ExcelWriter(filename)\n",
    "for i_df, df in df_dict.items():\n",
    "    df.to_excel(writer, genSheetname(i_df))\n",
    "summary_df.to_excel(writer, \"summary\")\n",
    "writer.save()"
   ]
  },
  {
   "cell_type": "code",
   "execution_count": null,
   "metadata": {},
   "outputs": [],
   "source": []
  },
  {
   "cell_type": "code",
   "execution_count": 168,
   "metadata": {},
   "outputs": [],
   "source": [
    "dct = {1:1,2:2,3:3,4:4,5:5}"
   ]
  },
  {
   "cell_type": "code",
   "execution_count": 169,
   "metadata": {},
   "outputs": [
    {
     "ename": "KeyError",
     "evalue": "6",
     "output_type": "error",
     "traceback": [
      "\u001b[0;31m---------------------------------------------------------------------------\u001b[0m",
      "\u001b[0;31mKeyError\u001b[0m                                  Traceback (most recent call last)",
      "\u001b[0;32m<ipython-input-169-bd9562a8cacb>\u001b[0m in \u001b[0;36m<module>\u001b[0;34m()\u001b[0m\n\u001b[0;32m----> 1\u001b[0;31m \u001b[0mdct\u001b[0m\u001b[0;34m[\u001b[0m\u001b[0;36m6\u001b[0m\u001b[0;34m]\u001b[0m\u001b[0;34m\u001b[0m\u001b[0m\n\u001b[0m",
      "\u001b[0;31mKeyError\u001b[0m: 6"
     ]
    }
   ],
   "source": [
    "dct[6]"
   ]
  },
  {
   "cell_type": "code",
   "execution_count": 16,
   "metadata": {},
   "outputs": [
    {
     "data": {
      "text/plain": [
       "3"
      ]
     },
     "execution_count": 16,
     "metadata": {},
     "output_type": "execute_result"
    }
   ],
   "source": [
    "a = [None, None, 1, [1],'']\n",
    "def get_next(lst, start=0):\n",
    "    sub = lst[start+1:]\n",
    "    for i, item in enumerate(sub, start=1):\n",
    "        if item is not None:\n",
    "            return i + start\n",
    "get_next(a,2)"
   ]
  },
  {
   "cell_type": "code",
   "execution_count": 19,
   "metadata": {},
   "outputs": [
    {
     "ename": "ValueError",
     "evalue": "0 is not in list",
     "output_type": "error",
     "traceback": [
      "\u001b[0;31m---------------------------------------------------------------------------\u001b[0m",
      "\u001b[0;31mValueError\u001b[0m                                Traceback (most recent call last)",
      "\u001b[0;32m<ipython-input-19-8b50e151dfc5>\u001b[0m in \u001b[0;36m<module>\u001b[0;34m()\u001b[0m\n\u001b[0;32m----> 1\u001b[0;31m \u001b[0ma\u001b[0m\u001b[0;34m.\u001b[0m\u001b[0mindex\u001b[0m\u001b[0;34m(\u001b[0m\u001b[0;36m0\u001b[0m\u001b[0;34m)\u001b[0m\u001b[0;34m\u001b[0m\u001b[0m\n\u001b[0m",
      "\u001b[0;31mValueError\u001b[0m: 0 is not in list"
     ]
    }
   ],
   "source": [
    "a.index(0)"
   ]
  },
  {
   "cell_type": "code",
   "execution_count": null,
   "metadata": {},
   "outputs": [],
   "source": []
  },
  {
   "cell_type": "code",
   "execution_count": null,
   "metadata": {},
   "outputs": [],
   "source": []
  },
  {
   "cell_type": "code",
   "execution_count": null,
   "metadata": {},
   "outputs": [],
   "source": []
  },
  {
   "cell_type": "code",
   "execution_count": null,
   "metadata": {},
   "outputs": [],
   "source": []
  }
 ],
 "metadata": {
  "kernelspec": {
   "display_name": "Python 3",
   "language": "python",
   "name": "python3"
  },
  "language_info": {
   "codemirror_mode": {
    "name": "ipython",
    "version": 3
   },
   "file_extension": ".py",
   "mimetype": "text/x-python",
   "name": "python",
   "nbconvert_exporter": "python",
   "pygments_lexer": "ipython3",
   "version": "3.6.2"
  }
 },
 "nbformat": 4,
 "nbformat_minor": 2
}
