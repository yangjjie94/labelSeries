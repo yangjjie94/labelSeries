{
 "cells": [
  {
   "cell_type": "code",
   "execution_count": 19,
   "metadata": {},
   "outputs": [],
   "source": [
    "from lxml import etree"
   ]
  },
  {
   "cell_type": "code",
   "execution_count": 20,
   "metadata": {},
   "outputs": [],
   "source": [
    "root = etree.Element(\"root\")"
   ]
  },
  {
   "cell_type": "code",
   "execution_count": 21,
   "metadata": {},
   "outputs": [
    {
     "name": "stdout",
     "output_type": "stream",
     "text": [
      "root\n"
     ]
    }
   ],
   "source": [
    "print(root.tag)"
   ]
  },
  {
   "cell_type": "code",
   "execution_count": 22,
   "metadata": {},
   "outputs": [],
   "source": [
    "root.append(etree.Element('child1'))"
   ]
  },
  {
   "cell_type": "code",
   "execution_count": 23,
   "metadata": {},
   "outputs": [],
   "source": [
    "child2 = etree.SubElement(root, \"child2\")\n",
    "child3 = etree.SubElement(root, \"child3\")"
   ]
  },
  {
   "cell_type": "code",
   "execution_count": 24,
   "metadata": {},
   "outputs": [
    {
     "name": "stdout",
     "output_type": "stream",
     "text": [
      "<root>\n",
      "  <child1/>\n",
      "  <child2/>\n",
      "  <child3/>\n",
      "</root>\n",
      "\n"
     ]
    }
   ],
   "source": [
    "print(etree.tostring(root, pretty_print=True).decode('utf-8'))"
   ]
  },
  {
   "cell_type": "code",
   "execution_count": 25,
   "metadata": {},
   "outputs": [
    {
     "name": "stdout",
     "output_type": "stream",
     "text": [
      "child1\n"
     ]
    }
   ],
   "source": [
    "child = root[0]\n",
    "print(child.tag)"
   ]
  },
  {
   "cell_type": "code",
   "execution_count": 26,
   "metadata": {},
   "outputs": [
    {
     "name": "stdout",
     "output_type": "stream",
     "text": [
      "3\n"
     ]
    }
   ],
   "source": [
    "print(len(root))"
   ]
  },
  {
   "cell_type": "code",
   "execution_count": 27,
   "metadata": {},
   "outputs": [
    {
     "data": {
      "text/plain": [
       "1"
      ]
     },
     "execution_count": 27,
     "metadata": {},
     "output_type": "execute_result"
    }
   ],
   "source": [
    "root.index(root[1])"
   ]
  },
  {
   "cell_type": "code",
   "execution_count": 29,
   "metadata": {},
   "outputs": [
    {
     "data": {
      "text/plain": [
       "[<Element child1 at 0x1090995c8>,\n",
       " <Element child2 at 0x109099748>,\n",
       " <Element child3 at 0x109079f08>]"
      ]
     },
     "execution_count": 29,
     "metadata": {},
     "output_type": "execute_result"
    }
   ],
   "source": [
    "children = list(root)\n",
    "children"
   ]
  },
  {
   "cell_type": "code",
   "execution_count": 30,
   "metadata": {},
   "outputs": [
    {
     "name": "stdout",
     "output_type": "stream",
     "text": [
      "child1\n",
      "child2\n",
      "child3\n"
     ]
    }
   ],
   "source": [
    "for child in root:\n",
    "    print(child.tag)"
   ]
  },
  {
   "cell_type": "code",
   "execution_count": 31,
   "metadata": {},
   "outputs": [],
   "source": [
    "root.insert(0, etree.Element(\"child0\"))"
   ]
  },
  {
   "cell_type": "code",
   "execution_count": 32,
   "metadata": {},
   "outputs": [
    {
     "name": "stdout",
     "output_type": "stream",
     "text": [
      "<root>\n",
      "  <child0/>\n",
      "  <child1/>\n",
      "  <child2/>\n",
      "  <child3/>\n",
      "</root>\n",
      "\n"
     ]
    }
   ],
   "source": [
    "print(etree.tostring(root, pretty_print=True).decode('utf-8'))"
   ]
  },
  {
   "cell_type": "code",
   "execution_count": 33,
   "metadata": {},
   "outputs": [
    {
     "name": "stdout",
     "output_type": "stream",
     "text": [
      "child0\n",
      "child3\n"
     ]
    }
   ],
   "source": [
    "start = root[:1]\n",
    "end = root[-1:]\n",
    "print(start[0].tag)\n",
    "print(end[0].tag)"
   ]
  },
  {
   "cell_type": "code",
   "execution_count": 34,
   "metadata": {},
   "outputs": [
    {
     "name": "stdout",
     "output_type": "stream",
     "text": [
      "The root element has children\n"
     ]
    },
    {
     "name": "stderr",
     "output_type": "stream",
     "text": [
      "/anaconda3/envs/dl/lib/python3.6/site-packages/ipykernel_launcher.py:1: FutureWarning: The behavior of this method will change in future versions. Use specific 'len(elem)' or 'elem is not None' test instead.\n",
      "  \"\"\"Entry point for launching an IPython kernel.\n"
     ]
    }
   ],
   "source": [
    "if root:   # this no longer works!\n",
    "    print(\"The root element has children\")"
   ]
  },
  {
   "cell_type": "code",
   "execution_count": 35,
   "metadata": {},
   "outputs": [
    {
     "data": {
      "text/plain": [
       "True"
      ]
     },
     "execution_count": 35,
     "metadata": {},
     "output_type": "execute_result"
    }
   ],
   "source": [
    "etree.iselement(root)"
   ]
  },
  {
   "cell_type": "code",
   "execution_count": 36,
   "metadata": {},
   "outputs": [
    {
     "name": "stdout",
     "output_type": "stream",
     "text": [
      "The root element has children\n"
     ]
    }
   ],
   "source": [
    "if len(root):\n",
    "    print(\"The root element has children\")"
   ]
  },
  {
   "cell_type": "code",
   "execution_count": 38,
   "metadata": {},
   "outputs": [
    {
     "name": "stdout",
     "output_type": "stream",
     "text": [
      "<root>\n",
      "  <child0/>\n",
      "  <child1/>\n",
      "  <child2/>\n",
      "  <child3/>\n",
      "</root>\n",
      "\n",
      "<root>\n",
      "  <child3/>\n",
      "  <child1/>\n",
      "  <child2/>\n",
      "</root>\n",
      "\n"
     ]
    }
   ],
   "source": [
    "print(etree.tostring(root, pretty_print=True).decode('utf-8'))\n",
    "\n",
    "root[0] = root[-1]\n",
    "\n",
    "print(etree.tostring(root, pretty_print=True).decode('utf-8'))"
   ]
  },
  {
   "cell_type": "code",
   "execution_count": 39,
   "metadata": {},
   "outputs": [
    {
     "data": {
      "text/plain": [
       "True"
      ]
     },
     "execution_count": 39,
     "metadata": {},
     "output_type": "execute_result"
    }
   ],
   "source": [
    "root is root[0].getparent()"
   ]
  },
  {
   "cell_type": "code",
   "execution_count": 40,
   "metadata": {},
   "outputs": [
    {
     "name": "stdout",
     "output_type": "stream",
     "text": [
      "child1\n",
      "['child3', 'child1', 'child2']\n"
     ]
    }
   ],
   "source": [
    "from copy import deepcopy\n",
    "element = etree.Element(\"neu\")\n",
    "element.append( deepcopy(root[1]) )\n",
    "print(element[0].tag)\n",
    "print([c.tag for c in root])"
   ]
  },
  {
   "cell_type": "code",
   "execution_count": 47,
   "metadata": {},
   "outputs": [
    {
     "ename": "TypeError",
     "evalue": "'list_iterator' object is not callable",
     "output_type": "error",
     "traceback": [
      "\u001b[0;31m---------------------------------------------------------------------------\u001b[0m",
      "\u001b[0;31mTypeError\u001b[0m                                 Traceback (most recent call last)",
      "\u001b[0;32m<ipython-input-47-b7a77b0918ea>\u001b[0m in \u001b[0;36m<module>\u001b[0;34m()\u001b[0m\n\u001b[1;32m      1\u001b[0m \u001b[0mrow\u001b[0m \u001b[0;34m=\u001b[0m \u001b[0;34m[\u001b[0m\u001b[0;36m1\u001b[0m\u001b[0;34m,\u001b[0m\u001b[0;36m2\u001b[0m\u001b[0;34m,\u001b[0m\u001b[0;36m3\u001b[0m\u001b[0;34m,\u001b[0m\u001b[0;36m4\u001b[0m\u001b[0;34m,\u001b[0m\u001b[0;36m5\u001b[0m\u001b[0;34m,\u001b[0m\u001b[0;36m6\u001b[0m\u001b[0;34m]\u001b[0m\u001b[0;34m\u001b[0m\u001b[0m\n\u001b[1;32m      2\u001b[0m \u001b[0miterrow\u001b[0m \u001b[0;34m=\u001b[0m \u001b[0miter\u001b[0m\u001b[0;34m(\u001b[0m\u001b[0mrow\u001b[0m\u001b[0;34m)\u001b[0m\u001b[0;34m\u001b[0m\u001b[0m\n\u001b[0;32m----> 3\u001b[0;31m \u001b[0;34m[\u001b[0m\u001b[0;34m(\u001b[0m\u001b[0mi\u001b[0m\u001b[0;34m,\u001b[0m\u001b[0mj\u001b[0m\u001b[0;34m)\u001b[0m \u001b[0;32mfor\u001b[0m \u001b[0mi\u001b[0m\u001b[0;34m,\u001b[0m\u001b[0mj\u001b[0m \u001b[0;32min\u001b[0m \u001b[0;34m(\u001b[0m\u001b[0miterrow\u001b[0m\u001b[0;34m(\u001b[0m\u001b[0;34m)\u001b[0m\u001b[0;34m,\u001b[0m\u001b[0miterrow\u001b[0m\u001b[0;34m(\u001b[0m\u001b[0;34m)\u001b[0m\u001b[0;34m)\u001b[0m\u001b[0;34m]\u001b[0m\u001b[0;34m\u001b[0m\u001b[0m\n\u001b[0m",
      "\u001b[0;31mTypeError\u001b[0m: 'list_iterator' object is not callable"
     ]
    }
   ],
   "source": [
    "row = [1,2,3,4,5,6]\n",
    "iterrow = iter(row)\n",
    "[(i,j) for i,j in (iterrow(),iterrow())]"
   ]
  },
  {
   "cell_type": "code",
   "execution_count": 48,
   "metadata": {},
   "outputs": [
    {
     "name": "stdout",
     "output_type": "stream",
     "text": [
      "str 1\n"
     ]
    }
   ],
   "source": [
    "print(\"str\",1)"
   ]
  },
  {
   "cell_type": "code",
   "execution_count": 90,
   "metadata": {},
   "outputs": [],
   "source": [
    "foldername = os.curdir\n",
    "filename = 'test.xml'\n",
    "imgSize = (800, 1000)\n"
   ]
  },
  {
   "cell_type": "code",
   "execution_count": 75,
   "metadata": {},
   "outputs": [],
   "source": [
    "from lxml.etree import ElementTree, Element, SubElement\n",
    "from lxml import etree"
   ]
  },
  {
   "cell_type": "code",
   "execution_count": 76,
   "metadata": {},
   "outputs": [],
   "source": [
    "pointlist = [(1,2),\n",
    "             (3,4),\n",
    "             (5,6),\n",
    "             (7,8),\n",
    "             (9,10)]"
   ]
  },
  {
   "cell_type": "code",
   "execution_count": 77,
   "metadata": {},
   "outputs": [
    {
     "name": "stdout",
     "output_type": "stream",
     "text": [
      "<annotation>\n",
      "  <point000>\n",
      "    <X>1</X>\n",
      "    <Y>2</Y>\n",
      "  </point000>\n",
      "  <point001>\n",
      "    <X>3</X>\n",
      "    <Y>4</Y>\n",
      "  </point001>\n",
      "  <point002>\n",
      "    <X>5</X>\n",
      "    <Y>6</Y>\n",
      "  </point002>\n",
      "  <point003>\n",
      "    <X>7</X>\n",
      "    <Y>8</Y>\n",
      "  </point003>\n",
      "  <point004>\n",
      "    <X>9</X>\n",
      "    <Y>10</Y>\n",
      "  </point004>\n",
      "</annotation>\n",
      "\n"
     ]
    }
   ],
   "source": [
    "top = Element('annotation')\n",
    "for i, each_object in enumerate(pointlist):\n",
    "    point = SubElement(top, \"point\"+str(i).zfill(3))\n",
    "    X = SubElement(point,\"X\")\n",
    "    X.text = str(each_object[0])\n",
    "    Y = SubElement(point,\"Y\")\n",
    "    Y.text = str(each_object[1])\n",
    "print(etree.tostring(top, pretty_print=True).decode('utf-8'))"
   ]
  },
  {
   "cell_type": "code",
   "execution_count": null,
   "metadata": {},
   "outputs": [],
   "source": [
    "for each_object in self.shapelist:\n",
    "    object_item = SubElement(top, 'object')\n",
    "    name = SubElement(object_item, 'name')\n",
    "    try:\n",
    "        name.text = unicode(each_object['name'])\n",
    "    except NameError:\n",
    "        # Py3: NameError: name 'unicode' is not defined\n",
    "        name.text = each_object['name']\n",
    "\n",
    "    pose = SubElement(object_item, 'pose')\n",
    "    pose.text = \"Unspecified\"\n",
    "    truncated = SubElement(object_item, 'truncated')\n",
    "    if int(each_object['ymax']) == int(self.imgSize[0]) or (int(each_object['ymin'])== 1):\n",
    "        truncated.text = \"1\" # max == height or min\n",
    "    elif (int(each_object['xmax'])==int(self.imgSize[1])) or (int(each_object['xmin'])== 1):\n",
    "        truncated.text = \"1\" # max == width or min\n",
    "    else:\n",
    "        truncated.text = \"0\"\n",
    "    difficult = SubElement(object_item, 'difficult')\n",
    "    difficult.text = str( bool(each_object['difficult']) & 1 )\n",
    "    bndbox = SubElement(object_item, 'bndbox')\n",
    "    xmin = SubElement(bndbox, 'xmin')\n",
    "    xmin.text = str(each_object['xmin'])\n",
    "    ymin = SubElement(bndbox, 'ymin')\n",
    "    ymin.text = str(each_object['ymin'])\n",
    "    xmax = SubElement(bndbox, 'xmax')\n",
    "    xmax.text = str(each_object['xmax'])\n",
    "    ymax = SubElement(bndbox, 'ymax')\n",
    "    ymax.text = str(each_object['ymax'])"
   ]
  },
  {
   "cell_type": "code",
   "execution_count": 98,
   "metadata": {},
   "outputs": [],
   "source": [
    "from PyQt5.QtGui import QImageReader"
   ]
  },
  {
   "cell_type": "code",
   "execution_count": 100,
   "metadata": {},
   "outputs": [
    {
     "data": {
      "text/plain": [
       "['*.bmp',\n",
       " '*.cur',\n",
       " '*.gif',\n",
       " '*.heic',\n",
       " '*.heif',\n",
       " '*.icns',\n",
       " '*.ico',\n",
       " '*.jp2',\n",
       " '*.jpeg',\n",
       " '*.jpg',\n",
       " '*.pbm',\n",
       " '*.pgm',\n",
       " '*.png',\n",
       " '*.ppm',\n",
       " '*.svg',\n",
       " '*.svgz',\n",
       " '*.tga',\n",
       " '*.tif',\n",
       " '*.tiff',\n",
       " '*.wbmp',\n",
       " '*.webp',\n",
       " '*.xbm',\n",
       " '*.xpm']"
      ]
     },
     "execution_count": 100,
     "metadata": {},
     "output_type": "execute_result"
    }
   ],
   "source": [
    "formats = ['*.%s' % fmt.data().decode(\"ascii\").lower() for fmt in QImageReader.supportedImageFormats()]\n",
    "formats"
   ]
  },
  {
   "cell_type": "code",
   "execution_count": null,
   "metadata": {},
   "outputs": [],
   "source": [
    "class cache(object):\n",
    "    def __init__(self, folderpath, filename, num = 1000):\n",
    "        # \n",
    "        self.folder = path = os.path.dirname(ustr(self.filePath)) if self.filePath else '.'\n",
    "        self.total\n",
    "        pass\n",
    "\n",
    "    def update(self):\n",
    "\n",
    "    def openFile(self, _value=False):\n",
    "        \n",
    "        formats = ['*.%s' % fmt.data().decode(\"ascii\").lower() for fmt in QImageReader.supportedImageFormats()]\n",
    "        filters = \"Image & Label files (%s)\" % ' '.join(formats + ['*%s' % LabelFile.suffix])\n",
    "        filename = QFileDialog.getOpenFileName(self, '%s - Choose Image or Label file' % __appname__, path, filters)\n",
    "        if filename:\n",
    "            if isinstance(filename, (tuple, list)):\n",
    "                filename = filename[0]\n",
    "            self.loadFile(filename)\n",
    "\n",
    "    def prev(self, _value=False):\n",
    "        # Proceding prev image without dialog if having any label\n",
    "        if self.autoSaving.isChecked():\n",
    "            if self.defaultSaveDir is not None:\n",
    "                if self.dirty is True:\n",
    "                    self.saveFile()\n",
    "            else:\n",
    "                self.changeSavedirDialog()\n",
    "                return\n",
    "\n",
    "        if not self.mayContinue():\n",
    "            return\n",
    "\n",
    "        if len(self.mImgList) <= 0:\n",
    "            return\n",
    "\n",
    "        if self.filePath is None:\n",
    "            return\n",
    "\n",
    "        currIndex = self.mImgList.index(self.filePath)\n",
    "        if currIndex - 1 >= 0:\n",
    "            filename = self.mImgList[currIndex - 1]\n",
    "            if filename:\n",
    "                self.loadFile(filename)\n",
    "\n",
    "    def openNextImg(self, _value=False):\n",
    "        # Proceding prev image without dialog if having any label\n",
    "        if self.autoSaving.isChecked():\n",
    "            if self.defaultSaveDir is not None:\n",
    "                if self.dirty is True:\n",
    "                    self.saveFile()\n",
    "            else:\n",
    "                self.changeSavedirDialog()\n",
    "                return\n",
    "\n",
    "        if not self.mayContinue():\n",
    "            return\n",
    "\n",
    "        if len(self.mImgList) <= 0:\n",
    "            return\n",
    "\n",
    "        filename = None\n",
    "        if self.filePath is None:\n",
    "            filename = self.mImgList[0]\n",
    "        else:\n",
    "            currIndex = self.mImgList.index(self.filePath)\n",
    "            if currIndex + 1 < len(self.mImgList):\n",
    "                filename = self.mImgList[currIndex + 1]\n",
    "\n",
    "        if filename:\n",
    "            self.loadFile(filename)"
   ]
  },
  {
   "cell_type": "code",
   "execution_count": 101,
   "metadata": {},
   "outputs": [],
   "source": [
    "import math"
   ]
  },
  {
   "cell_type": "code",
   "execution_count": 103,
   "metadata": {},
   "outputs": [
    {
     "data": {
      "text/plain": [
       "-1"
      ]
     },
     "execution_count": 103,
     "metadata": {},
     "output_type": "execute_result"
    }
   ],
   "source": [
    "math.floor(-0.1)"
   ]
  },
  {
   "cell_type": "code",
   "execution_count": 105,
   "metadata": {},
   "outputs": [],
   "source": [
    "from PyQt5.QtGui import QImage "
   ]
  },
  {
   "cell_type": "code",
   "execution_count": 108,
   "metadata": {},
   "outputs": [
    {
     "data": {
      "text/plain": [
       "<PyQt5.QtGui.QImage at 0x108b61ac8>"
      ]
     },
     "execution_count": 108,
     "metadata": {},
     "output_type": "execute_result"
    }
   ],
   "source": [
    "image = QImage()\n",
    "image.load(\"/Volumes/Jerry's/zhouhan/420V5/420V10Q225/420V10Q225_0000.jpg\")\n",
    "image"
   ]
  },
  {
   "cell_type": "code",
   "execution_count": 111,
   "metadata": {},
   "outputs": [],
   "source": [
    "alist = [1,2,3,4,5]"
   ]
  },
  {
   "cell_type": "code",
   "execution_count": 113,
   "metadata": {},
   "outputs": [
    {
     "ename": "ValueError",
     "evalue": "0 is not in list",
     "output_type": "error",
     "traceback": [
      "\u001b[0;31m---------------------------------------------------------------------------\u001b[0m",
      "\u001b[0;31mValueError\u001b[0m                                Traceback (most recent call last)",
      "\u001b[0;32m<ipython-input-113-25750e8454cf>\u001b[0m in \u001b[0;36m<module>\u001b[0;34m()\u001b[0m\n\u001b[0;32m----> 1\u001b[0;31m \u001b[0mflag\u001b[0m \u001b[0;34m=\u001b[0m \u001b[0malist\u001b[0m\u001b[0;34m.\u001b[0m\u001b[0mindex\u001b[0m\u001b[0;34m(\u001b[0m\u001b[0;36m0\u001b[0m\u001b[0;34m)\u001b[0m\u001b[0;34m\u001b[0m\u001b[0m\n\u001b[0m\u001b[1;32m      2\u001b[0m \u001b[0mflag\u001b[0m\u001b[0;34m\u001b[0m\u001b[0m\n",
      "\u001b[0;31mValueError\u001b[0m: 0 is not in list"
     ]
    }
   ],
   "source": [
    "flag = alist.index(0)\n",
    "flag"
   ]
  },
  {
   "cell_type": "code",
   "execution_count": 194,
   "metadata": {},
   "outputs": [],
   "source": [
    "from PyQt5.QtGui import QImage"
   ]
  },
  {
   "cell_type": "code",
   "execution_count": 195,
   "metadata": {},
   "outputs": [],
   "source": [
    "filename = \"/Volumes/Jerry's/zhouhan/420V5/420V10Q225/420V10Q225_0000.jpg\"\n",
    "with open(filename, 'rb') as f:\n",
    "    imageData = f.read()\n",
    "image = QImage.fromData(imageData)"
   ]
  },
  {
   "cell_type": "code",
   "execution_count": 196,
   "metadata": {},
   "outputs": [
    {
     "data": {
      "text/plain": [
       "4"
      ]
     },
     "execution_count": 196,
     "metadata": {},
     "output_type": "execute_result"
    }
   ],
   "source": [
    "image.format()"
   ]
  },
  {
   "cell_type": "code",
   "execution_count": 199,
   "metadata": {},
   "outputs": [
    {
     "data": {
      "text/plain": [
       "4"
      ]
     },
     "execution_count": 199,
     "metadata": {},
     "output_type": "execute_result"
    }
   ],
   "source": [
    "image.Format_RGB32"
   ]
  },
  {
   "cell_type": "code",
   "execution_count": 135,
   "metadata": {},
   "outputs": [
    {
     "data": {
      "text/plain": [
       "1072"
      ]
     },
     "execution_count": 135,
     "metadata": {},
     "output_type": "execute_result"
    }
   ],
   "source": [
    "image.width()"
   ]
  },
  {
   "cell_type": "code",
   "execution_count": 136,
   "metadata": {},
   "outputs": [
    {
     "data": {
      "text/plain": [
       "800"
      ]
     },
     "execution_count": 136,
     "metadata": {},
     "output_type": "execute_result"
    }
   ],
   "source": [
    "image.height()"
   ]
  },
  {
   "cell_type": "code",
   "execution_count": 138,
   "metadata": {},
   "outputs": [
    {
     "data": {
      "text/plain": [
       "32"
      ]
     },
     "execution_count": 138,
     "metadata": {},
     "output_type": "execute_result"
    }
   ],
   "source": [
    "image.depth()"
   ]
  },
  {
   "cell_type": "code",
   "execution_count": 129,
   "metadata": {},
   "outputs": [],
   "source": [
    "import qimage2ndarray\n",
    "import numpy as np\n",
    "import cv2\n",
    "import matplotlib.pyplot as plt\n",
    "# cv2."
   ]
  },
  {
   "cell_type": "code",
   "execution_count": 134,
   "metadata": {},
   "outputs": [
    {
     "data": {
      "image/png": "[encoded data removed]",
      "text/plain": [
       "<matplotlib.figure.Figure at 0x114056c50>"
      ]
     },
     "metadata": {},
     "output_type": "display_data"
    }
   ],
   "source": [
    "plt.imshow((qimage2ndarray.rgb_view(image)).reshape(800,1072,3))\n",
    "plt.show()"
   ]
  },
  {
   "cell_type": "code",
   "execution_count": 222,
   "metadata": {},
   "outputs": [],
   "source": [
    "import cv2"
   ]
  },
  {
   "cell_type": "code",
   "execution_count": 223,
   "metadata": {},
   "outputs": [],
   "source": [
    "filename = \"/Volumes/Jerry's/zhouhan/420V5/420V10Q225/420V10Q225_0000.jpg\"\n",
    "cvimg = cv2.imread(filename)"
   ]
  },
  {
   "cell_type": "code",
   "execution_count": 221,
   "metadata": {},
   "outputs": [
    {
     "data": {
      "text/plain": [
       "(800, 1072, 3)"
      ]
     },
     "execution_count": 221,
     "metadata": {},
     "output_type": "execute_result"
    }
   ],
   "source": [
    "cvimg.shape"
   ]
  },
  {
   "cell_type": "code",
   "execution_count": 224,
   "metadata": {},
   "outputs": [
    {
     "ename": "NameError",
     "evalue": "name 'bgimg_gray' is not defined",
     "output_type": "error",
     "traceback": [
      "\u001b[0;31m---------------------------------------------------------------------------\u001b[0m",
      "\u001b[0;31mNameError\u001b[0m                                 Traceback (most recent call last)",
      "\u001b[0;32m<ipython-input-224-b1d4d2ea7fd6>\u001b[0m in \u001b[0;36m<module>\u001b[0;34m()\u001b[0m\n\u001b[1;32m     40\u001b[0m \u001b[0;34m\u001b[0m\u001b[0m\n\u001b[1;32m     41\u001b[0m \u001b[0;34m\u001b[0m\u001b[0m\n\u001b[0;32m---> 42\u001b[0;31m \u001b[0mplt\u001b[0m\u001b[0;34m.\u001b[0m\u001b[0mimshow\u001b[0m\u001b[0;34m(\u001b[0m\u001b[0mbgimg_gray\u001b[0m\u001b[0;34m,\u001b[0m \u001b[0mcmap\u001b[0m\u001b[0;34m=\u001b[0m\u001b[0;34m'gray'\u001b[0m\u001b[0;34m)\u001b[0m\u001b[0;34m\u001b[0m\u001b[0m\n\u001b[0m",
      "\u001b[0;31mNameError\u001b[0m: name 'bgimg_gray' is not defined"
     ]
    }
   ],
   "source": [
    "import os\n",
    "import glob\n",
    "import cv2\n",
    "import matplotlib.pyplot as plt\n",
    "from PyQt5.QtCore import pyqtSignal\n",
    "import numpy as np\n",
    "\n",
    "# background subtraction and other preprossing procedure\n",
    "FILENAME = \"background.jpg\"\n",
    "\n",
    "class Preprocess:\n",
    "    preprocessed = pyqtSignal()\n",
    "\n",
    "    def __init__(self, dirname, length=10):\n",
    "        if os.path.isdir(dirname):\n",
    "            self.dirname = dirname\n",
    "        else:\n",
    "            return None\n",
    "        self.imgPathList = glob.glob(os.path.join(self.dirname,'*.jpg'))\n",
    "        tmp_img = cv2.imread(self.imgPathList[0])\n",
    "        height, width, depth = tmp.img\n",
    "        self.bg = np.zeros((height, width, depth))\n",
    "        self.imgList = []\n",
    "        self.length = length\n",
    "\n",
    "    def __call__(self):\n",
    "        img_path = os.path.join(self.dirname, FILENAME)\n",
    "        # if we process it before and there exists backgrounnd image.\n",
    "        if os.path.exists(img_path):\n",
    "            self.bg = cv2.imread(img_path)\n",
    "        else:\n",
    "            self.imgPathList\n",
    "            for index, f in enumerate(paths):\n",
    "                if index >= self.length:\n",
    "                    self.bg /= self.length\n",
    "                    break\n",
    "                img = cv2.imread(f)\n",
    "                self.bg = np.add(self.bg, img)\n",
    "\n",
    "\n",
    "\n"
   ]
  },
  {
   "cell_type": "code",
   "execution_count": null,
   "metadata": {},
   "outputs": [],
   "source": [
    "plt.imshow(bgimg_gray)"
   ]
  },
  {
   "cell_type": "code",
   "execution_count": null,
   "metadata": {},
   "outputs": [],
   "source": []
  },
  {
   "cell_type": "code",
   "execution_count": 158,
   "metadata": {},
   "outputs": [],
   "source": [
    "def qimage2numpyarray(image):\n",
    "    height = image.height()\n",
    "    width  = image.width()\n",
    "    return (qimage2ndarray.rgb_view(image)).reshape(height, width, 3)"
   ]
  },
  {
   "cell_type": "code",
   "execution_count": 160,
   "metadata": {},
   "outputs": [
    {
     "data": {
      "text/plain": [
       "array([[[0, 0, 0],\n",
       "        [0, 0, 0],\n",
       "        [0, 0, 0],\n",
       "        ..., \n",
       "        [0, 0, 0],\n",
       "        [0, 0, 0],\n",
       "        [0, 0, 0]],\n",
       "\n",
       "       [[0, 0, 0],\n",
       "        [0, 0, 0],\n",
       "        [0, 0, 0],\n",
       "        ..., \n",
       "        [0, 0, 0],\n",
       "        [0, 0, 0],\n",
       "        [0, 0, 0]],\n",
       "\n",
       "       [[0, 0, 0],\n",
       "        [0, 0, 0],\n",
       "        [0, 0, 0],\n",
       "        ..., \n",
       "        [0, 0, 0],\n",
       "        [0, 0, 0],\n",
       "        [0, 0, 0]],\n",
       "\n",
       "       ..., \n",
       "       [[1, 1, 1],\n",
       "        [1, 1, 1],\n",
       "        [1, 1, 1],\n",
       "        ..., \n",
       "        [0, 0, 0],\n",
       "        [0, 0, 0],\n",
       "        [0, 0, 0]],\n",
       "\n",
       "       [[1, 1, 1],\n",
       "        [1, 1, 1],\n",
       "        [1, 1, 1],\n",
       "        ..., \n",
       "        [0, 0, 0],\n",
       "        [0, 0, 0],\n",
       "        [0, 0, 0]],\n",
       "\n",
       "       [[1, 1, 1],\n",
       "        [1, 1, 1],\n",
       "        [1, 1, 1],\n",
       "        ..., \n",
       "        [0, 0, 0],\n",
       "        [0, 0, 0],\n",
       "        [0, 0, 0]]], dtype=uint8)"
      ]
     },
     "execution_count": 160,
     "metadata": {},
     "output_type": "execute_result"
    }
   ],
   "source": [
    "arr = qimage2numpyarray(image)\n",
    "arr"
   ]
  },
  {
   "cell_type": "code",
   "execution_count": 191,
   "metadata": {},
   "outputs": [],
   "source": [
    "def numpyarray2qimage(arr):\n",
    "    # height = self.numpyarray.shape[1]\n",
    "    # width  = self.numpyarray.shape[0]\n",
    "    numpyarray = np.transpose(arr, (1,0,2))                                                                                                                                                                              \n",
    "    return QImage(arr.tobytes(), 800, 1072,  6400, QImage.Format_RGB888)"
   ]
  },
  {
   "cell_type": "code",
   "execution_count": 192,
   "metadata": {},
   "outputs": [
    {
     "ename": "ValueError",
     "evalue": "qimageview can only handle 8- or 32-bit QImages (format was 13)",
     "output_type": "error",
     "traceback": [
      "\u001b[0;31m---------------------------------------------------------------------------\u001b[0m",
      "\u001b[0;31mValueError\u001b[0m                                Traceback (most recent call last)",
      "\u001b[0;32m<ipython-input-192-49a3a8e26df7>\u001b[0m in \u001b[0;36m<module>\u001b[0;34m()\u001b[0m\n\u001b[0;32m----> 1\u001b[0;31m \u001b[0mqimage2numpyarray\u001b[0m\u001b[0;34m(\u001b[0m\u001b[0mnumpyarray2qimage\u001b[0m\u001b[0;34m(\u001b[0m\u001b[0marr\u001b[0m\u001b[0;34m)\u001b[0m\u001b[0;34m)\u001b[0m\u001b[0;34m\u001b[0m\u001b[0m\n\u001b[0m",
      "\u001b[0;32m<ipython-input-158-042ad8de454a>\u001b[0m in \u001b[0;36mqimage2numpyarray\u001b[0;34m(image)\u001b[0m\n\u001b[1;32m      2\u001b[0m     \u001b[0mheight\u001b[0m \u001b[0;34m=\u001b[0m \u001b[0mimage\u001b[0m\u001b[0;34m.\u001b[0m\u001b[0mheight\u001b[0m\u001b[0;34m(\u001b[0m\u001b[0;34m)\u001b[0m\u001b[0;34m\u001b[0m\u001b[0m\n\u001b[1;32m      3\u001b[0m     \u001b[0mwidth\u001b[0m  \u001b[0;34m=\u001b[0m \u001b[0mimage\u001b[0m\u001b[0;34m.\u001b[0m\u001b[0mwidth\u001b[0m\u001b[0;34m(\u001b[0m\u001b[0;34m)\u001b[0m\u001b[0;34m\u001b[0m\u001b[0m\n\u001b[0;32m----> 4\u001b[0;31m     \u001b[0;32mreturn\u001b[0m \u001b[0;34m(\u001b[0m\u001b[0mqimage2ndarray\u001b[0m\u001b[0;34m.\u001b[0m\u001b[0mrgb_view\u001b[0m\u001b[0;34m(\u001b[0m\u001b[0mimage\u001b[0m\u001b[0;34m)\u001b[0m\u001b[0;34m)\u001b[0m\u001b[0;34m.\u001b[0m\u001b[0mreshape\u001b[0m\u001b[0;34m(\u001b[0m\u001b[0mheight\u001b[0m\u001b[0;34m,\u001b[0m \u001b[0mwidth\u001b[0m\u001b[0;34m,\u001b[0m \u001b[0;36m3\u001b[0m\u001b[0;34m)\u001b[0m\u001b[0;34m\u001b[0m\u001b[0m\n\u001b[0m",
      "\u001b[0;32m/anaconda3/envs/dl/lib/python3.6/site-packages/qimage2ndarray/__init__.py\u001b[0m in \u001b[0;36mrgb_view\u001b[0;34m(qimage, byteorder)\u001b[0m\n\u001b[1;32m    106\u001b[0m     \u001b[0;32mif\u001b[0m \u001b[0mbyteorder\u001b[0m \u001b[0;32mis\u001b[0m \u001b[0;32mNone\u001b[0m\u001b[0;34m:\u001b[0m\u001b[0;34m\u001b[0m\u001b[0m\n\u001b[1;32m    107\u001b[0m         \u001b[0mbyteorder\u001b[0m \u001b[0;34m=\u001b[0m \u001b[0m_sys\u001b[0m\u001b[0;34m.\u001b[0m\u001b[0mbyteorder\u001b[0m\u001b[0;34m\u001b[0m\u001b[0m\n\u001b[0;32m--> 108\u001b[0;31m     \u001b[0mbytes\u001b[0m \u001b[0;34m=\u001b[0m \u001b[0mbyte_view\u001b[0m\u001b[0;34m(\u001b[0m\u001b[0mqimage\u001b[0m\u001b[0;34m,\u001b[0m \u001b[0mbyteorder\u001b[0m\u001b[0;34m)\u001b[0m\u001b[0;34m\u001b[0m\u001b[0m\n\u001b[0m\u001b[1;32m    109\u001b[0m     \u001b[0;32mif\u001b[0m \u001b[0mbytes\u001b[0m\u001b[0;34m.\u001b[0m\u001b[0mshape\u001b[0m\u001b[0;34m[\u001b[0m\u001b[0;36m2\u001b[0m\u001b[0;34m]\u001b[0m \u001b[0;34m!=\u001b[0m \u001b[0;36m4\u001b[0m\u001b[0;34m:\u001b[0m\u001b[0;34m\u001b[0m\u001b[0m\n\u001b[1;32m    110\u001b[0m         \u001b[0;32mraise\u001b[0m \u001b[0mValueError\u001b[0m\u001b[0;34m(\u001b[0m\u001b[0;34m\"For rgb_view, the image must have 32 bit pixel size (use RGB32, ARGB32, or ARGB32_Premultiplied)\"\u001b[0m\u001b[0;34m)\u001b[0m\u001b[0;34m\u001b[0m\u001b[0m\n",
      "\u001b[0;32m/anaconda3/envs/dl/lib/python3.6/site-packages/qimage2ndarray/__init__.py\u001b[0m in \u001b[0;36mbyte_view\u001b[0;34m(qimage, byteorder)\u001b[0m\n\u001b[1;32m     75\u001b[0m     \u001b[0;34m:\u001b[0m\u001b[0mparam\u001b[0m \u001b[0mbyteorder\u001b[0m\u001b[0;34m:\u001b[0m \u001b[0mspecify\u001b[0m \u001b[0morder\u001b[0m \u001b[0mof\u001b[0m \u001b[0mchannels\u001b[0m \u001b[0;32min\u001b[0m \u001b[0mlast\u001b[0m \u001b[0maxis\u001b[0m\u001b[0;34m\u001b[0m\u001b[0m\n\u001b[1;32m     76\u001b[0m     :rtype: numpy.ndarray_ with shape (height, width, 1 or 4) and dtype uint8\"\"\"\n\u001b[0;32m---> 77\u001b[0;31m     \u001b[0mraw\u001b[0m \u001b[0;34m=\u001b[0m \u001b[0m_qimage_or_filename_view\u001b[0m\u001b[0;34m(\u001b[0m\u001b[0mqimage\u001b[0m\u001b[0;34m)\u001b[0m\u001b[0;34m\u001b[0m\u001b[0m\n\u001b[0m\u001b[1;32m     78\u001b[0m     \u001b[0mresult\u001b[0m \u001b[0;34m=\u001b[0m \u001b[0mraw\u001b[0m\u001b[0;34m.\u001b[0m\u001b[0mview\u001b[0m\u001b[0;34m(\u001b[0m\u001b[0m_np\u001b[0m\u001b[0;34m.\u001b[0m\u001b[0muint8\u001b[0m\u001b[0;34m)\u001b[0m\u001b[0;34m.\u001b[0m\u001b[0mreshape\u001b[0m\u001b[0;34m(\u001b[0m\u001b[0mraw\u001b[0m\u001b[0;34m.\u001b[0m\u001b[0mshape\u001b[0m \u001b[0;34m+\u001b[0m \u001b[0;34m(\u001b[0m\u001b[0;34m-\u001b[0m\u001b[0;36m1\u001b[0m\u001b[0;34m,\u001b[0m \u001b[0;34m)\u001b[0m\u001b[0;34m)\u001b[0m\u001b[0;34m\u001b[0m\u001b[0m\n\u001b[1;32m     79\u001b[0m     \u001b[0;32mif\u001b[0m \u001b[0mbyteorder\u001b[0m \u001b[0;32mand\u001b[0m \u001b[0mbyteorder\u001b[0m \u001b[0;34m!=\u001b[0m \u001b[0m_sys\u001b[0m\u001b[0;34m.\u001b[0m\u001b[0mbyteorder\u001b[0m\u001b[0;34m:\u001b[0m\u001b[0;34m\u001b[0m\u001b[0m\n",
      "\u001b[0;32m/anaconda3/envs/dl/lib/python3.6/site-packages/qimage2ndarray/__init__.py\u001b[0m in \u001b[0;36m_qimage_or_filename_view\u001b[0;34m(qimage)\u001b[0m\n\u001b[1;32m     36\u001b[0m     \u001b[0;32mif\u001b[0m \u001b[0misinstance\u001b[0m\u001b[0;34m(\u001b[0m\u001b[0mqimage\u001b[0m\u001b[0;34m,\u001b[0m \u001b[0m_basestring\u001b[0m\u001b[0;34m)\u001b[0m\u001b[0;34m:\u001b[0m\u001b[0;34m\u001b[0m\u001b[0m\n\u001b[1;32m     37\u001b[0m         \u001b[0mqimage\u001b[0m \u001b[0;34m=\u001b[0m \u001b[0m_qt\u001b[0m\u001b[0;34m.\u001b[0m\u001b[0mQImage\u001b[0m\u001b[0;34m(\u001b[0m\u001b[0mqimage\u001b[0m\u001b[0;34m)\u001b[0m\u001b[0;34m\u001b[0m\u001b[0m\n\u001b[0;32m---> 38\u001b[0;31m     \u001b[0;32mreturn\u001b[0m \u001b[0m_qimageview\u001b[0m\u001b[0;34m(\u001b[0m\u001b[0mqimage\u001b[0m\u001b[0;34m)\u001b[0m\u001b[0;34m\u001b[0m\u001b[0m\n\u001b[0m\u001b[1;32m     39\u001b[0m \u001b[0;34m\u001b[0m\u001b[0m\n\u001b[1;32m     40\u001b[0m \u001b[0;32mdef\u001b[0m \u001b[0mraw_view\u001b[0m\u001b[0;34m(\u001b[0m\u001b[0mqimage\u001b[0m\u001b[0;34m)\u001b[0m\u001b[0;34m:\u001b[0m\u001b[0;34m\u001b[0m\u001b[0m\n",
      "\u001b[0;32m/anaconda3/envs/dl/lib/python3.6/site-packages/qimage2ndarray/qimageview_python.py\u001b[0m in \u001b[0;36mqimageview\u001b[0;34m(image)\u001b[0m\n\u001b[1;32m     59\u001b[0m         \u001b[0;32mraise\u001b[0m \u001b[0mValueError\u001b[0m\u001b[0;34m(\u001b[0m\u001b[0;34m\"qimageview got invalid QImage\"\u001b[0m\u001b[0;34m)\u001b[0m\u001b[0;34m\u001b[0m\u001b[0m\n\u001b[1;32m     60\u001b[0m     \u001b[0;32melse\u001b[0m\u001b[0;34m:\u001b[0m\u001b[0;34m\u001b[0m\u001b[0m\n\u001b[0;32m---> 61\u001b[0;31m         \u001b[0;32mraise\u001b[0m \u001b[0mValueError\u001b[0m\u001b[0;34m(\u001b[0m\u001b[0;34m\"qimageview can only handle 8- or 32-bit QImages (format was %r)\"\u001b[0m \u001b[0;34m%\u001b[0m \u001b[0mformat\u001b[0m\u001b[0;34m)\u001b[0m\u001b[0;34m\u001b[0m\u001b[0m\n\u001b[0m\u001b[1;32m     62\u001b[0m \u001b[0;34m\u001b[0m\u001b[0m\n\u001b[1;32m     63\u001b[0m     image.__array_interface__ = {\n",
      "\u001b[0;31mValueError\u001b[0m: qimageview can only handle 8- or 32-bit QImages (format was 13)"
     ]
    }
   ],
   "source": [
    "qimage2numpyarray(numpyarray2qimage(arr))"
   ]
  },
  {
   "cell_type": "code",
   "execution_count": null,
   "metadata": {},
   "outputs": [],
   "source": []
  },
  {
   "cell_type": "code",
   "execution_count": null,
   "metadata": {},
   "outputs": [],
   "source": [
    "def getCurrent(self):\n",
    "    if self.subtractBackGround:\n",
    "        return self.numpyarray2qimage(\\\n",
    "                    np.subtract(self.qimage2numpyarray(self.data[self.cursor]) \\\n",
    "                    ,self.background))\n",
    "    else:\n",
    "        return self.data[self.cursor]\n",
    "\n",
    "def qimage2numpyarray(self, imgdata):\n",
    "    height = self.data[0].height()\n",
    "    width  = self.data[0].width()\n",
    "    return (qimage2ndarray.rgb_view(imgdata)).reshape(height, width, 3)\n",
    "\n",
    "def numpyarray2qimage(self, numpyarray):\n",
    "    # height = self.numpyarray.shape[1]\n",
    "    # width  = self.numpyarray.shape[0]\n",
    "    numpyarray = np.transpose(numpyarray, (1,0,2))                                                                                                                                                                              \n",
    "    return QImage(numpyarray.tobytes(), numpyarray.shape[1], numpyarray.shape[0], QImage.Format_RGB888)\n"
   ]
  },
  {
   "cell_type": "code",
   "execution_count": 110,
   "metadata": {},
   "outputs": [
    {
     "ename": "SyntaxError",
     "evalue": "invalid syntax (<ipython-input-110-1175d475c7e0>, line 1)",
     "output_type": "error",
     "traceback": [
      "\u001b[0;36m  File \u001b[0;32m\"<ipython-input-110-1175d475c7e0>\"\u001b[0;36m, line \u001b[0;32m1\u001b[0m\n\u001b[0;31m    if 1 is in (1,2):\u001b[0m\n\u001b[0m             ^\u001b[0m\n\u001b[0;31mSyntaxError\u001b[0m\u001b[0;31m:\u001b[0m invalid syntax\n"
     ]
    }
   ],
   "source": [
    "ims = []\n",
    "cal = []\n",
    "cal_gray = []\n",
    "paths = glob.glob('data/600V350Q401/*.jpg')\n",
    "step = 1\n",
    "image = cv.imread(paths[0])\n",
    "bgimg_gray = np.zeros((800, 1072))\n",
    "# print(type(bgimg_gray))\n",
    "# print(bgimg_gray.shape)\n",
    "for index, f in zip(range(len(paths)-1), paths[::step]):\n",
    "    if index >= step + 1000:\n",
    "        bgimg_gray /= index\n",
    "        break\n",
    "    image = cv.imread(f)\n",
    "    image = cv.cvtColor(image, cv.COLOR_BGR2RGB)\n",
    "    image_gray = cv.cvtColor(image, cv.COLOR_RGB2GRAY)\n",
    "\n",
    "    bgimg_gray = np.add(bgimg_gray, image_gray)\n",
    "    \n",
    "plt.imshow(bgimg_gray, cmap='gray')"
   ]
  },
  {
   "cell_type": "code",
   "execution_count": 157,
   "metadata": {},
   "outputs": [],
   "source": [
    "from PyQt5.QtCore import QThread, pyqtSignal\n"
   ]
  },
  {
   "cell_type": "code",
   "execution_count": null,
   "metadata": {},
   "outputs": [],
   "source": [
    "class BackendThread(QThread):\n",
    "    \n",
    "    update_cache = pyqtSignal(int)\n",
    "    \n",
    "    def run(self):\n",
    "        "
   ]
  },
  {
   "cell_type": "code",
   "execution_count": null,
   "metadata": {},
   "outputs": [],
   "source": []
  },
  {
   "cell_type": "code",
   "execution_count": 3,
   "metadata": {},
   "outputs": [],
   "source": [
    "class LabelsList():\n",
    "    def __init__(self, length):\n",
    "        self.labelslist = [None for _ in range(length)]\n",
    "\n",
    "    def __len__(self):\n",
    "        return len(self.labelslist)\n",
    "\n",
    "    def update(self,i, shapes):\n",
    "        self.labelslist[i] = shapes\n",
    "    \n",
    "    def __getitem__(self, n):\n",
    "        try:\n",
    "            self.labelslist[n]\n",
    "        except IndexError:\n",
    "            return None\n",
    "        else:\n",
    "            return self.labelslist[n]\n",
    "\n",
    "    def __setitem__(self, n, value):\n",
    "        self.labelslist[n] = value\n",
    "        \n",
    "    def __delitem__(self, n):\n",
    "        todelete = self.labelslist[n]\n",
    "        self.labelslist[n] = None\n",
    "        del(todelete)"
   ]
  },
  {
   "cell_type": "code",
   "execution_count": 4,
   "metadata": {},
   "outputs": [],
   "source": [
    "ll = LabelsList(999)\n"
   ]
  },
  {
   "cell_type": "code",
   "execution_count": 5,
   "metadata": {},
   "outputs": [],
   "source": [
    "ll[1] = 2"
   ]
  },
  {
   "cell_type": "code",
   "execution_count": 6,
   "metadata": {},
   "outputs": [
    {
     "data": {
      "text/plain": [
       "999"
      ]
     },
     "execution_count": 6,
     "metadata": {},
     "output_type": "execute_result"
    }
   ],
   "source": [
    "len(ll)"
   ]
  },
  {
   "cell_type": "code",
   "execution_count": 7,
   "metadata": {},
   "outputs": [
    {
     "data": {
      "text/plain": [
       "2"
      ]
     },
     "execution_count": 7,
     "metadata": {},
     "output_type": "execute_result"
    }
   ],
   "source": [
    "ll[1]"
   ]
  },
  {
   "cell_type": "code",
   "execution_count": 12,
   "metadata": {},
   "outputs": [
    {
     "data": {
      "text/plain": [
       "True"
      ]
     },
     "execution_count": 12,
     "metadata": {},
     "output_type": "execute_result"
    }
   ],
   "source": [
    "ll[98] is None"
   ]
  },
  {
   "cell_type": "code",
   "execution_count": 14,
   "metadata": {},
   "outputs": [],
   "source": [
    "l = [1,2,3,4]"
   ]
  },
  {
   "cell_type": "code",
   "execution_count": 16,
   "metadata": {},
   "outputs": [
    {
     "name": "stdout",
     "output_type": "stream",
     "text": [
      "1 1\n",
      "2 2\n",
      "3 3\n",
      "4 4\n"
     ]
    }
   ],
   "source": [
    "for i1, i2 in enumerate(l, start=1):\n",
    "    print(i1, i2)"
   ]
  },
  {
   "cell_type": "code",
   "execution_count": 27,
   "metadata": {},
   "outputs": [
    {
     "data": {
      "text/plain": [
       "(0, 4, 1)"
      ]
     },
     "execution_count": 27,
     "metadata": {},
     "output_type": "execute_result"
    }
   ],
   "source": [
    "a = slice(0,5,1)\n",
    "a.indices(4)"
   ]
  },
  {
   "cell_type": "code",
   "execution_count": 203,
   "metadata": {},
   "outputs": [],
   "source": [
    "ls = [None for _ in range(20)]"
   ]
  },
  {
   "cell_type": "code",
   "execution_count": 6,
   "metadata": {},
   "outputs": [
    {
     "data": {
      "text/plain": [
       "20"
      ]
     },
     "execution_count": 6,
     "metadata": {},
     "output_type": "execute_result"
    }
   ],
   "source": [
    "ls1, ls[1] = ls[1], None\n",
    "del ls1\n",
    "len(ls)"
   ]
  },
  {
   "cell_type": "code",
   "execution_count": 7,
   "metadata": {},
   "outputs": [],
   "source": [
    "class lsmanager:\n",
    "    def __init__(self):\n",
    "        self.ls = [1,2,3]\n",
    "    def __delitem__(self, i):\n",
    "        self.ls[i], tmp = None, self.ls[i]\n",
    "        del tmp\n",
    "    def __getitem__(self, i):\n",
    "        return self.ls[i]\n",
    "    def show(self,i):\n",
    "        print(self[i])"
   ]
  },
  {
   "cell_type": "code",
   "execution_count": 8,
   "metadata": {},
   "outputs": [
    {
     "data": {
      "text/plain": [
       "<__main__.lsmanager at 0x103120978>"
      ]
     },
     "execution_count": 8,
     "metadata": {},
     "output_type": "execute_result"
    }
   ],
   "source": [
    "ls = lsmanager()\n",
    "ls"
   ]
  },
  {
   "cell_type": "code",
   "execution_count": 9,
   "metadata": {},
   "outputs": [
    {
     "name": "stdout",
     "output_type": "stream",
     "text": [
      "2\n"
     ]
    }
   ],
   "source": [
    "ls.show(1)"
   ]
  },
  {
   "cell_type": "code",
   "execution_count": 10,
   "metadata": {},
   "outputs": [],
   "source": [
    "del ls[1]"
   ]
  },
  {
   "cell_type": "code",
   "execution_count": 11,
   "metadata": {},
   "outputs": [
    {
     "data": {
      "text/plain": [
       "[1, None, 3]"
      ]
     },
     "execution_count": 11,
     "metadata": {},
     "output_type": "execute_result"
    }
   ],
   "source": [
    "ls.ls"
   ]
  },
  {
   "cell_type": "code",
   "execution_count": 15,
   "metadata": {},
   "outputs": [],
   "source": [
    "del(ls[2])"
   ]
  },
  {
   "cell_type": "code",
   "execution_count": 16,
   "metadata": {},
   "outputs": [
    {
     "data": {
      "text/plain": [
       "[1, None, None]"
      ]
     },
     "execution_count": 16,
     "metadata": {},
     "output_type": "execute_result"
    }
   ],
   "source": [
    "ls.ls"
   ]
  },
  {
   "cell_type": "code",
   "execution_count": null,
   "metadata": {},
   "outputs": [],
   "source": []
  },
  {
   "cell_type": "code",
   "execution_count": 45,
   "metadata": {},
   "outputs": [],
   "source": [
    "import sys\n",
    "\n",
    "\n",
    "class _const:\n",
    "    class ConstError(TypeError):\n",
    "        pass\n",
    "    class ConstCaseError(ConstError):\n",
    "        pass\n",
    "    \n",
    "    def __setattr__(self, name, value):\n",
    "        if name in self.__dict__.keys():\n",
    "            raise(self.ConstError, \"Can't change const. \")\n",
    "        if not name.isupper():\n",
    "            raise(ConstCaseError, \\\n",
    "               'const name \"{}\" is not all uppercase'.format(name))\n",
    "        self.__dict__[name] = value\n",
    "\n",
    "sys.modules[\"const\"]=_const()\n",
    "\n"
   ]
  },
  {
   "cell_type": "code",
   "execution_count": 202,
   "metadata": {},
   "outputs": [],
   "source": [
    "# sys.modules"
   ]
  },
  {
   "cell_type": "code",
   "execution_count": 47,
   "metadata": {},
   "outputs": [],
   "source": [
    "import const"
   ]
  },
  {
   "cell_type": "code",
   "execution_count": 48,
   "metadata": {},
   "outputs": [],
   "source": [
    "const.A = 1"
   ]
  },
  {
   "cell_type": "code",
   "execution_count": 49,
   "metadata": {},
   "outputs": [
    {
     "data": {
      "text/plain": [
       "1"
      ]
     },
     "execution_count": 49,
     "metadata": {},
     "output_type": "execute_result"
    }
   ],
   "source": [
    "const.A"
   ]
  },
  {
   "cell_type": "code",
   "execution_count": 53,
   "metadata": {},
   "outputs": [],
   "source": [
    "from PyQt5.QtCore import QPointF\n",
    "from PyQt5.QtGui import QColor"
   ]
  },
  {
   "cell_type": "code",
   "execution_count": 87,
   "metadata": {},
   "outputs": [],
   "source": [
    "import os\n",
    "# import glob\n",
    "import cv2\n",
    "import matplotlib.pyplot as plt\n",
    "import numpy as np\n",
    "from PyQt5.QtCore import pyqtSignal, QPointF, QThread\n",
    "\n",
    "# background subtraction and other preprossing procedure\n",
    "BACKGROUND_FILENAME = \"background.jpg\"\n",
    "\n",
    "class PreprocessThread(QThread):\n",
    "\n",
    "    def __init__(self, imgList, length=10, imread_format=cv2.IMREAD_GRAYSCALE):\n",
    "        super(PreprocessThread, self).__init__()\n",
    "        self.imgPathList = imgList\n",
    "        self.backgroundFilePath = os.path.join(os.path.dirname(self.imgPathList[0]), BACKGROUND_FILENAME)\n",
    "        self.background = None\n",
    "        self.length = length\n",
    "        self.imread_format = imread_format\n",
    "        \n",
    "        tmp_img = cv2.imread(self.imgPathList[0], self.imread_format)\n",
    "        if len(tmp_img.shape) == 2:\n",
    "            self.height, self.width, self.depth = *tmp_img.shape, 1\n",
    "        elif len(tmp_img.shape) == 3:\n",
    "            self.height, self.width, self.depth = tmp_img.shape\n",
    "\n",
    "    def generateBackground(self):\n",
    "        if self.depth == 1:\n",
    "            background = np.zeros((self.height, self.width))\n",
    "        elif self.detph == 3:\n",
    "            background = np.zeros((self.height, self.width, self.depth))\n",
    "        print(\"self.height, self.width, self.depth\", self.height, self.width, self.depth)\n",
    "        for index, f in zip(range(self.length), self.imgPathList):\n",
    "            print(\"enter iter\", index)\n",
    "            img = cv2.imread(f, self.imread_format)\n",
    "            background = np.add(background, img)\n",
    "        background /= min(self.length, len(self.imgPathList))\n",
    "        cv2.imwrite(self.backgroundFilePath,background)\n",
    "        return background\n",
    "\n",
    "    def run(self):\n",
    "        print(\"enter run\")\n",
    "        if os.path.exists(self.backgroundFilePath):\n",
    "            print(\"enter self.backgroundFilePath\")\n",
    "            self.background = cv2.imread(self.backgroundFilePath, self.imread_format)\n",
    "            print(self.background, 1)\n",
    "        if self.background is None:\n",
    "            print(self.background, 2)\n",
    "            self.background = self.generateBackground()\n",
    "            print(self.background, 3)\n",
    "\n",
    "    def __getitem__(self,i):\n",
    "        ori = self.load_origin(i)\n",
    "        result = self.backgroundSubtraction(ori)\n",
    "        result = self.equalizeHist(result)\n",
    "        return result\n",
    "\n",
    "    def load_origin(self, i):\n",
    "        return cv2.imread(self.imgPathList[i], self.imread_format)\n",
    "    \n",
    "    def backgroundSubtraction(self, img, beta = 0.85):\n",
    "        background = self.background if self.background is not None else self.generateBackground()\n",
    "        result = np.subtract(img, beta*self.background)\n",
    "        result = abs(result)\n",
    "        return result\n",
    "\n",
    "    def equalizeHist(self, img):\n",
    "        return cv2.equalizeHist(np.array(img, dtype=np.uint8))"
   ]
  },
  {
   "cell_type": "code",
   "execution_count": null,
   "metadata": {},
   "outputs": [],
   "source": []
  },
  {
   "cell_type": "code",
   "execution_count": 103,
   "metadata": {},
   "outputs": [],
   "source": [
    "imgList = [ \"/Volumes/Jerry's/zhouhan/420V5/420V10Q225/420V10Q225_0000.jpg\",\n",
    "           \"/Volumes/Jerry's/zhouhan/420V5/420V10Q225/420V10Q225_0001.jpg\",\n",
    "           \"/Volumes/Jerry's/zhouhan/420V5/420V10Q225/420V10Q225_0002.jpg\",\n",
    "           \"/Volumes/Jerry's/zhouhan/420V5/420V10Q225/420V10Q225_0003.jpg\",\n",
    "           \"/Volumes/Jerry's/zhouhan/420V5/420V10Q225/420V10Q225_0004.jpg\",\n",
    "           \"/Volumes/Jerry's/zhouhan/420V5/420V10Q225/420V10Q225_0005.jpg\",\n",
    "           \"/Volumes/Jerry's/zhouhan/420V5/420V10Q225/420V10Q225_0006.jpg\",\n",
    "           \"/Volumes/Jerry's/zhouhan/420V5/420V10Q225/420V10Q225_0007.jpg\",\n",
    "           \"/Volumes/Jerry's/zhouhan/420V5/420V10Q225/420V10Q225_0008.jpg\",\n",
    "           \"/Volumes/Jerry's/zhouhan/420V5/420V10Q225/420V10Q225_0009.jpg\",\n",
    "           \"/Volumes/Jerry's/zhouhan/420V5/420V10Q225/420V10Q225_0010.jpg\"]"
   ]
  },
  {
   "cell_type": "code",
   "execution_count": 89,
   "metadata": {},
   "outputs": [],
   "source": [
    "backend = PreprocessThread(imgList)"
   ]
  },
  {
   "cell_type": "code",
   "execution_count": 90,
   "metadata": {},
   "outputs": [
    {
     "name": "stdout",
     "output_type": "stream",
     "text": [
      "enter run\n",
      "enter self.backgroundFilePath\n"
     ]
    }
   ],
   "source": [
    "backend.start()"
   ]
  },
  {
   "cell_type": "code",
   "execution_count": 91,
   "metadata": {},
   "outputs": [
    {
     "name": "stdout",
     "output_type": "stream",
     "text": [
      "[[0 0 0 ..., 0 0 0]\n",
      " [0 0 0 ..., 0 0 0]\n",
      " [0 0 0 ..., 0 0 0]\n",
      " ..., \n",
      " [1 1 1 ..., 0 0 0]\n",
      " [1 1 1 ..., 0 0 0]\n",
      " [1 1 1 ..., 0 0 0]] 1\n",
      "self.height, self.width, self.depth 800 1072 1\n",
      "enter iter 0\n",
      "enter iter 1\n",
      "enter iter 2\n",
      "enter iter 3\n",
      "enter iter 4\n",
      "enter iter 5\n",
      "enter iter 6\n",
      "enter iter 7\n",
      "enter iter 8\n",
      "enter iter 9\n"
     ]
    },
    {
     "data": {
      "text/plain": [
       "array([[17, 17, 17, ...,  0,  0,  0],\n",
       "       [17, 17, 17, ...,  0,  0,  0],\n",
       "       [17, 17, 17, ...,  0,  0,  0],\n",
       "       ..., \n",
       "       [ 0,  0,  0, ...,  0,  0,  0],\n",
       "       [ 0,  0,  0, ...,  0,  0,  0],\n",
       "       [ 0,  0,  0, ...,  0,  0,  0]], dtype=uint8)"
      ]
     },
     "execution_count": 91,
     "metadata": {},
     "output_type": "execute_result"
    }
   ],
   "source": [
    "backend[1]"
   ]
  },
  {
   "cell_type": "code",
   "execution_count": 92,
   "metadata": {},
   "outputs": [
    {
     "data": {
      "text/plain": [
       "numpy.ndarray"
      ]
     },
     "execution_count": 92,
     "metadata": {},
     "output_type": "execute_result"
    }
   ],
   "source": [
    "type(backend[1])"
   ]
  },
  {
   "cell_type": "code",
   "execution_count": 93,
   "metadata": {},
   "outputs": [
    {
     "data": {
      "text/plain": [
       "0"
      ]
     },
     "execution_count": 93,
     "metadata": {},
     "output_type": "execute_result"
    }
   ],
   "source": [
    "backend[1].min()"
   ]
  },
  {
   "cell_type": "code",
   "execution_count": 94,
   "metadata": {},
   "outputs": [
    {
     "data": {
      "image/png": "[encoded data removed]",
      "text/plain": [
       "<matplotlib.figure.Figure at 0x115ab9780>"
      ]
     },
     "metadata": {},
     "output_type": "display_data"
    }
   ],
   "source": [
    "plt.imshow(backend[1],cmap='gray')\n",
    "plt.show()"
   ]
  },
  {
   "cell_type": "code",
   "execution_count": 16,
   "metadata": {},
   "outputs": [
    {
     "ename": "AttributeError",
     "evalue": "module 'cv2.cv2' has no attribute 'fromarray'",
     "output_type": "error",
     "traceback": [
      "\u001b[0;31m---------------------------------------------------------------------------\u001b[0m",
      "\u001b[0;31mAttributeError\u001b[0m                            Traceback (most recent call last)",
      "\u001b[0;32m<ipython-input-16-1f6ec4a0bb3f>\u001b[0m in \u001b[0;36m<module>\u001b[0;34m()\u001b[0m\n\u001b[0;32m----> 1\u001b[0;31m \u001b[0mcv2\u001b[0m\u001b[0;34m.\u001b[0m\u001b[0mimshow\u001b[0m\u001b[0;34m(\u001b[0m\u001b[0;34m\"img\"\u001b[0m\u001b[0;34m,\u001b[0m\u001b[0mcv2\u001b[0m\u001b[0;34m.\u001b[0m\u001b[0mcv2\u001b[0m\u001b[0;34m.\u001b[0m\u001b[0mfromarray\u001b[0m\u001b[0;34m(\u001b[0m\u001b[0mbackend\u001b[0m\u001b[0;34m[\u001b[0m\u001b[0;36m1\u001b[0m\u001b[0;34m]\u001b[0m\u001b[0;34m)\u001b[0m\u001b[0;34m)\u001b[0m\u001b[0;34m\u001b[0m\u001b[0m\n\u001b[0m",
      "\u001b[0;31mAttributeError\u001b[0m: module 'cv2.cv2' has no attribute 'fromarray'"
     ]
    }
   ],
   "source": [
    "cv2.imshow(\"img\",cv2.fromarray(backend[1]))"
   ]
  },
  {
   "cell_type": "code",
   "execution_count": null,
   "metadata": {},
   "outputs": [],
   "source": []
  },
  {
   "cell_type": "code",
   "execution_count": 104,
   "metadata": {},
   "outputs": [
    {
     "data": {
      "text/plain": [
       "'420V10Q225_0000.jpg'"
      ]
     },
     "execution_count": 104,
     "metadata": {},
     "output_type": "execute_result"
    }
   ],
   "source": [
    "filename = \"/Volumes/Jerry's/zhouhan/420V5/420V10Q225/420V10Q225_0000.jpg\"\n",
    "os.path.basename(filename)"
   ]
  },
  {
   "cell_type": "code",
   "execution_count": 60,
   "metadata": {},
   "outputs": [
    {
     "data": {
      "text/plain": [
       "\"/Volumes/Jerry's/zhouhan/420V5/420V10Q225\""
      ]
     },
     "execution_count": 60,
     "metadata": {},
     "output_type": "execute_result"
    }
   ],
   "source": [
    "os.path.dirname(filename)"
   ]
  },
  {
   "cell_type": "code",
   "execution_count": null,
   "metadata": {},
   "outputs": [],
   "source": [
    "np.subtract()"
   ]
  },
  {
   "cell_type": "code",
   "execution_count": 96,
   "metadata": {},
   "outputs": [],
   "source": [
    "import numpy as np\n",
    "from PyQt5.QtGui import QImage\n",
    "import cv2"
   ]
  },
  {
   "cell_type": "markdown",
   "metadata": {},
   "source": [
    "[将np.array 转成 QImage 格式](https://www.aliyun.com/jiaocheng/433464.html?spm=5176.100033.2.9.34cb4d61JspVQl)\n"
   ]
  },
  {
   "cell_type": "code",
   "execution_count": 114,
   "metadata": {},
   "outputs": [],
   "source": [
    "def ndarray2qimage(ndarray):\n",
    "#     qimage = QImage()\n",
    "    if len(ndarray.shape) == 2:\n",
    "        height, width = ndarray.shape\n",
    "    elif len(ndarray.shape) == 3:\n",
    "        height, width, depth = ndarray.shape\n",
    "    if ndarray.dtype == np.uint8:\n",
    "        bytesPerComponent = 8\n",
    "        bytesPerLine = bytesPerComponent * width\n",
    "#     image = cv2.cvtColor(ndarray, cv2.COLOR_GRAY2RGB) \n",
    "    qimage = QImage(ndarray.data, width, height, bytesPerLine, QImage.Format_RGB888) \n",
    "    print(qimage)\n",
    "    \n",
    "\n",
    "def numpyarray2qimage(arr):\n",
    "    # height = self.numpyarray.shape[1]\n",
    "    # width  = self.numpyarray.shape[0]\n",
    "    numpyarray = np.transpose(arr, (1,0,2))                                                                                                                                                                              \n",
    "    return QImage(arr.tobytes(), 800, 1072,  6400, QImage.Format_RGB888)\n",
    "#     class mycsms(QWidget, Ui_csms, Ui_MainWindow): \n",
    "# def __init__(self): \n",
    "# super(mycsms, self).__init__() \n",
    "# self.setupUi(self) \n",
    "# self.image = QImage() \n",
    "# self.device = cv2.VideoCapture(0) \n",
    "# self.playTimer = Timer(\"updatePlay()\") \n",
    "# self.connect(self.playTimer, SIGNAL(\"updatePlay()\"), self.showCamer) \n",
    "# # 读摄像头 \n",
    "# def showCamer(self): \n",
    "# if self.device.isOpened(): \n",
    "# ret, frame = self.device.read() \n",
    "# else: \n",
    "# ret = False \n",
    "# # 读写磁盘方式 \n",
    "# # cv2.imwrite(\"2.png\", frame) \n",
    "# # self.image.load(\"2.png\") \n",
    "# height, width, bytesPerComponent = frame.shape \n",
    "# bytesPerLine = bytesPerComponent * width \n",
    "# # 变换彩色空间顺序 \n",
    "# cv2.cvtColor(frame, cv2.COLOR_BGR2RGB,frame) \n",
    "# # 转为QImage对象 \n",
    "# self.image = QImage(frame.data, width, height, bytesPerLine, QImage.Format_RGB888) \n",
    "# self.view.setPixmap(QPixmap.fromImage(self.image))"
   ]
  },
  {
   "cell_type": "code",
   "execution_count": 115,
   "metadata": {},
   "outputs": [],
   "source": [
    "img = cv2.imread(filename, cv2.IMREAD_GRAYSCALE)"
   ]
  },
  {
   "cell_type": "code",
   "execution_count": 116,
   "metadata": {},
   "outputs": [
    {
     "name": "stdout",
     "output_type": "stream",
     "text": [
      "<PyQt5.QtGui.QImage object at 0x1141410b8>\n"
     ]
    }
   ],
   "source": [
    "ndarray2qimage(img)"
   ]
  },
  {
   "cell_type": "code",
   "execution_count": null,
   "metadata": {},
   "outputs": [],
   "source": [
    "import os\n",
    "os.remove()"
   ]
  },
  {
   "cell_type": "code",
   "execution_count": null,
   "metadata": {},
   "outputs": [],
   "source": [
    "cv2.imwrite()"
   ]
  },
  {
   "cell_type": "code",
   "execution_count": null,
   "metadata": {},
   "outputs": [],
   "source": []
  },
  {
   "cell_type": "code",
   "execution_count": 6,
   "metadata": {},
   "outputs": [
    {
     "ename": "ValueError",
     "evalue": "could not convert string to float: '11a'",
     "output_type": "error",
     "traceback": [
      "\u001b[0;31m---------------------------------------------------------------------------\u001b[0m",
      "\u001b[0;31mValueError\u001b[0m                                Traceback (most recent call last)",
      "\u001b[0;32m<ipython-input-6-5a471df63200>\u001b[0m in \u001b[0;36m<module>\u001b[0;34m()\u001b[0m\n\u001b[0;32m----> 1\u001b[0;31m \u001b[0mfloat\u001b[0m\u001b[0;34m(\u001b[0m\u001b[0;34m\"11a\"\u001b[0m\u001b[0;34m)\u001b[0m\u001b[0;34m\u001b[0m\u001b[0m\n\u001b[0m",
      "\u001b[0;31mValueError\u001b[0m: could not convert string to float: '11a'"
     ]
    }
   ],
   "source": [
    "float(\"11a\")"
   ]
  },
  {
   "cell_type": "code",
   "execution_count": 9,
   "metadata": {},
   "outputs": [],
   "source": [
    "dct = dict()"
   ]
  },
  {
   "cell_type": "code",
   "execution_count": 17,
   "metadata": {},
   "outputs": [],
   "source": [
    "dct.update({\"1\":2})\n",
    "dct.update({\"1\":3})"
   ]
  },
  {
   "cell_type": "code",
   "execution_count": 18,
   "metadata": {},
   "outputs": [
    {
     "data": {
      "text/plain": [
       "{'1': 3}"
      ]
     },
     "execution_count": 18,
     "metadata": {},
     "output_type": "execute_result"
    }
   ],
   "source": [
    "dct"
   ]
  },
  {
   "cell_type": "code",
   "execution_count": 13,
   "metadata": {},
   "outputs": [
    {
     "ename": "ValueError",
     "evalue": "dictionary update sequence element #0 has length 1; 2 is required",
     "output_type": "error",
     "traceback": [
      "\u001b[0;31m---------------------------------------------------------------------------\u001b[0m",
      "\u001b[0;31mValueError\u001b[0m                                Traceback (most recent call last)",
      "\u001b[0;32m<ipython-input-13-69c6ec21ec74>\u001b[0m in \u001b[0;36m<module>\u001b[0;34m()\u001b[0m\n\u001b[0;32m----> 1\u001b[0;31m \u001b[0mdct\u001b[0m\u001b[0;34m.\u001b[0m\u001b[0mupdate\u001b[0m\u001b[0;34m(\u001b[0m\u001b[0mdict\u001b[0m\u001b[0;34m(\u001b[0m\u001b[0;34m(\u001b[0m\u001b[0;34m'1'\u001b[0m\u001b[0;34m,\u001b[0m\u001b[0;36m2\u001b[0m\u001b[0;34m)\u001b[0m\u001b[0;34m)\u001b[0m\u001b[0;34m)\u001b[0m\u001b[0;34m\u001b[0m\u001b[0m\n\u001b[0m",
      "\u001b[0;31mValueError\u001b[0m: dictionary update sequence element #0 has length 1; 2 is required"
     ]
    }
   ],
   "source": [
    "dct.update(dict(('1',2)))"
   ]
  },
  {
   "cell_type": "code",
   "execution_count": 24,
   "metadata": {},
   "outputs": [],
   "source": [
    "import pandas as pd"
   ]
  },
  {
   "cell_type": "code",
   "execution_count": 33,
   "metadata": {},
   "outputs": [],
   "source": [
    "df = pd.DataFrame(columns=['dir','subdir', 'img', 'index', 'radius'])"
   ]
  },
  {
   "cell_type": "code",
   "execution_count": 34,
   "metadata": {},
   "outputs": [
    {
     "data": {
      "text/html": [
       "<div>\n",
       "<style>\n",
       "    .dataframe thead tr:only-child th {\n",
       "        text-align: right;\n",
       "    }\n",
       "\n",
       "    .dataframe thead th {\n",
       "        text-align: left;\n",
       "    }\n",
       "\n",
       "    .dataframe tbody tr th {\n",
       "        vertical-align: top;\n",
       "    }\n",
       "</style>\n",
       "<table border=\"1\" class=\"dataframe\">\n",
       "  <thead>\n",
       "    <tr style=\"text-align: right;\">\n",
       "      <th></th>\n",
       "      <th>dir</th>\n",
       "      <th>subdir</th>\n",
       "      <th>img</th>\n",
       "      <th>index</th>\n",
       "      <th>radius</th>\n",
       "    </tr>\n",
       "  </thead>\n",
       "  <tbody>\n",
       "  </tbody>\n",
       "</table>\n",
       "</div>"
      ],
      "text/plain": [
       "Empty DataFrame\n",
       "Columns: [dir, subdir, img, index, radius]\n",
       "Index: []"
      ]
     },
     "execution_count": 34,
     "metadata": {},
     "output_type": "execute_result"
    }
   ],
   "source": [
    "df.update([1,2,3,4,5])\n",
    "df"
   ]
  },
  {
   "cell_type": "code",
   "execution_count": 29,
   "metadata": {},
   "outputs": [
    {
     "name": "stderr",
     "output_type": "stream",
     "text": [
      "/anaconda3/envs/dl/lib/python3.6/site-packages/pandas/core/indexes/api.py:77: RuntimeWarning: '<' not supported between instances of 'str' and 'int', sort order is undefined for incomparable objects\n",
      "  result = result.union(other)\n"
     ]
    },
    {
     "data": {
      "text/html": [
       "<div>\n",
       "<style>\n",
       "    .dataframe thead tr:only-child th {\n",
       "        text-align: right;\n",
       "    }\n",
       "\n",
       "    .dataframe thead th {\n",
       "        text-align: left;\n",
       "    }\n",
       "\n",
       "    .dataframe tbody tr th {\n",
       "        vertical-align: top;\n",
       "    }\n",
       "</style>\n",
       "<table border=\"1\" class=\"dataframe\">\n",
       "  <thead>\n",
       "    <tr style=\"text-align: right;\">\n",
       "      <th></th>\n",
       "      <th>dir</th>\n",
       "      <th>subdir</th>\n",
       "      <th>img</th>\n",
       "      <th>index</th>\n",
       "      <th>radius</th>\n",
       "      <th>0</th>\n",
       "    </tr>\n",
       "  </thead>\n",
       "  <tbody>\n",
       "    <tr>\n",
       "      <th>0</th>\n",
       "      <td>NaN</td>\n",
       "      <td>NaN</td>\n",
       "      <td>NaN</td>\n",
       "      <td>NaN</td>\n",
       "      <td>NaN</td>\n",
       "      <td>1.0</td>\n",
       "    </tr>\n",
       "    <tr>\n",
       "      <th>1</th>\n",
       "      <td>NaN</td>\n",
       "      <td>NaN</td>\n",
       "      <td>NaN</td>\n",
       "      <td>NaN</td>\n",
       "      <td>NaN</td>\n",
       "      <td>2.0</td>\n",
       "    </tr>\n",
       "    <tr>\n",
       "      <th>2</th>\n",
       "      <td>NaN</td>\n",
       "      <td>NaN</td>\n",
       "      <td>NaN</td>\n",
       "      <td>NaN</td>\n",
       "      <td>NaN</td>\n",
       "      <td>3.0</td>\n",
       "    </tr>\n",
       "    <tr>\n",
       "      <th>3</th>\n",
       "      <td>NaN</td>\n",
       "      <td>NaN</td>\n",
       "      <td>NaN</td>\n",
       "      <td>NaN</td>\n",
       "      <td>NaN</td>\n",
       "      <td>4.0</td>\n",
       "    </tr>\n",
       "    <tr>\n",
       "      <th>4</th>\n",
       "      <td>NaN</td>\n",
       "      <td>NaN</td>\n",
       "      <td>NaN</td>\n",
       "      <td>NaN</td>\n",
       "      <td>NaN</td>\n",
       "      <td>5.0</td>\n",
       "    </tr>\n",
       "  </tbody>\n",
       "</table>\n",
       "</div>"
      ],
      "text/plain": [
       "   dir subdir  img index radius    0\n",
       "0  NaN    NaN  NaN   NaN    NaN  1.0\n",
       "1  NaN    NaN  NaN   NaN    NaN  2.0\n",
       "2  NaN    NaN  NaN   NaN    NaN  3.0\n",
       "3  NaN    NaN  NaN   NaN    NaN  4.0\n",
       "4  NaN    NaN  NaN   NaN    NaN  5.0"
      ]
     },
     "execution_count": 29,
     "metadata": {},
     "output_type": "execute_result"
    }
   ],
   "source": [
    "df.append([1,2,3,4,5])"
   ]
  },
  {
   "cell_type": "code",
   "execution_count": 47,
   "metadata": {},
   "outputs": [
    {
     "data": {
      "text/html": [
       "<div>\n",
       "<style>\n",
       "    .dataframe thead tr:only-child th {\n",
       "        text-align: right;\n",
       "    }\n",
       "\n",
       "    .dataframe thead th {\n",
       "        text-align: left;\n",
       "    }\n",
       "\n",
       "    .dataframe tbody tr th {\n",
       "        vertical-align: top;\n",
       "    }\n",
       "</style>\n",
       "<table border=\"1\" class=\"dataframe\">\n",
       "  <thead>\n",
       "    <tr style=\"text-align: right;\">\n",
       "      <th></th>\n",
       "      <th>dir</th>\n",
       "      <th>subdir</th>\n",
       "      <th>img</th>\n",
       "      <th>index</th>\n",
       "      <th>radius</th>\n",
       "    </tr>\n",
       "  </thead>\n",
       "  <tbody>\n",
       "    <tr>\n",
       "      <th>0</th>\n",
       "      <td>1</td>\n",
       "      <td>2</td>\n",
       "      <td>3</td>\n",
       "      <td>4</td>\n",
       "      <td>5</td>\n",
       "    </tr>\n",
       "    <tr>\n",
       "      <th>1</th>\n",
       "      <td>1</td>\n",
       "      <td>2</td>\n",
       "      <td>3</td>\n",
       "      <td>4</td>\n",
       "      <td>5</td>\n",
       "    </tr>\n",
       "    <tr>\n",
       "      <th>2</th>\n",
       "      <td>1</td>\n",
       "      <td>2</td>\n",
       "      <td>3</td>\n",
       "      <td>4</td>\n",
       "      <td>5</td>\n",
       "    </tr>\n",
       "    <tr>\n",
       "      <th>3</th>\n",
       "      <td>1</td>\n",
       "      <td>2</td>\n",
       "      <td>3</td>\n",
       "      <td>4</td>\n",
       "      <td>5</td>\n",
       "    </tr>\n",
       "    <tr>\n",
       "      <th>4</th>\n",
       "      <td>1</td>\n",
       "      <td>2</td>\n",
       "      <td>3</td>\n",
       "      <td>4</td>\n",
       "      <td>5</td>\n",
       "    </tr>\n",
       "    <tr>\n",
       "      <th>5</th>\n",
       "      <td>1</td>\n",
       "      <td>2</td>\n",
       "      <td>3</td>\n",
       "      <td>4</td>\n",
       "      <td>5</td>\n",
       "    </tr>\n",
       "  </tbody>\n",
       "</table>\n",
       "</div>"
      ],
      "text/plain": [
       "  dir subdir img index radius\n",
       "0   1      2   3     4      5\n",
       "1   1      2   3     4      5\n",
       "2   1      2   3     4      5\n",
       "3   1      2   3     4      5\n",
       "4   1      2   3     4      5\n",
       "5   1      2   3     4      5"
      ]
     },
     "execution_count": 47,
     "metadata": {},
     "output_type": "execute_result"
    }
   ],
   "source": [
    "df = df.append([{'dir':1,'subdir':2, 'img':3, 'index':4, 'radius':5}], ignore_index=True)\n",
    "df"
   ]
  },
  {
   "cell_type": "code",
   "execution_count": 50,
   "metadata": {},
   "outputs": [
    {
     "data": {
      "text/plain": [
       "5.0"
      ]
     },
     "execution_count": 50,
     "metadata": {},
     "output_type": "execute_result"
    }
   ],
   "source": [
    "df['radius'].mean()"
   ]
  },
  {
   "cell_type": "code",
   "execution_count": 58,
   "metadata": {},
   "outputs": [
    {
     "data": {
      "text/plain": [
       "[(4.5, 4.5999999999999996),\n",
       " (4.5999999999999996, 4.7000000000000002),\n",
       " (4.7000000000000002, 4.7999999999999998),\n",
       " (4.7999999999999998, 4.9000000000000004),\n",
       " (4.9000000000000004, 5.0),\n",
       " (5.0, 5.0999999999999996),\n",
       " (5.0999999999999996, 5.2000000000000002),\n",
       " (5.2000000000000002, 5.2999999999999998),\n",
       " (5.2999999999999998, 5.4000000000000004),\n",
       " (5.4000000000000004, 5.5)]"
      ]
     },
     "execution_count": 58,
     "metadata": {},
     "output_type": "execute_result"
    }
   ],
   "source": [
    "values, bins = np.histogram(df['radius'])\n",
    "bins = [(bins[i], bins[i+1]) for i in range(len(bins)-1)]\n",
    "bins"
   ]
  },
  {
   "cell_type": "code",
   "execution_count": 64,
   "metadata": {},
   "outputs": [],
   "source": [
    "distribution= ''"
   ]
  },
  {
   "cell_type": "code",
   "execution_count": 65,
   "metadata": {},
   "outputs": [],
   "source": [
    "for bin_, value in zip(bins, values):\n",
    "    distribution += '({0[0]:.2f}, {0[0]:.2f}) : {1: d}\\n'.format(bin_, value)"
   ]
  },
  {
   "cell_type": "code",
   "execution_count": 66,
   "metadata": {},
   "outputs": [
    {
     "name": "stdout",
     "output_type": "stream",
     "text": [
      "(4.50, 4.50) :  0\n",
      "(4.60, 4.60) :  0\n",
      "(4.70, 4.70) :  0\n",
      "(4.80, 4.80) :  0\n",
      "(4.90, 4.90) :  0\n",
      "(5.00, 5.00) :  6\n",
      "(5.10, 5.10) :  0\n",
      "(5.20, 5.20) :  0\n",
      "(5.30, 5.30) :  0\n",
      "(5.40, 5.40) :  0\n",
      "\n"
     ]
    }
   ],
   "source": [
    "print(distribution)"
   ]
  },
  {
   "cell_type": "code",
   "execution_count": null,
   "metadata": {},
   "outputs": [],
   "source": []
  },
  {
   "cell_type": "code",
   "execution_count": null,
   "metadata": {},
   "outputs": [],
   "source": []
  },
  {
   "cell_type": "code",
   "execution_count": null,
   "metadata": {},
   "outputs": [],
   "source": []
  },
  {
   "cell_type": "code",
   "execution_count": null,
   "metadata": {},
   "outputs": [],
   "source": []
  },
  {
   "cell_type": "code",
   "execution_count": 10,
   "metadata": {},
   "outputs": [],
   "source": [
    "import os"
   ]
  },
  {
   "cell_type": "code",
   "execution_count": 11,
   "metadata": {},
   "outputs": [
    {
     "data": {
      "text/plain": [
       "'420V10Q225_0000.jpg'"
      ]
     },
     "execution_count": 11,
     "metadata": {},
     "output_type": "execute_result"
    }
   ],
   "source": [
    "filename = \"/Volumes/Jerry's/zhouhan/420V5/420V10Q225/420V10Q225_0000.jpg\"\n",
    "os.path.basename(filename)"
   ]
  },
  {
   "cell_type": "code",
   "execution_count": 12,
   "metadata": {},
   "outputs": [
    {
     "data": {
      "text/plain": [
       "'420V10Q225'"
      ]
     },
     "execution_count": 12,
     "metadata": {},
     "output_type": "execute_result"
    }
   ],
   "source": [
    "os.path.basename(os.path.dirname(filename))"
   ]
  },
  {
   "cell_type": "code",
   "execution_count": 13,
   "metadata": {},
   "outputs": [
    {
     "data": {
      "text/plain": [
       "\"/Volumes/Jerry's/zhouhan/420V5\""
      ]
     },
     "execution_count": 13,
     "metadata": {},
     "output_type": "execute_result"
    }
   ],
   "source": [
    "os.path.dirname(os.path.dirname(filename))"
   ]
  },
  {
   "cell_type": "code",
   "execution_count": 14,
   "metadata": {},
   "outputs": [],
   "source": [
    "xmlfile = os.path.basename(filename)\n",
    "subdir = os.path.basename(os.path.dirname(filename))\n",
    "dir_ = os.path.dirname(os.path.dirname(filename))\n"
   ]
  },
  {
   "cell_type": "code",
   "execution_count": 16,
   "metadata": {},
   "outputs": [
    {
     "data": {
      "text/plain": [
       "\"/Volumes/Jerry's/zhouhan/420V5\""
      ]
     },
     "execution_count": 16,
     "metadata": {},
     "output_type": "execute_result"
    }
   ],
   "source": [
    "os.path.join(xmlfile, subdir,dir_)"
   ]
  },
  {
   "cell_type": "code",
   "execution_count": 20,
   "metadata": {},
   "outputs": [],
   "source": [
    "from math import sqrt"
   ]
  },
  {
   "cell_type": "code",
   "execution_count": 21,
   "metadata": {},
   "outputs": [],
   "source": [
    "def getRadius(pts):\n",
    "    def distance(p1, p2):\n",
    "        x1, y1 = p1\n",
    "        x2, y2 = p2\n",
    "        return sqrt( (x2-x1)**2 + (y2-y1)**2 )\n",
    "    p1, p2, p3, p4 = pts\n",
    "    return sqrt(distance(p1, p2) * distance(p3, p4))"
   ]
  },
  {
   "cell_type": "code",
   "execution_count": 22,
   "metadata": {},
   "outputs": [],
   "source": [
    "pts = [(0,0),\n",
    "       (0,1),\n",
    "       (1,2),\n",
    "       (1,3)]"
   ]
  },
  {
   "cell_type": "code",
   "execution_count": 23,
   "metadata": {},
   "outputs": [
    {
     "data": {
      "text/plain": [
       "1.0"
      ]
     },
     "execution_count": 23,
     "metadata": {},
     "output_type": "execute_result"
    }
   ],
   "source": [
    "getRadius(pts)"
   ]
  },
  {
   "cell_type": "code",
   "execution_count": 104,
   "metadata": {},
   "outputs": [
    {
     "data": {
      "text/plain": [
       "0"
      ]
     },
     "execution_count": 104,
     "metadata": {},
     "output_type": "execute_result"
    }
   ],
   "source": [
    "lst = [1,2,3,4]\n",
    "lst.index(1)"
   ]
  },
  {
   "cell_type": "code",
   "execution_count": 102,
   "metadata": {},
   "outputs": [],
   "source": [
    "from PyQt5.QtCore import QPointF"
   ]
  },
  {
   "cell_type": "code",
   "execution_count": 71,
   "metadata": {},
   "outputs": [],
   "source": [
    "csvfilename = \"/Volumes/Jerry's/zhouhan/420V5/420V10Q225/track.csv\""
   ]
  },
  {
   "cell_type": "code",
   "execution_count": 68,
   "metadata": {},
   "outputs": [],
   "source": [
    "import pandas as pd"
   ]
  },
  {
   "cell_type": "code",
   "execution_count": 81,
   "metadata": {},
   "outputs": [
    {
     "data": {
      "text/html": [
       "<div>\n",
       "<style>\n",
       "    .dataframe thead tr:only-child th {\n",
       "        text-align: right;\n",
       "    }\n",
       "\n",
       "    .dataframe thead th {\n",
       "        text-align: left;\n",
       "    }\n",
       "\n",
       "    .dataframe tbody tr th {\n",
       "        vertical-align: top;\n",
       "    }\n",
       "</style>\n",
       "<table border=\"1\" class=\"dataframe\">\n",
       "  <thead>\n",
       "    <tr style=\"text-align: right;\">\n",
       "      <th></th>\n",
       "      <th>dir</th>\n",
       "      <th>subdir</th>\n",
       "      <th>imgfile</th>\n",
       "      <th>index</th>\n",
       "      <th>label</th>\n",
       "      <th>shapeType</th>\n",
       "      <th>points</th>\n",
       "      <th>difficult</th>\n",
       "    </tr>\n",
       "  </thead>\n",
       "  <tbody>\n",
       "    <tr>\n",
       "      <th>0</th>\n",
       "      <td>/Volumes/Jerry's/zhouhan/420V5</td>\n",
       "      <td>420V10Q225</td>\n",
       "      <td>420V10Q225_0000.jpg</td>\n",
       "      <td>0</td>\n",
       "      <td>Broken 0</td>\n",
       "      <td>box</td>\n",
       "      <td>[(556, 147), (877, 147), (877, 425), (556, 425)]</td>\n",
       "      <td>False</td>\n",
       "    </tr>\n",
       "    <tr>\n",
       "      <th>1</th>\n",
       "      <td>/Volumes/Jerry's/zhouhan/420V5</td>\n",
       "      <td>420V10Q225</td>\n",
       "      <td>420V10Q225_0000.jpg</td>\n",
       "      <td>1</td>\n",
       "      <td>Broken 1</td>\n",
       "      <td>ellipse</td>\n",
       "      <td>[(162, 328), (234, 451), (275, 356), (145, 436)]</td>\n",
       "      <td>False</td>\n",
       "    </tr>\n",
       "    <tr>\n",
       "      <th>2</th>\n",
       "      <td>/Volumes/Jerry's/zhouhan/420V5</td>\n",
       "      <td>420V10Q225</td>\n",
       "      <td>420V10Q225_0001.jpg</td>\n",
       "      <td>3</td>\n",
       "      <td>Broken 3</td>\n",
       "      <td>box</td>\n",
       "      <td>[(178, 234), (521, 234), (521, 496), (178, 496)]</td>\n",
       "      <td>False</td>\n",
       "    </tr>\n",
       "    <tr>\n",
       "      <th>3</th>\n",
       "      <td>/Volumes/Jerry's/zhouhan/420V5</td>\n",
       "      <td>420V10Q225</td>\n",
       "      <td>420V10Q225_0002.jpg</td>\n",
       "      <td>0</td>\n",
       "      <td>Broken 0</td>\n",
       "      <td>ellipse</td>\n",
       "      <td>[(613, 310), (699, 407), (705, 317), (611, 407)]</td>\n",
       "      <td>False</td>\n",
       "    </tr>\n",
       "    <tr>\n",
       "      <th>4</th>\n",
       "      <td>/Volumes/Jerry's/zhouhan/420V5</td>\n",
       "      <td>420V10Q225</td>\n",
       "      <td>420V10Q225_0002.jpg</td>\n",
       "      <td>1</td>\n",
       "      <td>Broken 1</td>\n",
       "      <td>ellipse</td>\n",
       "      <td>[(444, 510), (501, 654), (500, 578), (359, 623)]</td>\n",
       "      <td>False</td>\n",
       "    </tr>\n",
       "    <tr>\n",
       "      <th>5</th>\n",
       "      <td>/Volumes/Jerry's/zhouhan/420V5</td>\n",
       "      <td>420V10Q225</td>\n",
       "      <td>420V10Q225_0002.jpg</td>\n",
       "      <td>2</td>\n",
       "      <td>Broken 2</td>\n",
       "      <td>ellipse</td>\n",
       "      <td>[(655, 470), (683, 572), (716, 499), (614, 510)]</td>\n",
       "      <td>False</td>\n",
       "    </tr>\n",
       "    <tr>\n",
       "      <th>6</th>\n",
       "      <td>/Volumes/Jerry's/zhouhan/420V5</td>\n",
       "      <td>420V10Q225</td>\n",
       "      <td>420V10Q225_0002.jpg</td>\n",
       "      <td>3</td>\n",
       "      <td>Broken 3</td>\n",
       "      <td>ellipse</td>\n",
       "      <td>[(830, 206), (870, 300), (884, 222), (757, 271)]</td>\n",
       "      <td>False</td>\n",
       "    </tr>\n",
       "    <tr>\n",
       "      <th>7</th>\n",
       "      <td>/Volumes/Jerry's/zhouhan/420V5</td>\n",
       "      <td>420V10Q225</td>\n",
       "      <td>420V10Q225_0003.jpg</td>\n",
       "      <td>0</td>\n",
       "      <td>Broken 0</td>\n",
       "      <td>ellipse</td>\n",
       "      <td>[(202, 441), (259, 539), (273, 462), (166, 512)]</td>\n",
       "      <td>False</td>\n",
       "    </tr>\n",
       "    <tr>\n",
       "      <th>8</th>\n",
       "      <td>/Volumes/Jerry's/zhouhan/420V5</td>\n",
       "      <td>420V10Q225</td>\n",
       "      <td>420V10Q225_0003.jpg</td>\n",
       "      <td>1</td>\n",
       "      <td>Broken 1</td>\n",
       "      <td>ellipse</td>\n",
       "      <td>[(628, 531), (670, 579), (680, 530), (628, 573)]</td>\n",
       "      <td>False</td>\n",
       "    </tr>\n",
       "    <tr>\n",
       "      <th>9</th>\n",
       "      <td>/Volumes/Jerry's/zhouhan/420V5</td>\n",
       "      <td>420V10Q225</td>\n",
       "      <td>420V10Q225_0003.jpg</td>\n",
       "      <td>2</td>\n",
       "      <td>Broken 2</td>\n",
       "      <td>ellipse</td>\n",
       "      <td>[(461, 322), (457, 369), (442, 344), (477, 347)]</td>\n",
       "      <td>False</td>\n",
       "    </tr>\n",
       "    <tr>\n",
       "      <th>10</th>\n",
       "      <td>/Volumes/Jerry's/zhouhan/420V5</td>\n",
       "      <td>420V10Q225</td>\n",
       "      <td>420V10Q225_0003.jpg</td>\n",
       "      <td>3</td>\n",
       "      <td>Broken 3</td>\n",
       "      <td>ellipse</td>\n",
       "      <td>[(555, 353), (548, 395), (530, 373), (567, 377)]</td>\n",
       "      <td>False</td>\n",
       "    </tr>\n",
       "    <tr>\n",
       "      <th>11</th>\n",
       "      <td>/Volumes/Jerry's/zhouhan/420V5</td>\n",
       "      <td>420V10Q225</td>\n",
       "      <td>420V10Q225_0003.jpg</td>\n",
       "      <td>4</td>\n",
       "      <td>Broken 4</td>\n",
       "      <td>ellipse</td>\n",
       "      <td>[(606, 340), (637, 384), (643, 349), (605, 374)]</td>\n",
       "      <td>False</td>\n",
       "    </tr>\n",
       "    <tr>\n",
       "      <th>12</th>\n",
       "      <td>/Volumes/Jerry's/zhouhan/420V5</td>\n",
       "      <td>420V10Q225</td>\n",
       "      <td>420V10Q225_0003.jpg</td>\n",
       "      <td>5</td>\n",
       "      <td>Broken 5</td>\n",
       "      <td>ellipse</td>\n",
       "      <td>[(699, 239), (704, 261), (712, 248), (688, 254)]</td>\n",
       "      <td>False</td>\n",
       "    </tr>\n",
       "    <tr>\n",
       "      <th>13</th>\n",
       "      <td>/Volumes/Jerry's/zhouhan/420V5</td>\n",
       "      <td>420V10Q225</td>\n",
       "      <td>420V10Q225_0003.jpg</td>\n",
       "      <td>6</td>\n",
       "      <td>Broken 6</td>\n",
       "      <td>ellipse</td>\n",
       "      <td>[(220, 227), (288, 298), (286, 230), (235, 293)]</td>\n",
       "      <td>False</td>\n",
       "    </tr>\n",
       "  </tbody>\n",
       "</table>\n",
       "</div>"
      ],
      "text/plain": [
       "                               dir      subdir              imgfile  index  \\\n",
       "0   /Volumes/Jerry's/zhouhan/420V5  420V10Q225  420V10Q225_0000.jpg      0   \n",
       "1   /Volumes/Jerry's/zhouhan/420V5  420V10Q225  420V10Q225_0000.jpg      1   \n",
       "2   /Volumes/Jerry's/zhouhan/420V5  420V10Q225  420V10Q225_0001.jpg      3   \n",
       "3   /Volumes/Jerry's/zhouhan/420V5  420V10Q225  420V10Q225_0002.jpg      0   \n",
       "4   /Volumes/Jerry's/zhouhan/420V5  420V10Q225  420V10Q225_0002.jpg      1   \n",
       "5   /Volumes/Jerry's/zhouhan/420V5  420V10Q225  420V10Q225_0002.jpg      2   \n",
       "6   /Volumes/Jerry's/zhouhan/420V5  420V10Q225  420V10Q225_0002.jpg      3   \n",
       "7   /Volumes/Jerry's/zhouhan/420V5  420V10Q225  420V10Q225_0003.jpg      0   \n",
       "8   /Volumes/Jerry's/zhouhan/420V5  420V10Q225  420V10Q225_0003.jpg      1   \n",
       "9   /Volumes/Jerry's/zhouhan/420V5  420V10Q225  420V10Q225_0003.jpg      2   \n",
       "10  /Volumes/Jerry's/zhouhan/420V5  420V10Q225  420V10Q225_0003.jpg      3   \n",
       "11  /Volumes/Jerry's/zhouhan/420V5  420V10Q225  420V10Q225_0003.jpg      4   \n",
       "12  /Volumes/Jerry's/zhouhan/420V5  420V10Q225  420V10Q225_0003.jpg      5   \n",
       "13  /Volumes/Jerry's/zhouhan/420V5  420V10Q225  420V10Q225_0003.jpg      6   \n",
       "\n",
       "       label shapeType                                            points  \\\n",
       "0   Broken 0       box  [(556, 147), (877, 147), (877, 425), (556, 425)]   \n",
       "1   Broken 1   ellipse  [(162, 328), (234, 451), (275, 356), (145, 436)]   \n",
       "2   Broken 3       box  [(178, 234), (521, 234), (521, 496), (178, 496)]   \n",
       "3   Broken 0   ellipse  [(613, 310), (699, 407), (705, 317), (611, 407)]   \n",
       "4   Broken 1   ellipse  [(444, 510), (501, 654), (500, 578), (359, 623)]   \n",
       "5   Broken 2   ellipse  [(655, 470), (683, 572), (716, 499), (614, 510)]   \n",
       "6   Broken 3   ellipse  [(830, 206), (870, 300), (884, 222), (757, 271)]   \n",
       "7   Broken 0   ellipse  [(202, 441), (259, 539), (273, 462), (166, 512)]   \n",
       "8   Broken 1   ellipse  [(628, 531), (670, 579), (680, 530), (628, 573)]   \n",
       "9   Broken 2   ellipse  [(461, 322), (457, 369), (442, 344), (477, 347)]   \n",
       "10  Broken 3   ellipse  [(555, 353), (548, 395), (530, 373), (567, 377)]   \n",
       "11  Broken 4   ellipse  [(606, 340), (637, 384), (643, 349), (605, 374)]   \n",
       "12  Broken 5   ellipse  [(699, 239), (704, 261), (712, 248), (688, 254)]   \n",
       "13  Broken 6   ellipse  [(220, 227), (288, 298), (286, 230), (235, 293)]   \n",
       "\n",
       "    difficult  \n",
       "0       False  \n",
       "1       False  \n",
       "2       False  \n",
       "3       False  \n",
       "4       False  \n",
       "5       False  \n",
       "6       False  \n",
       "7       False  \n",
       "8       False  \n",
       "9       False  \n",
       "10      False  \n",
       "11      False  \n",
       "12      False  \n",
       "13      False  "
      ]
     },
     "execution_count": 81,
     "metadata": {},
     "output_type": "execute_result"
    }
   ],
   "source": [
    "df = pd.read_csv(csvfilename,encoding='utf-8')\n",
    "df"
   ]
  },
  {
   "cell_type": "code",
   "execution_count": 90,
   "metadata": {},
   "outputs": [
    {
     "data": {
      "text/plain": [
       "False"
      ]
     },
     "execution_count": 90,
     "metadata": {},
     "output_type": "execute_result"
    }
   ],
   "source": [
    "bool(df.difficult[0])"
   ]
  },
  {
   "cell_type": "code",
   "execution_count": 95,
   "metadata": {},
   "outputs": [
    {
     "data": {
      "text/plain": [
       "\"/Volumes/Jerry's/zhouhan/420V5\""
      ]
     },
     "execution_count": 95,
     "metadata": {},
     "output_type": "execute_result"
    }
   ],
   "source": []
  },
  {
   "cell_type": "code",
   "execution_count": 101,
   "metadata": {},
   "outputs": [],
   "source": [
    "dir_ = df.get_value(0,'dir')\n",
    "subdir = df.get_value(0,'subdir')\n",
    "dirPath = os.path.join(dir_, subdir)\n",
    "for i, row in df.iterrows():\n",
    "    imgfile = row.imgfile\n",
    "    label = row.label\n",
    "    shapeType = row.shapeType\n",
    "    points = eval(row.points)\n",
    "    difficult = bool(row.difficult)\n"
   ]
  },
  {
   "cell_type": "code",
   "execution_count": 84,
   "metadata": {},
   "outputs": [
    {
     "data": {
      "text/plain": [
       "numpy.bool_"
      ]
     },
     "execution_count": 84,
     "metadata": {},
     "output_type": "execute_result"
    }
   ],
   "source": [
    "type(df.difficult[0])"
   ]
  },
  {
   "cell_type": "code",
   "execution_count": 70,
   "metadata": {},
   "outputs": [],
   "source": [
    "from PyQt5.QtGui import QPainterPath\n",
    "from PyQt5.QtCore import QPoint"
   ]
  },
  {
   "cell_type": "code",
   "execution_count": null,
   "metadata": {},
   "outputs": [],
   "source": [
    "path = QPainterPath(self.points[0])\n",
    "for p in self.points[1:]:\n",
    "    path.lineTo(p)"
   ]
  },
  {
   "cell_type": "code",
   "execution_count": null,
   "metadata": {},
   "outputs": [],
   "source": []
  },
  {
   "cell_type": "code",
   "execution_count": 152,
   "metadata": {},
   "outputs": [],
   "source": [
    "from collections import OrderedDict"
   ]
  },
  {
   "cell_type": "code",
   "execution_count": 168,
   "metadata": {},
   "outputs": [],
   "source": [
    "d = OrderedDict()\n",
    "d[1] = []\n",
    "d[2] = []"
   ]
  },
  {
   "cell_type": "code",
   "execution_count": 171,
   "metadata": {},
   "outputs": [
    {
     "ename": "TypeError",
     "evalue": "'type' object is not subscriptable",
     "output_type": "error",
     "traceback": [
      "\u001b[0;31m---------------------------------------------------------------------------\u001b[0m",
      "\u001b[0;31mTypeError\u001b[0m                                 Traceback (most recent call last)",
      "\u001b[0;32m<ipython-input-171-5badf81e4bc7>\u001b[0m in \u001b[0;36m<module>\u001b[0;34m()\u001b[0m\n\u001b[0;32m----> 1\u001b[0;31m \u001b[0mOrderedDict\u001b[0m\u001b[0;34m[\u001b[0m\u001b[0;36m0\u001b[0m\u001b[0;34m]\u001b[0m\u001b[0;34m\u001b[0m\u001b[0m\n\u001b[0m",
      "\u001b[0;31mTypeError\u001b[0m: 'type' object is not subscriptable"
     ]
    }
   ],
   "source": [
    "OrderedDict[0]"
   ]
  },
  {
   "cell_type": "code",
   "execution_count": 170,
   "metadata": {},
   "outputs": [
    {
     "ename": "KeyError",
     "evalue": "3",
     "output_type": "error",
     "traceback": [
      "\u001b[0;31m---------------------------------------------------------------------------\u001b[0m",
      "\u001b[0;31mKeyError\u001b[0m                                  Traceback (most recent call last)",
      "\u001b[0;32m<ipython-input-170-d787ddb7dc0e>\u001b[0m in \u001b[0;36m<module>\u001b[0;34m()\u001b[0m\n\u001b[0;32m----> 1\u001b[0;31m \u001b[0md\u001b[0m\u001b[0;34m[\u001b[0m\u001b[0;36m3\u001b[0m\u001b[0;34m]\u001b[0m\u001b[0;34m\u001b[0m\u001b[0m\n\u001b[0m",
      "\u001b[0;31mKeyError\u001b[0m: 3"
     ]
    }
   ],
   "source": [
    "d[3]"
   ]
  },
  {
   "cell_type": "code",
   "execution_count": 161,
   "metadata": {},
   "outputs": [
    {
     "name": "stdout",
     "output_type": "stream",
     "text": [
      "1 [1]\n",
      "2 []\n"
     ]
    }
   ],
   "source": [
    "for i, j in d.items():\n",
    "    print(i,j)"
   ]
  },
  {
   "cell_type": "code",
   "execution_count": 158,
   "metadata": {},
   "outputs": [],
   "source": [
    "d[1].append(1)"
   ]
  },
  {
   "cell_type": "code",
   "execution_count": null,
   "metadata": {},
   "outputs": [],
   "source": []
  },
  {
   "cell_type": "code",
   "execution_count": 159,
   "metadata": {},
   "outputs": [
    {
     "data": {
      "text/plain": [
       "OrderedDict([(1, [1]), (2, [])])"
      ]
     },
     "execution_count": 159,
     "metadata": {},
     "output_type": "execute_result"
    }
   ],
   "source": [
    "d"
   ]
  },
  {
   "cell_type": "code",
   "execution_count": 151,
   "metadata": {},
   "outputs": [
    {
     "data": {
      "text/plain": [
       "True"
      ]
     },
     "execution_count": 151,
     "metadata": {},
     "output_type": "execute_result"
    }
   ],
   "source": [
    "x=1\n",
    "y=2\n",
    "(x,y) in [(1,2)]"
   ]
  },
  {
   "cell_type": "code",
   "execution_count": 146,
   "metadata": {},
   "outputs": [
    {
     "data": {
      "text/plain": [
       "__main__.node"
      ]
     },
     "execution_count": 146,
     "metadata": {},
     "output_type": "execute_result"
    }
   ],
   "source": [
    "from collections import namedtuple\n",
    "node = namedtuple(\"node\",[\"i_img\", \"data\"])\n",
    "nodes = [node(0, 0), \n",
    " node(1, 1),\n",
    " node(2, 2),\n",
    " node(2, 3),\n",
    " node(3, 4),\n",
    " node(3, 5),\n",
    " node(3, 6),\n",
    " node(4, 7),\n",
    " node(4, 8),\n",
    " node(4, 9),\n",
    " node(4, 10),\n",
    " node(4, 11),\n",
    " node(5, 12),\n",
    " node(6, 13)]\n",
    "\n"
   ]
  },
  {
   "cell_type": "code",
   "execution_count": 147,
   "metadata": {},
   "outputs": [],
   "source": [
    "tree = Tree(1)"
   ]
  },
  {
   "cell_type": "code",
   "execution_count": 143,
   "metadata": {},
   "outputs": [
    {
     "ename": "TypeError",
     "evalue": "isinstance() arg 2 must be a type or tuple of types",
     "output_type": "error",
     "traceback": [
      "\u001b[0;31m---------------------------------------------------------------------------\u001b[0m",
      "\u001b[0;31mTypeError\u001b[0m                                 Traceback (most recent call last)",
      "\u001b[0;32m<ipython-input-143-64c66b5e12b4>\u001b[0m in \u001b[0;36m<module>\u001b[0;34m()\u001b[0m\n\u001b[0;32m----> 1\u001b[0;31m \u001b[0mtree\u001b[0m\u001b[0;34m.\u001b[0m\u001b[0maddKid\u001b[0m\u001b[0;34m(\u001b[0m\u001b[0mtree\u001b[0m\u001b[0;34m.\u001b[0m\u001b[0mroot\u001b[0m\u001b[0;34m,\u001b[0m \u001b[0;36m2\u001b[0m\u001b[0;34m)\u001b[0m\u001b[0;34m\u001b[0m\u001b[0m\n\u001b[0m\u001b[1;32m      2\u001b[0m \u001b[0mtree\u001b[0m\u001b[0;34m.\u001b[0m\u001b[0maddKid\u001b[0m\u001b[0;34m(\u001b[0m\u001b[0mtree\u001b[0m\u001b[0;34m.\u001b[0m\u001b[0mroot\u001b[0m\u001b[0;34m,\u001b[0m \u001b[0;36m3\u001b[0m\u001b[0;34m)\u001b[0m\u001b[0;34m\u001b[0m\u001b[0m\n",
      "\u001b[0;32m<ipython-input-141-0a756e6bd991>\u001b[0m in \u001b[0;36maddKid\u001b[0;34m(self, node, kid_data)\u001b[0m\n\u001b[1;32m     39\u001b[0m     \u001b[0;32mdef\u001b[0m \u001b[0maddKid\u001b[0m\u001b[0;34m(\u001b[0m\u001b[0mself\u001b[0m\u001b[0;34m,\u001b[0m \u001b[0mnode\u001b[0m\u001b[0;34m,\u001b[0m \u001b[0mkid_data\u001b[0m\u001b[0;34m)\u001b[0m\u001b[0;34m:\u001b[0m\u001b[0;34m\u001b[0m\u001b[0m\n\u001b[1;32m     40\u001b[0m         \u001b[0mkid\u001b[0m \u001b[0;34m=\u001b[0m \u001b[0mNode\u001b[0m\u001b[0;34m(\u001b[0m\u001b[0mkid_data\u001b[0m\u001b[0;34m)\u001b[0m\u001b[0;34m\u001b[0m\u001b[0m\n\u001b[0;32m---> 41\u001b[0;31m         \u001b[0mnode\u001b[0m\u001b[0;34m.\u001b[0m\u001b[0madd\u001b[0m\u001b[0;34m(\u001b[0m\u001b[0mkid\u001b[0m\u001b[0;34m)\u001b[0m\u001b[0;34m\u001b[0m\u001b[0m\n\u001b[0m\u001b[1;32m     42\u001b[0m         \u001b[0mself\u001b[0m\u001b[0;34m.\u001b[0m\u001b[0mupdate_members\u001b[0m\u001b[0;34m(\u001b[0m\u001b[0mkid\u001b[0m\u001b[0;34m)\u001b[0m\u001b[0;34m\u001b[0m\u001b[0m\n\u001b[1;32m     43\u001b[0m \u001b[0;34m\u001b[0m\u001b[0m\n",
      "\u001b[0;32m<ipython-input-141-0a756e6bd991>\u001b[0m in \u001b[0;36madd\u001b[0;34m(self, node)\u001b[0m\n\u001b[1;32m     12\u001b[0m \u001b[0;34m\u001b[0m\u001b[0m\n\u001b[1;32m     13\u001b[0m     \u001b[0;32mdef\u001b[0m \u001b[0madd\u001b[0m\u001b[0;34m(\u001b[0m\u001b[0mself\u001b[0m\u001b[0;34m,\u001b[0m \u001b[0mnode\u001b[0m\u001b[0;34m)\u001b[0m\u001b[0;34m:\u001b[0m  \u001b[0;31m# add a kid\u001b[0m\u001b[0;34m\u001b[0m\u001b[0m\n\u001b[0;32m---> 14\u001b[0;31m         \u001b[0;32massert\u001b[0m\u001b[0;34m(\u001b[0m\u001b[0misinstance\u001b[0m\u001b[0;34m(\u001b[0m\u001b[0mnode\u001b[0m\u001b[0;34m,\u001b[0m \u001b[0mself\u001b[0m\u001b[0;34m)\u001b[0m\u001b[0;34m)\u001b[0m\u001b[0;34m\u001b[0m\u001b[0m\n\u001b[0m\u001b[1;32m     15\u001b[0m         \u001b[0mself\u001b[0m\u001b[0;34m.\u001b[0m\u001b[0mkids\u001b[0m\u001b[0;34m.\u001b[0m\u001b[0mappend\u001b[0m\u001b[0;34m(\u001b[0m\u001b[0mnode\u001b[0m\u001b[0;34m)\u001b[0m\u001b[0;34m\u001b[0m\u001b[0m\n\u001b[1;32m     16\u001b[0m \u001b[0;34m\u001b[0m\u001b[0m\n",
      "\u001b[0;31mTypeError\u001b[0m: isinstance() arg 2 must be a type or tuple of types"
     ]
    }
   ],
   "source": [
    "tree.addKid(tree.root, 2)\n",
    "tree.addKid(tree.root, 3)"
   ]
  },
  {
   "cell_type": "code",
   "execution_count": null,
   "metadata": {},
   "outputs": [],
   "source": []
  },
  {
   "cell_type": "code",
   "execution_count": 199,
   "metadata": {},
   "outputs": [
    {
     "data": {
      "text/plain": [
       "[]"
      ]
     },
     "execution_count": 199,
     "metadata": {},
     "output_type": "execute_result"
    }
   ],
   "source": [
    "[i for i in filter(None,[None, None,None,None])]"
   ]
  },
  {
   "cell_type": "code",
   "execution_count": 181,
   "metadata": {},
   "outputs": [],
   "source": [
    "from functools import reduce\n",
    "reduce(lambda x,y: x and y, [True, True, False])"
   ]
  },
  {
   "cell_type": "code",
   "execution_count": null,
   "metadata": {},
   "outputs": [],
   "source": [
    "if reduce(lambda x,y: x or y, [Node(shape_obj) in  for shape_obj]):\n",
    "                    continue"
   ]
  },
  {
   "cell_type": "code",
   "execution_count": 183,
   "metadata": {},
   "outputs": [
    {
     "data": {
      "text/plain": [
       "'world'"
      ]
     },
     "execution_count": 183,
     "metadata": {},
     "output_type": "execute_result"
    }
   ],
   "source": [
    "{\"hello\":\"world\", \"say\":\"hi\"}.get(\"hello\")"
   ]
  },
  {
   "cell_type": "code",
   "execution_count": 182,
   "metadata": {},
   "outputs": [
    {
     "data": {
      "text/plain": [
       "False"
      ]
     },
     "execution_count": 182,
     "metadata": {},
     "output_type": "execute_result"
    }
   ],
   "source": [
    "reduce(lambda x,y: x and y, [True, True, False])"
   ]
  },
  {
   "cell_type": "code",
   "execution_count": null,
   "metadata": {},
   "outputs": [],
   "source": []
  },
  {
   "cell_type": "code",
   "execution_count": null,
   "metadata": {},
   "outputs": [],
   "source": []
  },
  {
   "cell_type": "code",
   "execution_count": null,
   "metadata": {},
   "outputs": [],
   "source": [
    "import unittest\n",
    "\n",
    "class TestStringMethods(unittest.TestCase):\n",
    "\n",
    "    def test_upper(self):\n",
    "        self.assertEqual('foo'.upper(), 'FOO')\n",
    "\n",
    "    def test_isupper(self):\n",
    "        self.assertTrue('FOO'.isupper())\n",
    "        self.assertFalse('Foo'.isupper())\n",
    "\n",
    "    def test_split(self):\n",
    "        s = 'hello world'\n",
    "        self.assertEqual(s.split(), ['hello', 'world'])\n",
    "        # check that s.split fails when the separator is not a string\n",
    "        with self.assertRaises(TypeError):\n",
    "            s.split(2)\n",
    "\n",
    "if __name__ == '__main__':\n",
    "    unittest.main()"
   ]
  },
  {
   "cell_type": "code",
   "execution_count": 207,
   "metadata": {},
   "outputs": [
    {
     "data": {
      "text/plain": [
       "[4, 3, 2, 1]"
      ]
     },
     "execution_count": 207,
     "metadata": {},
     "output_type": "execute_result"
    }
   ],
   "source": [
    "list(reversed([1,2,3,4]))"
   ]
  },
  {
   "cell_type": "code",
   "execution_count": null,
   "metadata": {},
   "outputs": [],
   "source": []
  },
  {
   "cell_type": "code",
   "execution_count": null,
   "metadata": {},
   "outputs": [],
   "source": []
  },
  {
   "cell_type": "code",
   "execution_count": null,
   "metadata": {},
   "outputs": [],
   "source": []
  },
  {
   "cell_type": "code",
   "execution_count": null,
   "metadata": {},
   "outputs": [],
   "source": []
  }
 ],
 "metadata": {
  "kernelspec": {
   "display_name": "Python 3",
   "language": "python",
   "name": "python3"
  },
  "language_info": {
   "codemirror_mode": {
    "name": "ipython",
    "version": 3
   },
   "file_extension": ".py",
   "mimetype": "text/x-python",
   "name": "python",
   "nbconvert_exporter": "python",
   "pygments_lexer": "ipython3",
   "version": "3.6.2"
  }
 },
 "nbformat": 4,
 "nbformat_minor": 2
}
