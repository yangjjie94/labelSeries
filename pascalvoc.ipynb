{
 "cells": [
  {
   "cell_type": "code",
   "execution_count": 1,
   "metadata": {},
   "outputs": [],
   "source": [
    "import sys\n",
    "from xml.etree import ElementTree\n",
    "from xml.etree.ElementTree import Element, SubElement\n",
    "from lxml import etree\n",
    "import codecs\n",
    "\n",
    "XML_EXT = '.xml'\n",
    "ENCODE_METHOD = 'utf-8'\n",
    "\n",
    "class PascalVocWriter:\n",
    "\n",
    "    def __init__(self, foldername, filename, imgSize,databaseSrc='Unknown', localImgPath=None):\n",
    "        self.foldername = foldername\n",
    "        self.filename = filename\n",
    "        self.databaseSrc = databaseSrc\n",
    "        self.imgSize = imgSize\n",
    "        self.boxlist = []\n",
    "        self.localImgPath = localImgPath\n",
    "        self.verified = False\n",
    "\n",
    "    def prettify(self, elem):\n",
    "        \"\"\"\n",
    "            Return a pretty-printed XML string for the Element.\n",
    "        \"\"\"\n",
    "        rough_string = ElementTree.tostring(elem, 'utf8')\n",
    "        root = etree.fromstring(rough_string)\n",
    "        return etree.tostring(root, pretty_print=True, encoding=ENCODE_METHOD).replace(\"  \".encode(), \"\\t\".encode())\n",
    "        # minidom does not support UTF-8\n",
    "        '''reparsed = minidom.parseString(rough_string)\n",
    "        return reparsed.toprettyxml(indent=\"\\t\", encoding=ENCODE_METHOD)'''\n",
    "\n",
    "    def genXML(self):\n",
    "        \"\"\"\n",
    "            Return XML root\n",
    "        \"\"\"\n",
    "        # Check conditions\n",
    "        if self.filename is None or \\\n",
    "                self.foldername is None or \\\n",
    "                self.imgSize is None:\n",
    "            return None\n",
    "\n",
    "        top = Element('annotation')\n",
    "        if self.verified:\n",
    "            top.set('verified', 'yes')\n",
    "\n",
    "        folder = SubElement(top, 'folder')\n",
    "        folder.text = self.foldername\n",
    "\n",
    "        filename = SubElement(top, 'filename')\n",
    "        filename.text = self.filename\n",
    "\n",
    "        if self.localImgPath is not None:\n",
    "            localImgPath = SubElement(top, 'path')\n",
    "            localImgPath.text = self.localImgPath\n",
    "\n",
    "        source = SubElement(top, 'source')\n",
    "        database = SubElement(source, 'database')\n",
    "        database.text = self.databaseSrc\n",
    "\n",
    "        size_part = SubElement(top, 'size')\n",
    "        width = SubElement(size_part, 'width')\n",
    "        height = SubElement(size_part, 'height')\n",
    "        depth = SubElement(size_part, 'depth')\n",
    "        width.text = str(self.imgSize[1])\n",
    "        height.text = str(self.imgSize[0])\n",
    "        if len(self.imgSize) == 3:\n",
    "            depth.text = str(self.imgSize[2])\n",
    "        else:\n",
    "            depth.text = '1'\n",
    "\n",
    "        segmented = SubElement(top, 'segmented')\n",
    "        segmented.text = '0'\n",
    "        return top\n",
    "\n",
    "    def addBndBox(self, xmin, ymin, xmax, ymax, name, difficult):\n",
    "        bndbox = {'xmin': xmin, 'ymin': ymin, 'xmax': xmax, 'ymax': ymax}\n",
    "        bndbox['name'] = name\n",
    "        bndbox['difficult'] = difficult\n",
    "        self.boxlist.append(bndbox)\n",
    "\n",
    "    \n",
    "\n",
    "    def appendObjects(self, top):\n",
    "        for each_object in self.boxlist:\n",
    "            object_item = SubElement(top, 'object')\n",
    "            name = SubElement(object_item, 'name')\n",
    "            try:\n",
    "                name.text = unicode(each_object['name'])\n",
    "            except NameError:\n",
    "                # Py3: NameError: name 'unicode' is not defined\n",
    "                name.text = each_object['name']\n",
    "            pose = SubElement(object_item, 'pose')\n",
    "            pose.text = \"Unspecified\"\n",
    "            truncated = SubElement(object_item, 'truncated')\n",
    "            if int(each_object['ymax']) == int(self.imgSize[0]) or (int(each_object['ymin'])== 1):\n",
    "                truncated.text = \"1\" # max == height or min\n",
    "            elif (int(each_object['xmax'])==int(self.imgSize[1])) or (int(each_object['xmin'])== 1):\n",
    "                truncated.text = \"1\" # max == width or min\n",
    "            else:\n",
    "                truncated.text = \"0\"\n",
    "            difficult = SubElement(object_item, 'difficult')\n",
    "            difficult.text = str( bool(each_object['difficult']) & 1 )\n",
    "            bndbox = SubElement(object_item, 'bndbox')\n",
    "            xmin = SubElement(bndbox, 'xmin')\n",
    "            xmin.text = str(each_object['xmin'])\n",
    "            ymin = SubElement(bndbox, 'ymin')\n",
    "            ymin.text = str(each_object['ymin'])\n",
    "            xmax = SubElement(bndbox, 'xmax')\n",
    "            xmax.text = str(each_object['xmax'])\n",
    "            ymax = SubElement(bndbox, 'ymax')\n",
    "            ymax.text = str(each_object['ymax'])\n",
    "\n",
    "    def save(self, targetFile=None):\n",
    "        root = self.genXML()\n",
    "        self.appendObjects(root)\n",
    "        out_file = None\n",
    "        if targetFile is None:\n",
    "            out_file = codecs.open(\n",
    "                self.filename + XML_EXT, 'w', encoding=ENCODE_METHOD)\n",
    "        else:\n",
    "            out_file = codecs.open(targetFile, 'w', encoding=ENCODE_METHOD)\n",
    "\n",
    "        prettifyResult = self.prettify(root)\n",
    "        out_file.write(prettifyResult.decode('utf8'))\n",
    "        out_file.close()\n",
    "\n",
    "\n",
    "class PascalVocReader:\n",
    "\n",
    "    def __init__(self, filepath):\n",
    "        # shapes type:\n",
    "        # [labbel, [(x1,y1), (x2,y2), (x3,y3), (x4,y4)], color, color, difficult]\n",
    "        self.shapes = []\n",
    "        self.filepath = filepath\n",
    "        self.verified = False\n",
    "        try:\n",
    "            self.parseXML()\n",
    "        except:\n",
    "            pass\n",
    "\n",
    "    def getShapes(self):\n",
    "        return self.shapes\n",
    "\n",
    "    def addShape(self, label, bndbox, difficult):\n",
    "        xmin = int(bndbox.find('xmin').text)\n",
    "        ymin = int(bndbox.find('ymin').text)\n",
    "        xmax = int(bndbox.find('xmax').text)\n",
    "        ymax = int(bndbox.find('ymax').text)\n",
    "        points = [(xmin, ymin), (xmax, ymin), (xmax, ymax), (xmin, ymax)]\n",
    "        self.shapes.append((label, points, None, None, difficult))\n",
    "\n",
    "    def parseXML(self):\n",
    "        assert self.filepath.endswith(XML_EXT), \"Unsupport file format\"\n",
    "        parser = etree.XMLParser(encoding=ENCODE_METHOD)\n",
    "        xmltree = ElementTree.parse(self.filepath, parser=parser).getroot()\n",
    "        filename = xmltree.find('filename').text\n",
    "        try:\n",
    "            verified = xmltree.attrib['verified']\n",
    "            if verified == 'yes':\n",
    "                self.verified = True\n",
    "        except KeyError:\n",
    "            self.verified = False\n",
    "\n",
    "        for object_iter in xmltree.findall('object'):\n",
    "            bndbox = object_iter.find(\"bndbox\")\n",
    "            label = object_iter.find('name').text\n",
    "            # Add chris\n",
    "            difficult = False\n",
    "            if object_iter.find('difficult') is not None:\n",
    "                difficult = bool(int(object_iter.find('difficult').text))\n",
    "            self.addShape(label, bndbox, difficult)\n",
    "        return True\n"
   ]
  },
  {
   "cell_type": "code",
   "execution_count": 2,
   "metadata": {},
   "outputs": [
    {
     "name": "stderr",
     "output_type": "stream",
     "text": [
      "E\n",
      "======================================================================\n",
      "ERROR: /Users/jerry/Library/Jupyter/runtime/kernel-e71d9b01-046a-4904-a959-cc327f4b381e (unittest.loader._FailedTest)\n",
      "----------------------------------------------------------------------\n",
      "AttributeError: module '__main__' has no attribute '/Users/jerry/Library/Jupyter/runtime/kernel-e71d9b01-046a-4904-a959-cc327f4b381e'\n",
      "\n",
      "----------------------------------------------------------------------\n",
      "Ran 1 test in 0.001s\n",
      "\n",
      "FAILED (errors=1)\n"
     ]
    },
    {
     "ename": "SystemExit",
     "evalue": "True",
     "output_type": "error",
     "traceback": [
      "An exception has occurred, use %tb to see the full traceback.\n",
      "\u001b[0;31mSystemExit\u001b[0m\u001b[0;31m:\u001b[0m True\n"
     ]
    },
    {
     "name": "stderr",
     "output_type": "stream",
     "text": [
      "/anaconda3/envs/dl/lib/python3.6/site-packages/IPython/core/interactiveshell.py:2870: UserWarning: To exit: use 'exit', 'quit', or Ctrl-D.\n",
      "  warn(\"To exit: use 'exit', 'quit', or Ctrl-D.\", stacklevel=1)\n"
     ]
    }
   ],
   "source": [
    "import os\n",
    "import sys\n",
    "import unittest\n",
    "\n",
    "class TestPascalVocRW(unittest.TestCase):\n",
    "\n",
    "    def test_upper(self):\n",
    "        dir_name = os.path.abspath(os.path.dirname(__file__))\n",
    "        libs_path = os.path.join(dir_name, '..', 'libs')\n",
    "        sys.path.insert(0, libs_path)\n",
    "        from pascal_voc_io import PascalVocWriter\n",
    "        from pascal_voc_io import PascalVocReader\n",
    "\n",
    "        # Test Write/Read\n",
    "        writer = PascalVocWriter('tests', 'test', (512, 512, 1), localImgPath='tests/test.bmp')\n",
    "        difficult = 1\n",
    "        writer.addBndBox(60, 40, 430, 504, 'person', difficult)\n",
    "        writer.addBndBox(113, 40, 450, 403, 'face', difficult)\n",
    "        writer.save('tests/test.xml')\n",
    "\n",
    "        reader = PascalVocReader('tests/test.xml')\n",
    "        shapes = reader.getShapes()\n",
    "\n",
    "        personBndBox = shapes[0]\n",
    "        face = shapes[1]\n",
    "        self.assertEqual(personBndBox[0], 'person')\n",
    "        self.assertEqual(personBndBox[1], [(60, 40), (430, 40), (430, 504), (60, 504)])\n",
    "        self.assertEqual(face[0], 'face')\n",
    "        self.assertEqual(face[1], [(113, 40), (450, 40), (450, 403), (113, 403)])\n",
    "\n",
    "if __name__ == '__main__':\n",
    "    unittest.main()"
   ]
  },
  {
   "cell_type": "code",
   "execution_count": 19,
   "metadata": {},
   "outputs": [],
   "source": [
    "from lxml import etree"
   ]
  },
  {
   "cell_type": "code",
   "execution_count": 20,
   "metadata": {},
   "outputs": [],
   "source": [
    "root = etree.Element(\"root\")"
   ]
  },
  {
   "cell_type": "code",
   "execution_count": 21,
   "metadata": {},
   "outputs": [
    {
     "name": "stdout",
     "output_type": "stream",
     "text": [
      "root\n"
     ]
    }
   ],
   "source": [
    "print(root.tag)"
   ]
  },
  {
   "cell_type": "code",
   "execution_count": 22,
   "metadata": {},
   "outputs": [],
   "source": [
    "root.append(etree.Element('child1'))"
   ]
  },
  {
   "cell_type": "code",
   "execution_count": 23,
   "metadata": {},
   "outputs": [],
   "source": [
    "child2 = etree.SubElement(root, \"child2\")\n",
    "child3 = etree.SubElement(root, \"child3\")"
   ]
  },
  {
   "cell_type": "code",
   "execution_count": 24,
   "metadata": {},
   "outputs": [
    {
     "name": "stdout",
     "output_type": "stream",
     "text": [
      "<root>\n",
      "  <child1/>\n",
      "  <child2/>\n",
      "  <child3/>\n",
      "</root>\n",
      "\n"
     ]
    }
   ],
   "source": [
    "print(etree.tostring(root, pretty_print=True).decode('utf-8'))"
   ]
  },
  {
   "cell_type": "code",
   "execution_count": 25,
   "metadata": {},
   "outputs": [
    {
     "name": "stdout",
     "output_type": "stream",
     "text": [
      "child1\n"
     ]
    }
   ],
   "source": [
    "child = root[0]\n",
    "print(child.tag)"
   ]
  },
  {
   "cell_type": "code",
   "execution_count": 26,
   "metadata": {},
   "outputs": [
    {
     "name": "stdout",
     "output_type": "stream",
     "text": [
      "3\n"
     ]
    }
   ],
   "source": [
    "print(len(root))"
   ]
  },
  {
   "cell_type": "code",
   "execution_count": 27,
   "metadata": {},
   "outputs": [
    {
     "data": {
      "text/plain": [
       "1"
      ]
     },
     "execution_count": 27,
     "metadata": {},
     "output_type": "execute_result"
    }
   ],
   "source": [
    "root.index(root[1])"
   ]
  },
  {
   "cell_type": "code",
   "execution_count": 29,
   "metadata": {},
   "outputs": [
    {
     "data": {
      "text/plain": [
       "[<Element child1 at 0x1090995c8>,\n",
       " <Element child2 at 0x109099748>,\n",
       " <Element child3 at 0x109079f08>]"
      ]
     },
     "execution_count": 29,
     "metadata": {},
     "output_type": "execute_result"
    }
   ],
   "source": [
    "children = list(root)\n",
    "children"
   ]
  },
  {
   "cell_type": "code",
   "execution_count": 30,
   "metadata": {},
   "outputs": [
    {
     "name": "stdout",
     "output_type": "stream",
     "text": [
      "child1\n",
      "child2\n",
      "child3\n"
     ]
    }
   ],
   "source": [
    "for child in root:\n",
    "    print(child.tag)"
   ]
  },
  {
   "cell_type": "code",
   "execution_count": 31,
   "metadata": {},
   "outputs": [],
   "source": [
    "root.insert(0, etree.Element(\"child0\"))"
   ]
  },
  {
   "cell_type": "code",
   "execution_count": 32,
   "metadata": {},
   "outputs": [
    {
     "name": "stdout",
     "output_type": "stream",
     "text": [
      "<root>\n",
      "  <child0/>\n",
      "  <child1/>\n",
      "  <child2/>\n",
      "  <child3/>\n",
      "</root>\n",
      "\n"
     ]
    }
   ],
   "source": [
    "print(etree.tostring(root, pretty_print=True).decode('utf-8'))"
   ]
  },
  {
   "cell_type": "code",
   "execution_count": 33,
   "metadata": {},
   "outputs": [
    {
     "name": "stdout",
     "output_type": "stream",
     "text": [
      "child0\n",
      "child3\n"
     ]
    }
   ],
   "source": [
    "start = root[:1]\n",
    "end = root[-1:]\n",
    "print(start[0].tag)\n",
    "print(end[0].tag)"
   ]
  },
  {
   "cell_type": "code",
   "execution_count": 34,
   "metadata": {},
   "outputs": [
    {
     "name": "stdout",
     "output_type": "stream",
     "text": [
      "The root element has children\n"
     ]
    },
    {
     "name": "stderr",
     "output_type": "stream",
     "text": [
      "/anaconda3/envs/dl/lib/python3.6/site-packages/ipykernel_launcher.py:1: FutureWarning: The behavior of this method will change in future versions. Use specific 'len(elem)' or 'elem is not None' test instead.\n",
      "  \"\"\"Entry point for launching an IPython kernel.\n"
     ]
    }
   ],
   "source": [
    "if root:   # this no longer works!\n",
    "    print(\"The root element has children\")"
   ]
  },
  {
   "cell_type": "code",
   "execution_count": 35,
   "metadata": {},
   "outputs": [
    {
     "data": {
      "text/plain": [
       "True"
      ]
     },
     "execution_count": 35,
     "metadata": {},
     "output_type": "execute_result"
    }
   ],
   "source": [
    "etree.iselement(root)"
   ]
  },
  {
   "cell_type": "code",
   "execution_count": 36,
   "metadata": {},
   "outputs": [
    {
     "name": "stdout",
     "output_type": "stream",
     "text": [
      "The root element has children\n"
     ]
    }
   ],
   "source": [
    "if len(root):\n",
    "    print(\"The root element has children\")"
   ]
  },
  {
   "cell_type": "code",
   "execution_count": 38,
   "metadata": {},
   "outputs": [
    {
     "name": "stdout",
     "output_type": "stream",
     "text": [
      "<root>\n",
      "  <child0/>\n",
      "  <child1/>\n",
      "  <child2/>\n",
      "  <child3/>\n",
      "</root>\n",
      "\n",
      "<root>\n",
      "  <child3/>\n",
      "  <child1/>\n",
      "  <child2/>\n",
      "</root>\n",
      "\n"
     ]
    }
   ],
   "source": [
    "print(etree.tostring(root, pretty_print=True).decode('utf-8'))\n",
    "\n",
    "root[0] = root[-1]\n",
    "\n",
    "print(etree.tostring(root, pretty_print=True).decode('utf-8'))"
   ]
  },
  {
   "cell_type": "code",
   "execution_count": 39,
   "metadata": {},
   "outputs": [
    {
     "data": {
      "text/plain": [
       "True"
      ]
     },
     "execution_count": 39,
     "metadata": {},
     "output_type": "execute_result"
    }
   ],
   "source": [
    "root is root[0].getparent()"
   ]
  },
  {
   "cell_type": "code",
   "execution_count": 40,
   "metadata": {},
   "outputs": [
    {
     "name": "stdout",
     "output_type": "stream",
     "text": [
      "child1\n",
      "['child3', 'child1', 'child2']\n"
     ]
    }
   ],
   "source": [
    "from copy import deepcopy\n",
    "element = etree.Element(\"neu\")\n",
    "element.append( deepcopy(root[1]) )\n",
    "print(element[0].tag)\n",
    "print([c.tag for c in root])"
   ]
  },
  {
   "cell_type": "code",
   "execution_count": 47,
   "metadata": {},
   "outputs": [
    {
     "ename": "TypeError",
     "evalue": "'list_iterator' object is not callable",
     "output_type": "error",
     "traceback": [
      "\u001b[0;31m---------------------------------------------------------------------------\u001b[0m",
      "\u001b[0;31mTypeError\u001b[0m                                 Traceback (most recent call last)",
      "\u001b[0;32m<ipython-input-47-b7a77b0918ea>\u001b[0m in \u001b[0;36m<module>\u001b[0;34m()\u001b[0m\n\u001b[1;32m      1\u001b[0m \u001b[0mrow\u001b[0m \u001b[0;34m=\u001b[0m \u001b[0;34m[\u001b[0m\u001b[0;36m1\u001b[0m\u001b[0;34m,\u001b[0m\u001b[0;36m2\u001b[0m\u001b[0;34m,\u001b[0m\u001b[0;36m3\u001b[0m\u001b[0;34m,\u001b[0m\u001b[0;36m4\u001b[0m\u001b[0;34m,\u001b[0m\u001b[0;36m5\u001b[0m\u001b[0;34m,\u001b[0m\u001b[0;36m6\u001b[0m\u001b[0;34m]\u001b[0m\u001b[0;34m\u001b[0m\u001b[0m\n\u001b[1;32m      2\u001b[0m \u001b[0miterrow\u001b[0m \u001b[0;34m=\u001b[0m \u001b[0miter\u001b[0m\u001b[0;34m(\u001b[0m\u001b[0mrow\u001b[0m\u001b[0;34m)\u001b[0m\u001b[0;34m\u001b[0m\u001b[0m\n\u001b[0;32m----> 3\u001b[0;31m \u001b[0;34m[\u001b[0m\u001b[0;34m(\u001b[0m\u001b[0mi\u001b[0m\u001b[0;34m,\u001b[0m\u001b[0mj\u001b[0m\u001b[0;34m)\u001b[0m \u001b[0;32mfor\u001b[0m \u001b[0mi\u001b[0m\u001b[0;34m,\u001b[0m\u001b[0mj\u001b[0m \u001b[0;32min\u001b[0m \u001b[0;34m(\u001b[0m\u001b[0miterrow\u001b[0m\u001b[0;34m(\u001b[0m\u001b[0;34m)\u001b[0m\u001b[0;34m,\u001b[0m\u001b[0miterrow\u001b[0m\u001b[0;34m(\u001b[0m\u001b[0;34m)\u001b[0m\u001b[0;34m)\u001b[0m\u001b[0;34m]\u001b[0m\u001b[0;34m\u001b[0m\u001b[0m\n\u001b[0m",
      "\u001b[0;31mTypeError\u001b[0m: 'list_iterator' object is not callable"
     ]
    }
   ],
   "source": [
    "row = [1,2,3,4,5,6]\n",
    "iterrow = iter(row)\n",
    "[(i,j) for i,j in (iterrow(),iterrow())]"
   ]
  },
  {
   "cell_type": "code",
   "execution_count": 48,
   "metadata": {},
   "outputs": [
    {
     "name": "stdout",
     "output_type": "stream",
     "text": [
      "str 1\n"
     ]
    }
   ],
   "source": [
    "print(\"str\",1)"
   ]
  },
  {
   "cell_type": "code",
   "execution_count": 89,
   "metadata": {},
   "outputs": [],
   "source": [
    "import sys\n",
    "import os\n",
    "from xml.etree import ElementTree\n",
    "from xml.etree.ElementTree import Element, SubElement\n",
    "# from lxml.etree import ElementTree, Element, SubElement\n",
    "from lxml import etree\n",
    "import codecs\n",
    "from libs.shapeType import shapeTypes\n",
    "\n",
    "XML_EXT = '.xml'\n",
    "ENCODE_METHOD = 'utf-8'\n",
    "\n",
    "class PascalVocWriter:\n",
    "\n",
    "    def __init__(self, foldername, filename, imgSize,databaseSrc='Unknown', localImgPath=None):\n",
    "        self.foldername = foldername\n",
    "        self.filename = filename\n",
    "        self.databaseSrc = databaseSrc\n",
    "        self.imgSize = imgSize\n",
    "        self.shapelist = []\n",
    "        self.localImgPath = localImgPath\n",
    "        self.verified = False\n",
    "\n",
    "    def prettify(self, elem):\n",
    "        \"\"\"\n",
    "            Return a pretty-printed XML string for the Element.\n",
    "        \"\"\"\n",
    "        rough_string = ElementTree.tostring(elem, 'utf8')\n",
    "        root = etree.fromstring(rough_string)\n",
    "        return etree.tostring(root, pretty_print=True, encoding=ENCODE_METHOD).replace(\"  \".encode(), \"\\t\".encode())\n",
    "        # minidom does not support UTF-8\n",
    "        '''reparsed = minidom.parseString(rough_string)\n",
    "        return reparsed.toprettyxml(indent=\"\\t\", encoding=ENCODE_METHOD)'''\n",
    "\n",
    "    def genXML(self):\n",
    "        \"\"\"\n",
    "            Return XML root\n",
    "        \"\"\"\n",
    "        # Check conditions\n",
    "        if self.filename is None or \\\n",
    "                self.foldername is None or \\\n",
    "                self.imgSize is None:\n",
    "            return None\n",
    "\n",
    "        top = Element('annotation')\n",
    "        if self.verified:\n",
    "            top.set('verified', 'yes')\n",
    "\n",
    "        folder = SubElement(top, 'folder')\n",
    "        folder.text = self.foldername\n",
    "\n",
    "        filename = SubElement(top, 'filename')\n",
    "        filename.text = self.filename\n",
    "\n",
    "        if self.localImgPath is not None:\n",
    "            localImgPath = SubElement(top, 'path')\n",
    "            localImgPath.text = self.localImgPath\n",
    "\n",
    "        source = SubElement(top, 'source')\n",
    "        database = SubElement(source, 'database')\n",
    "        database.text = self.databaseSrc\n",
    "\n",
    "        size_part = SubElement(top, 'size')\n",
    "        width = SubElement(size_part, 'width')\n",
    "        height = SubElement(size_part, 'height')\n",
    "        depth = SubElement(size_part, 'depth')\n",
    "        width.text = str(self.imgSize[1])\n",
    "        height.text = str(self.imgSize[0])\n",
    "        if len(self.imgSize) == 3:\n",
    "            depth.text = str(self.imgSize[2])\n",
    "        else:\n",
    "            depth.text = '1'\n",
    "\n",
    "        segmented = SubElement(top, 'segmented')\n",
    "        segmented.text = '0'\n",
    "        return top\n",
    "\n",
    "    def addShape(self, shapeType, points, label, difficult):\n",
    "        # def convert(shapeType, points):\n",
    "        #     if shapeType == shapeTypes.\n",
    "        shape = {'shapeType': shapeType, \n",
    "                 'points': points,\n",
    "                 'label': label,\n",
    "                 'difficult': difficult}\n",
    "        self.shapelist.append(shape)\n",
    "\n",
    "\n",
    "    def appendObjects(self, top):\n",
    "        for each_object in self.shapelist:\n",
    "            each_shapeType = each_object['shapeType']\n",
    "            each_points = each_object['points']\n",
    "            each_label = each_object['label']\n",
    "            each_difficult = each_object['difficult']\n",
    "\n",
    "            object_item = SubElement(top, 'object')\n",
    "            shapeType_subitem = SubElement(object_item, 'shapeType')\n",
    "            shapeType_subitem.text = str(each_shapeType)\n",
    "            label_subitem = SubElement(object_item, 'label')\n",
    "            try:\n",
    "                label_subitem.text = unicode(each_object['label'])\n",
    "            except NameError:\n",
    "                # Py3: NameError: name 'unicode' is not defined\n",
    "                label_subitem.text = each_object['label']\n",
    "                \n",
    "            pose = SubElement(object_item, 'pose')\n",
    "            pose.text = \"Unspecified\"\n",
    "            truncated = SubElement(object_item, 'truncated')\n",
    "            xmin = ymin = float('inf')\n",
    "            xmax = ymax = float('-inf')\n",
    "            for p in each_points:\n",
    "                xmin = p[0] if p[0] < xmin else xmin\n",
    "                ymin = p[1] if p[1] < ymin else ymin\n",
    "                xmax = p[0] if p[0] > xmax else xmax\n",
    "                ymax = p[1] if p[1] > ymax else ymax\n",
    "            if (int(ymax) >= int(self.imgSize[0])) or (int(ymin) <= 1):\n",
    "                truncated.text = \"1\" # max == height or min\n",
    "            elif (int(xmax) >= int(self.imgSize[1])) or (int(xmin) <= 1):\n",
    "                truncated.text = \"1\" # max == width or min\n",
    "            else:\n",
    "                truncated.text = \"0\"\n",
    "                \n",
    "            difficult = SubElement(object_item, 'difficult')\n",
    "            difficult.text = str( bool(each_object['difficult']) & 1 )\n",
    "            \n",
    "            points_subitem = SubElement(object_item,\"points\")\n",
    "            for i, pt in enumerate(each_points):\n",
    "                point_subsubitem = SubElement(points_subitem, \"point\")\n",
    "                X = SubElement(point_subsubitem,\"X\")\n",
    "                X.text = str(pt[0])\n",
    "                Y = SubElement(point_subsubitem,\"Y\")\n",
    "                Y.text = str(pt[1])\n",
    "\n",
    "    def save(self, targetFile=None):\n",
    "        root = self.genXML()\n",
    "        self.appendObjects(root)\n",
    "        out_file = None\n",
    "        if targetFile is None:\n",
    "            out_file = codecs.open(\n",
    "                self.filename + XML_EXT, 'w', encoding=ENCODE_METHOD)\n",
    "        else:\n",
    "            out_file = codecs.open(targetFile, 'w', encoding=ENCODE_METHOD)\n",
    "\n",
    "        prettifyResult = self.prettify(root)\n",
    "        out_file.write(prettifyResult.decode('utf8'))\n",
    "        out_file.close()\n",
    "\n",
    "\n",
    "class PascalVocReader:\n",
    "\n",
    "    def __init__(self, filepath):\n",
    "        # shapes type:\n",
    "        # [shapeType, label, \n",
    "        #  [(x1,y1), (x2,y2), (x3,y3), (x4,y4)], \n",
    "        #  color, color, \n",
    "        #  difficult]\n",
    "        self.shapes = []\n",
    "        self.filepath = filepath\n",
    "\n",
    "        self.verified = False\n",
    "        try:\n",
    "            self.parseXML()\n",
    "        except:\n",
    "            pass\n",
    "\n",
    "    def getShapes(self):\n",
    "        return self.shapes\n",
    "\n",
    "    def addShape(self, shapeType, label, points, difficult):\n",
    "        # xmin = int(bndbox.find('xmin').text)\n",
    "        # ymin = int(bndbox.find('ymin').text)\n",
    "        # xmax = int(bndbox.find('xmax').text)\n",
    "        # ymax = int(bndbox.find('ymax').text)\n",
    "        # points = [(xmin, ymin), (xmax, ymin), (xmax, ymax), (xmin, ymax)]\n",
    "        self.shapes.append((shapeType, label, points, None, None, difficult))\n",
    "\n",
    "    def parseXML(self):\n",
    "        assert self.filepath.endswith(XML_EXT), \"Unsupport file format\"\n",
    "        parser = etree.XMLParser(encoding=ENCODE_METHOD)\n",
    "        xmltree = ElementTree.parse(self.filepath, parser=parser).getroot()\n",
    "        filename = xmltree.find('filename').text\n",
    "        try:\n",
    "            verified = xmltree.attrib['verified']\n",
    "            if verified == 'yes':\n",
    "                self.verified = True\n",
    "        except KeyError:\n",
    "            self.verified = False\n",
    "\n",
    "        for object_iter in xmltree.findall('object'):\n",
    "            shapeType = object_iter.find(\"shapeType\").text\n",
    "            print(shapeType)\n",
    "            points_item = object_iter.find(\"points\")\n",
    "            points = [(int(float(point[0].text)), int(float(point[1].text))) for point in points_item]\n",
    "\n",
    "            label = object_iter.find('label').text\n",
    "            # Add chris\n",
    "            difficult = False\n",
    "            if object_iter.find('difficult') is not None:\n",
    "                difficult = bool(int(object_iter.find('difficult').text))\n",
    "            self.addShape(shapeType, label, points, difficult)\n",
    "        return True\n",
    "\n"
   ]
  },
  {
   "cell_type": "code",
   "execution_count": 90,
   "metadata": {},
   "outputs": [],
   "source": [
    "foldername = os.curdir\n",
    "filename = 'test.xml'\n",
    "imgSize = (800, 1000)\n"
   ]
  },
  {
   "cell_type": "code",
   "execution_count": 91,
   "metadata": {},
   "outputs": [],
   "source": [
    "writer = PascalVocWriter(foldername, filename, imgSize)"
   ]
  },
  {
   "cell_type": "code",
   "execution_count": 92,
   "metadata": {},
   "outputs": [],
   "source": [
    "writer.addShape(shapeTypes.box, [(1,2),(3,4)], \"break\", \"difficult\")\n",
    "writer.addShape(shapeTypes.polygon, [(1,2),(3,4),(5,6),(7,8),(9,10)], \"intact\", \"difficult\")\n",
    "writer.addShape(shapeTypes.ellipse, [(1,2),(3,4),(5,6),(7,8)], \"box\", \"difficult\")\n"
   ]
  },
  {
   "cell_type": "code",
   "execution_count": 93,
   "metadata": {},
   "outputs": [],
   "source": [
    "writer.save()"
   ]
  },
  {
   "cell_type": "code",
   "execution_count": 94,
   "metadata": {},
   "outputs": [
    {
     "name": "stdout",
     "output_type": "stream",
     "text": [
      "box\n",
      "polygon\n",
      "ellipse\n"
     ]
    }
   ],
   "source": [
    "reader = PascalVocReader(os.path.join(foldername, filename))"
   ]
  },
  {
   "cell_type": "code",
   "execution_count": 95,
   "metadata": {},
   "outputs": [
    {
     "data": {
      "text/plain": [
       "[('box', 'break', [(1, 2), (3, 4)], None, None, True),\n",
       " ('polygon',\n",
       "  'intact',\n",
       "  [(1, 2), (3, 4), (5, 6), (7, 8), (9, 10)],\n",
       "  None,\n",
       "  None,\n",
       "  True),\n",
       " ('ellipse', 'box', [(1, 2), (3, 4), (5, 6), (7, 8)], None, None, True)]"
      ]
     },
     "execution_count": 95,
     "metadata": {},
     "output_type": "execute_result"
    }
   ],
   "source": [
    "reader.getShapes()"
   ]
  },
  {
   "cell_type": "code",
   "execution_count": null,
   "metadata": {},
   "outputs": [],
   "source": []
  },
  {
   "cell_type": "code",
   "execution_count": 75,
   "metadata": {},
   "outputs": [],
   "source": [
    "from lxml.etree import ElementTree, Element, SubElement\n",
    "from lxml import etree"
   ]
  },
  {
   "cell_type": "code",
   "execution_count": 76,
   "metadata": {},
   "outputs": [],
   "source": [
    "pointlist = [(1,2),\n",
    "             (3,4),\n",
    "             (5,6),\n",
    "             (7,8),\n",
    "             (9,10)]"
   ]
  },
  {
   "cell_type": "code",
   "execution_count": 77,
   "metadata": {},
   "outputs": [
    {
     "name": "stdout",
     "output_type": "stream",
     "text": [
      "<annotation>\n",
      "  <point000>\n",
      "    <X>1</X>\n",
      "    <Y>2</Y>\n",
      "  </point000>\n",
      "  <point001>\n",
      "    <X>3</X>\n",
      "    <Y>4</Y>\n",
      "  </point001>\n",
      "  <point002>\n",
      "    <X>5</X>\n",
      "    <Y>6</Y>\n",
      "  </point002>\n",
      "  <point003>\n",
      "    <X>7</X>\n",
      "    <Y>8</Y>\n",
      "  </point003>\n",
      "  <point004>\n",
      "    <X>9</X>\n",
      "    <Y>10</Y>\n",
      "  </point004>\n",
      "</annotation>\n",
      "\n"
     ]
    }
   ],
   "source": [
    "top = Element('annotation')\n",
    "for i, each_object in enumerate(pointlist):\n",
    "    point = SubElement(top, \"point\"+str(i).zfill(3))\n",
    "    X = SubElement(point,\"X\")\n",
    "    X.text = str(each_object[0])\n",
    "    Y = SubElement(point,\"Y\")\n",
    "    Y.text = str(each_object[1])\n",
    "print(etree.tostring(top, pretty_print=True).decode('utf-8'))"
   ]
  },
  {
   "cell_type": "code",
   "execution_count": null,
   "metadata": {},
   "outputs": [],
   "source": [
    "for each_object in self.shapelist:\n",
    "    object_item = SubElement(top, 'object')\n",
    "    name = SubElement(object_item, 'name')\n",
    "    try:\n",
    "        name.text = unicode(each_object['name'])\n",
    "    except NameError:\n",
    "        # Py3: NameError: name 'unicode' is not defined\n",
    "        name.text = each_object['name']\n",
    "\n",
    "    pose = SubElement(object_item, 'pose')\n",
    "    pose.text = \"Unspecified\"\n",
    "    truncated = SubElement(object_item, 'truncated')\n",
    "    if int(each_object['ymax']) == int(self.imgSize[0]) or (int(each_object['ymin'])== 1):\n",
    "        truncated.text = \"1\" # max == height or min\n",
    "    elif (int(each_object['xmax'])==int(self.imgSize[1])) or (int(each_object['xmin'])== 1):\n",
    "        truncated.text = \"1\" # max == width or min\n",
    "    else:\n",
    "        truncated.text = \"0\"\n",
    "    difficult = SubElement(object_item, 'difficult')\n",
    "    difficult.text = str( bool(each_object['difficult']) & 1 )\n",
    "    bndbox = SubElement(object_item, 'bndbox')\n",
    "    xmin = SubElement(bndbox, 'xmin')\n",
    "    xmin.text = str(each_object['xmin'])\n",
    "    ymin = SubElement(bndbox, 'ymin')\n",
    "    ymin.text = str(each_object['ymin'])\n",
    "    xmax = SubElement(bndbox, 'xmax')\n",
    "    xmax.text = str(each_object['xmax'])\n",
    "    ymax = SubElement(bndbox, 'ymax')\n",
    "    ymax.text = str(each_object['ymax'])"
   ]
  },
  {
   "cell_type": "code",
   "execution_count": 98,
   "metadata": {},
   "outputs": [],
   "source": [
    "from PyQt5.QtGui import QImageReader"
   ]
  },
  {
   "cell_type": "code",
   "execution_count": 100,
   "metadata": {},
   "outputs": [
    {
     "data": {
      "text/plain": [
       "['*.bmp',\n",
       " '*.cur',\n",
       " '*.gif',\n",
       " '*.heic',\n",
       " '*.heif',\n",
       " '*.icns',\n",
       " '*.ico',\n",
       " '*.jp2',\n",
       " '*.jpeg',\n",
       " '*.jpg',\n",
       " '*.pbm',\n",
       " '*.pgm',\n",
       " '*.png',\n",
       " '*.ppm',\n",
       " '*.svg',\n",
       " '*.svgz',\n",
       " '*.tga',\n",
       " '*.tif',\n",
       " '*.tiff',\n",
       " '*.wbmp',\n",
       " '*.webp',\n",
       " '*.xbm',\n",
       " '*.xpm']"
      ]
     },
     "execution_count": 100,
     "metadata": {},
     "output_type": "execute_result"
    }
   ],
   "source": [
    "formats = ['*.%s' % fmt.data().decode(\"ascii\").lower() for fmt in QImageReader.supportedImageFormats()]\n",
    "formats"
   ]
  },
  {
   "cell_type": "code",
   "execution_count": null,
   "metadata": {},
   "outputs": [],
   "source": [
    "class cache(object):\n",
    "    def __init__(self, folderpath, filename, num = 1000):\n",
    "        # \n",
    "        self.folder = path = os.path.dirname(ustr(self.filePath)) if self.filePath else '.'\n",
    "        self.total\n",
    "        pass\n",
    "\n",
    "    def update(self):\n",
    "\n",
    "    def openFile(self, _value=False):\n",
    "        \n",
    "        formats = ['*.%s' % fmt.data().decode(\"ascii\").lower() for fmt in QImageReader.supportedImageFormats()]\n",
    "        filters = \"Image & Label files (%s)\" % ' '.join(formats + ['*%s' % LabelFile.suffix])\n",
    "        filename = QFileDialog.getOpenFileName(self, '%s - Choose Image or Label file' % __appname__, path, filters)\n",
    "        if filename:\n",
    "            if isinstance(filename, (tuple, list)):\n",
    "                filename = filename[0]\n",
    "            self.loadFile(filename)\n",
    "\n",
    "    def prev(self, _value=False):\n",
    "        # Proceding prev image without dialog if having any label\n",
    "        if self.autoSaving.isChecked():\n",
    "            if self.defaultSaveDir is not None:\n",
    "                if self.dirty is True:\n",
    "                    self.saveFile()\n",
    "            else:\n",
    "                self.changeSavedirDialog()\n",
    "                return\n",
    "\n",
    "        if not self.mayContinue():\n",
    "            return\n",
    "\n",
    "        if len(self.mImgList) <= 0:\n",
    "            return\n",
    "\n",
    "        if self.filePath is None:\n",
    "            return\n",
    "\n",
    "        currIndex = self.mImgList.index(self.filePath)\n",
    "        if currIndex - 1 >= 0:\n",
    "            filename = self.mImgList[currIndex - 1]\n",
    "            if filename:\n",
    "                self.loadFile(filename)\n",
    "\n",
    "    def openNextImg(self, _value=False):\n",
    "        # Proceding prev image without dialog if having any label\n",
    "        if self.autoSaving.isChecked():\n",
    "            if self.defaultSaveDir is not None:\n",
    "                if self.dirty is True:\n",
    "                    self.saveFile()\n",
    "            else:\n",
    "                self.changeSavedirDialog()\n",
    "                return\n",
    "\n",
    "        if not self.mayContinue():\n",
    "            return\n",
    "\n",
    "        if len(self.mImgList) <= 0:\n",
    "            return\n",
    "\n",
    "        filename = None\n",
    "        if self.filePath is None:\n",
    "            filename = self.mImgList[0]\n",
    "        else:\n",
    "            currIndex = self.mImgList.index(self.filePath)\n",
    "            if currIndex + 1 < len(self.mImgList):\n",
    "                filename = self.mImgList[currIndex + 1]\n",
    "\n",
    "        if filename:\n",
    "            self.loadFile(filename)"
   ]
  },
  {
   "cell_type": "code",
   "execution_count": 101,
   "metadata": {},
   "outputs": [],
   "source": [
    "import math"
   ]
  },
  {
   "cell_type": "code",
   "execution_count": 103,
   "metadata": {},
   "outputs": [
    {
     "data": {
      "text/plain": [
       "-1"
      ]
     },
     "execution_count": 103,
     "metadata": {},
     "output_type": "execute_result"
    }
   ],
   "source": [
    "math.floor(-0.1)"
   ]
  },
  {
   "cell_type": "code",
   "execution_count": 105,
   "metadata": {},
   "outputs": [],
   "source": [
    "from PyQt5.QtGui import QImage "
   ]
  },
  {
   "cell_type": "code",
   "execution_count": 108,
   "metadata": {},
   "outputs": [
    {
     "data": {
      "text/plain": [
       "<PyQt5.QtGui.QImage at 0x108b61ac8>"
      ]
     },
     "execution_count": 108,
     "metadata": {},
     "output_type": "execute_result"
    }
   ],
   "source": [
    "image = QImage()\n",
    "image.load(\"/Volumes/Jerry's/zhouhan/420V5/420V10Q225/420V10Q225_0000.jpg\")\n",
    "image"
   ]
  },
  {
   "cell_type": "code",
   "execution_count": 111,
   "metadata": {},
   "outputs": [],
   "source": [
    "alist = [1,2,3,4,5]"
   ]
  },
  {
   "cell_type": "code",
   "execution_count": 113,
   "metadata": {},
   "outputs": [
    {
     "ename": "ValueError",
     "evalue": "0 is not in list",
     "output_type": "error",
     "traceback": [
      "\u001b[0;31m---------------------------------------------------------------------------\u001b[0m",
      "\u001b[0;31mValueError\u001b[0m                                Traceback (most recent call last)",
      "\u001b[0;32m<ipython-input-113-25750e8454cf>\u001b[0m in \u001b[0;36m<module>\u001b[0;34m()\u001b[0m\n\u001b[0;32m----> 1\u001b[0;31m \u001b[0mflag\u001b[0m \u001b[0;34m=\u001b[0m \u001b[0malist\u001b[0m\u001b[0;34m.\u001b[0m\u001b[0mindex\u001b[0m\u001b[0;34m(\u001b[0m\u001b[0;36m0\u001b[0m\u001b[0;34m)\u001b[0m\u001b[0;34m\u001b[0m\u001b[0m\n\u001b[0m\u001b[1;32m      2\u001b[0m \u001b[0mflag\u001b[0m\u001b[0;34m\u001b[0m\u001b[0m\n",
      "\u001b[0;31mValueError\u001b[0m: 0 is not in list"
     ]
    }
   ],
   "source": [
    "flag = alist.index(0)\n",
    "flag"
   ]
  },
  {
   "cell_type": "code",
   "execution_count": 194,
   "metadata": {},
   "outputs": [],
   "source": [
    "from PyQt5.QtGui import QImage"
   ]
  },
  {
   "cell_type": "code",
   "execution_count": 195,
   "metadata": {},
   "outputs": [],
   "source": [
    "filename = \"/Volumes/Jerry's/zhouhan/420V5/420V10Q225/420V10Q225_0000.jpg\"\n",
    "with open(filename, 'rb') as f:\n",
    "    imageData = f.read()\n",
    "image = QImage.fromData(imageData)"
   ]
  },
  {
   "cell_type": "code",
   "execution_count": 196,
   "metadata": {},
   "outputs": [
    {
     "data": {
      "text/plain": [
       "4"
      ]
     },
     "execution_count": 196,
     "metadata": {},
     "output_type": "execute_result"
    }
   ],
   "source": [
    "image.format()"
   ]
  },
  {
   "cell_type": "code",
   "execution_count": 199,
   "metadata": {},
   "outputs": [
    {
     "data": {
      "text/plain": [
       "4"
      ]
     },
     "execution_count": 199,
     "metadata": {},
     "output_type": "execute_result"
    }
   ],
   "source": [
    "image.Format_RGB32"
   ]
  },
  {
   "cell_type": "code",
   "execution_count": 135,
   "metadata": {},
   "outputs": [
    {
     "data": {
      "text/plain": [
       "1072"
      ]
     },
     "execution_count": 135,
     "metadata": {},
     "output_type": "execute_result"
    }
   ],
   "source": [
    "image.width()"
   ]
  },
  {
   "cell_type": "code",
   "execution_count": 136,
   "metadata": {},
   "outputs": [
    {
     "data": {
      "text/plain": [
       "800"
      ]
     },
     "execution_count": 136,
     "metadata": {},
     "output_type": "execute_result"
    }
   ],
   "source": [
    "image.height()"
   ]
  },
  {
   "cell_type": "code",
   "execution_count": 138,
   "metadata": {},
   "outputs": [
    {
     "data": {
      "text/plain": [
       "32"
      ]
     },
     "execution_count": 138,
     "metadata": {},
     "output_type": "execute_result"
    }
   ],
   "source": [
    "image.depth()"
   ]
  },
  {
   "cell_type": "code",
   "execution_count": 129,
   "metadata": {},
   "outputs": [],
   "source": [
    "import qimage2ndarray\n",
    "import numpy as np\n",
    "import cv2\n",
    "import matplotlib.pyplot as plt\n",
    "# cv2."
   ]
  },
  {
   "cell_type": "code",
   "execution_count": 134,
   "metadata": {},
   "outputs": [
    {
     "data": {
      "image/png": "[encoded data removed]",
      "text/plain": [
       "<matplotlib.figure.Figure at 0x114056c50>"
      ]
     },
     "metadata": {},
     "output_type": "display_data"
    }
   ],
   "source": [
    "plt.imshow((qimage2ndarray.rgb_view(image)).reshape(800,1072,3))\n",
    "plt.show()"
   ]
  },
  {
   "cell_type": "code",
   "execution_count": 222,
   "metadata": {},
   "outputs": [],
   "source": [
    "import cv2"
   ]
  },
  {
   "cell_type": "code",
   "execution_count": 223,
   "metadata": {},
   "outputs": [],
   "source": [
    "filename = \"/Volumes/Jerry's/zhouhan/420V5/420V10Q225/420V10Q225_0000.jpg\"\n",
    "cvimg = cv2.imread(filename)"
   ]
  },
  {
   "cell_type": "code",
   "execution_count": 221,
   "metadata": {},
   "outputs": [
    {
     "data": {
      "text/plain": [
       "(800, 1072, 3)"
      ]
     },
     "execution_count": 221,
     "metadata": {},
     "output_type": "execute_result"
    }
   ],
   "source": [
    "cvimg.shape"
   ]
  },
  {
   "cell_type": "code",
   "execution_count": 224,
   "metadata": {},
   "outputs": [
    {
     "ename": "NameError",
     "evalue": "name 'bgimg_gray' is not defined",
     "output_type": "error",
     "traceback": [
      "\u001b[0;31m---------------------------------------------------------------------------\u001b[0m",
      "\u001b[0;31mNameError\u001b[0m                                 Traceback (most recent call last)",
      "\u001b[0;32m<ipython-input-224-b1d4d2ea7fd6>\u001b[0m in \u001b[0;36m<module>\u001b[0;34m()\u001b[0m\n\u001b[1;32m     40\u001b[0m \u001b[0;34m\u001b[0m\u001b[0m\n\u001b[1;32m     41\u001b[0m \u001b[0;34m\u001b[0m\u001b[0m\n\u001b[0;32m---> 42\u001b[0;31m \u001b[0mplt\u001b[0m\u001b[0;34m.\u001b[0m\u001b[0mimshow\u001b[0m\u001b[0;34m(\u001b[0m\u001b[0mbgimg_gray\u001b[0m\u001b[0;34m,\u001b[0m \u001b[0mcmap\u001b[0m\u001b[0;34m=\u001b[0m\u001b[0;34m'gray'\u001b[0m\u001b[0;34m)\u001b[0m\u001b[0;34m\u001b[0m\u001b[0m\n\u001b[0m",
      "\u001b[0;31mNameError\u001b[0m: name 'bgimg_gray' is not defined"
     ]
    }
   ],
   "source": [
    "import os\n",
    "import glob\n",
    "import cv2\n",
    "import matplotlib.pyplot as plt\n",
    "from PyQt5.QtCore import pyqtSignal\n",
    "import numpy as np\n",
    "\n",
    "# background subtraction and other preprossing procedure\n",
    "FILENAME = \"background.jpg\"\n",
    "\n",
    "class Preprocess:\n",
    "    preprocessed = pyqtSignal()\n",
    "\n",
    "    def __init__(self, dirname, length=10):\n",
    "        if os.path.isdir(dirname):\n",
    "            self.dirname = dirname\n",
    "        else:\n",
    "            return None\n",
    "        self.imgPathList = glob.glob(os.path.join(self.dirname,'*.jpg'))\n",
    "        tmp_img = cv2.imread(self.imgPathList[0])\n",
    "        height, width, depth = tmp.img\n",
    "        self.bg = np.zeros((height, width, depth))\n",
    "        self.imgList = []\n",
    "        self.length = length\n",
    "\n",
    "    def __call__(self):\n",
    "        img_path = os.path.join(self.dirname, FILENAME)\n",
    "        # if we process it before and there exists backgrounnd image.\n",
    "        if os.path.exists(img_path):\n",
    "            self.bg = cv2.imread(img_path)\n",
    "        else:\n",
    "            self.imgPathList\n",
    "            for index, f in enumerate(paths):\n",
    "                if index >= self.length:\n",
    "                    self.bg /= self.length\n",
    "                    break\n",
    "                img = cv2.imread(f)\n",
    "                self.bg = np.add(self.bg, img)\n",
    "\n",
    "\n",
    "\n"
   ]
  },
  {
   "cell_type": "code",
   "execution_count": null,
   "metadata": {},
   "outputs": [],
   "source": [
    "plt.imshow(bgimg_gray)"
   ]
  },
  {
   "cell_type": "code",
   "execution_count": null,
   "metadata": {},
   "outputs": [],
   "source": []
  },
  {
   "cell_type": "code",
   "execution_count": 158,
   "metadata": {},
   "outputs": [],
   "source": [
    "def qimage2numpyarray(image):\n",
    "    height = image.height()\n",
    "    width  = image.width()\n",
    "    return (qimage2ndarray.rgb_view(image)).reshape(height, width, 3)"
   ]
  },
  {
   "cell_type": "code",
   "execution_count": 160,
   "metadata": {},
   "outputs": [
    {
     "data": {
      "text/plain": [
       "array([[[0, 0, 0],\n",
       "        [0, 0, 0],\n",
       "        [0, 0, 0],\n",
       "        ..., \n",
       "        [0, 0, 0],\n",
       "        [0, 0, 0],\n",
       "        [0, 0, 0]],\n",
       "\n",
       "       [[0, 0, 0],\n",
       "        [0, 0, 0],\n",
       "        [0, 0, 0],\n",
       "        ..., \n",
       "        [0, 0, 0],\n",
       "        [0, 0, 0],\n",
       "        [0, 0, 0]],\n",
       "\n",
       "       [[0, 0, 0],\n",
       "        [0, 0, 0],\n",
       "        [0, 0, 0],\n",
       "        ..., \n",
       "        [0, 0, 0],\n",
       "        [0, 0, 0],\n",
       "        [0, 0, 0]],\n",
       "\n",
       "       ..., \n",
       "       [[1, 1, 1],\n",
       "        [1, 1, 1],\n",
       "        [1, 1, 1],\n",
       "        ..., \n",
       "        [0, 0, 0],\n",
       "        [0, 0, 0],\n",
       "        [0, 0, 0]],\n",
       "\n",
       "       [[1, 1, 1],\n",
       "        [1, 1, 1],\n",
       "        [1, 1, 1],\n",
       "        ..., \n",
       "        [0, 0, 0],\n",
       "        [0, 0, 0],\n",
       "        [0, 0, 0]],\n",
       "\n",
       "       [[1, 1, 1],\n",
       "        [1, 1, 1],\n",
       "        [1, 1, 1],\n",
       "        ..., \n",
       "        [0, 0, 0],\n",
       "        [0, 0, 0],\n",
       "        [0, 0, 0]]], dtype=uint8)"
      ]
     },
     "execution_count": 160,
     "metadata": {},
     "output_type": "execute_result"
    }
   ],
   "source": [
    "arr = qimage2numpyarray(image)\n",
    "arr"
   ]
  },
  {
   "cell_type": "code",
   "execution_count": 191,
   "metadata": {},
   "outputs": [],
   "source": [
    "def numpyarray2qimage(arr):\n",
    "    # height = self.numpyarray.shape[1]\n",
    "    # width  = self.numpyarray.shape[0]\n",
    "    numpyarray = np.transpose(arr, (1,0,2))                                                                                                                                                                              \n",
    "    return QImage(arr.tobytes(), 800, 1072,  6400, QImage.Format_RGB888)"
   ]
  },
  {
   "cell_type": "code",
   "execution_count": 192,
   "metadata": {},
   "outputs": [
    {
     "ename": "ValueError",
     "evalue": "qimageview can only handle 8- or 32-bit QImages (format was 13)",
     "output_type": "error",
     "traceback": [
      "\u001b[0;31m---------------------------------------------------------------------------\u001b[0m",
      "\u001b[0;31mValueError\u001b[0m                                Traceback (most recent call last)",
      "\u001b[0;32m<ipython-input-192-49a3a8e26df7>\u001b[0m in \u001b[0;36m<module>\u001b[0;34m()\u001b[0m\n\u001b[0;32m----> 1\u001b[0;31m \u001b[0mqimage2numpyarray\u001b[0m\u001b[0;34m(\u001b[0m\u001b[0mnumpyarray2qimage\u001b[0m\u001b[0;34m(\u001b[0m\u001b[0marr\u001b[0m\u001b[0;34m)\u001b[0m\u001b[0;34m)\u001b[0m\u001b[0;34m\u001b[0m\u001b[0m\n\u001b[0m",
      "\u001b[0;32m<ipython-input-158-042ad8de454a>\u001b[0m in \u001b[0;36mqimage2numpyarray\u001b[0;34m(image)\u001b[0m\n\u001b[1;32m      2\u001b[0m     \u001b[0mheight\u001b[0m \u001b[0;34m=\u001b[0m \u001b[0mimage\u001b[0m\u001b[0;34m.\u001b[0m\u001b[0mheight\u001b[0m\u001b[0;34m(\u001b[0m\u001b[0;34m)\u001b[0m\u001b[0;34m\u001b[0m\u001b[0m\n\u001b[1;32m      3\u001b[0m     \u001b[0mwidth\u001b[0m  \u001b[0;34m=\u001b[0m \u001b[0mimage\u001b[0m\u001b[0;34m.\u001b[0m\u001b[0mwidth\u001b[0m\u001b[0;34m(\u001b[0m\u001b[0;34m)\u001b[0m\u001b[0;34m\u001b[0m\u001b[0m\n\u001b[0;32m----> 4\u001b[0;31m     \u001b[0;32mreturn\u001b[0m \u001b[0;34m(\u001b[0m\u001b[0mqimage2ndarray\u001b[0m\u001b[0;34m.\u001b[0m\u001b[0mrgb_view\u001b[0m\u001b[0;34m(\u001b[0m\u001b[0mimage\u001b[0m\u001b[0;34m)\u001b[0m\u001b[0;34m)\u001b[0m\u001b[0;34m.\u001b[0m\u001b[0mreshape\u001b[0m\u001b[0;34m(\u001b[0m\u001b[0mheight\u001b[0m\u001b[0;34m,\u001b[0m \u001b[0mwidth\u001b[0m\u001b[0;34m,\u001b[0m \u001b[0;36m3\u001b[0m\u001b[0;34m)\u001b[0m\u001b[0;34m\u001b[0m\u001b[0m\n\u001b[0m",
      "\u001b[0;32m/anaconda3/envs/dl/lib/python3.6/site-packages/qimage2ndarray/__init__.py\u001b[0m in \u001b[0;36mrgb_view\u001b[0;34m(qimage, byteorder)\u001b[0m\n\u001b[1;32m    106\u001b[0m     \u001b[0;32mif\u001b[0m \u001b[0mbyteorder\u001b[0m \u001b[0;32mis\u001b[0m \u001b[0;32mNone\u001b[0m\u001b[0;34m:\u001b[0m\u001b[0;34m\u001b[0m\u001b[0m\n\u001b[1;32m    107\u001b[0m         \u001b[0mbyteorder\u001b[0m \u001b[0;34m=\u001b[0m \u001b[0m_sys\u001b[0m\u001b[0;34m.\u001b[0m\u001b[0mbyteorder\u001b[0m\u001b[0;34m\u001b[0m\u001b[0m\n\u001b[0;32m--> 108\u001b[0;31m     \u001b[0mbytes\u001b[0m \u001b[0;34m=\u001b[0m \u001b[0mbyte_view\u001b[0m\u001b[0;34m(\u001b[0m\u001b[0mqimage\u001b[0m\u001b[0;34m,\u001b[0m \u001b[0mbyteorder\u001b[0m\u001b[0;34m)\u001b[0m\u001b[0;34m\u001b[0m\u001b[0m\n\u001b[0m\u001b[1;32m    109\u001b[0m     \u001b[0;32mif\u001b[0m \u001b[0mbytes\u001b[0m\u001b[0;34m.\u001b[0m\u001b[0mshape\u001b[0m\u001b[0;34m[\u001b[0m\u001b[0;36m2\u001b[0m\u001b[0;34m]\u001b[0m \u001b[0;34m!=\u001b[0m \u001b[0;36m4\u001b[0m\u001b[0;34m:\u001b[0m\u001b[0;34m\u001b[0m\u001b[0m\n\u001b[1;32m    110\u001b[0m         \u001b[0;32mraise\u001b[0m \u001b[0mValueError\u001b[0m\u001b[0;34m(\u001b[0m\u001b[0;34m\"For rgb_view, the image must have 32 bit pixel size (use RGB32, ARGB32, or ARGB32_Premultiplied)\"\u001b[0m\u001b[0;34m)\u001b[0m\u001b[0;34m\u001b[0m\u001b[0m\n",
      "\u001b[0;32m/anaconda3/envs/dl/lib/python3.6/site-packages/qimage2ndarray/__init__.py\u001b[0m in \u001b[0;36mbyte_view\u001b[0;34m(qimage, byteorder)\u001b[0m\n\u001b[1;32m     75\u001b[0m     \u001b[0;34m:\u001b[0m\u001b[0mparam\u001b[0m \u001b[0mbyteorder\u001b[0m\u001b[0;34m:\u001b[0m \u001b[0mspecify\u001b[0m \u001b[0morder\u001b[0m \u001b[0mof\u001b[0m \u001b[0mchannels\u001b[0m \u001b[0;32min\u001b[0m \u001b[0mlast\u001b[0m \u001b[0maxis\u001b[0m\u001b[0;34m\u001b[0m\u001b[0m\n\u001b[1;32m     76\u001b[0m     :rtype: numpy.ndarray_ with shape (height, width, 1 or 4) and dtype uint8\"\"\"\n\u001b[0;32m---> 77\u001b[0;31m     \u001b[0mraw\u001b[0m \u001b[0;34m=\u001b[0m \u001b[0m_qimage_or_filename_view\u001b[0m\u001b[0;34m(\u001b[0m\u001b[0mqimage\u001b[0m\u001b[0;34m)\u001b[0m\u001b[0;34m\u001b[0m\u001b[0m\n\u001b[0m\u001b[1;32m     78\u001b[0m     \u001b[0mresult\u001b[0m \u001b[0;34m=\u001b[0m \u001b[0mraw\u001b[0m\u001b[0;34m.\u001b[0m\u001b[0mview\u001b[0m\u001b[0;34m(\u001b[0m\u001b[0m_np\u001b[0m\u001b[0;34m.\u001b[0m\u001b[0muint8\u001b[0m\u001b[0;34m)\u001b[0m\u001b[0;34m.\u001b[0m\u001b[0mreshape\u001b[0m\u001b[0;34m(\u001b[0m\u001b[0mraw\u001b[0m\u001b[0;34m.\u001b[0m\u001b[0mshape\u001b[0m \u001b[0;34m+\u001b[0m \u001b[0;34m(\u001b[0m\u001b[0;34m-\u001b[0m\u001b[0;36m1\u001b[0m\u001b[0;34m,\u001b[0m \u001b[0;34m)\u001b[0m\u001b[0;34m)\u001b[0m\u001b[0;34m\u001b[0m\u001b[0m\n\u001b[1;32m     79\u001b[0m     \u001b[0;32mif\u001b[0m \u001b[0mbyteorder\u001b[0m \u001b[0;32mand\u001b[0m \u001b[0mbyteorder\u001b[0m \u001b[0;34m!=\u001b[0m \u001b[0m_sys\u001b[0m\u001b[0;34m.\u001b[0m\u001b[0mbyteorder\u001b[0m\u001b[0;34m:\u001b[0m\u001b[0;34m\u001b[0m\u001b[0m\n",
      "\u001b[0;32m/anaconda3/envs/dl/lib/python3.6/site-packages/qimage2ndarray/__init__.py\u001b[0m in \u001b[0;36m_qimage_or_filename_view\u001b[0;34m(qimage)\u001b[0m\n\u001b[1;32m     36\u001b[0m     \u001b[0;32mif\u001b[0m \u001b[0misinstance\u001b[0m\u001b[0;34m(\u001b[0m\u001b[0mqimage\u001b[0m\u001b[0;34m,\u001b[0m \u001b[0m_basestring\u001b[0m\u001b[0;34m)\u001b[0m\u001b[0;34m:\u001b[0m\u001b[0;34m\u001b[0m\u001b[0m\n\u001b[1;32m     37\u001b[0m         \u001b[0mqimage\u001b[0m \u001b[0;34m=\u001b[0m \u001b[0m_qt\u001b[0m\u001b[0;34m.\u001b[0m\u001b[0mQImage\u001b[0m\u001b[0;34m(\u001b[0m\u001b[0mqimage\u001b[0m\u001b[0;34m)\u001b[0m\u001b[0;34m\u001b[0m\u001b[0m\n\u001b[0;32m---> 38\u001b[0;31m     \u001b[0;32mreturn\u001b[0m \u001b[0m_qimageview\u001b[0m\u001b[0;34m(\u001b[0m\u001b[0mqimage\u001b[0m\u001b[0;34m)\u001b[0m\u001b[0;34m\u001b[0m\u001b[0m\n\u001b[0m\u001b[1;32m     39\u001b[0m \u001b[0;34m\u001b[0m\u001b[0m\n\u001b[1;32m     40\u001b[0m \u001b[0;32mdef\u001b[0m \u001b[0mraw_view\u001b[0m\u001b[0;34m(\u001b[0m\u001b[0mqimage\u001b[0m\u001b[0;34m)\u001b[0m\u001b[0;34m:\u001b[0m\u001b[0;34m\u001b[0m\u001b[0m\n",
      "\u001b[0;32m/anaconda3/envs/dl/lib/python3.6/site-packages/qimage2ndarray/qimageview_python.py\u001b[0m in \u001b[0;36mqimageview\u001b[0;34m(image)\u001b[0m\n\u001b[1;32m     59\u001b[0m         \u001b[0;32mraise\u001b[0m \u001b[0mValueError\u001b[0m\u001b[0;34m(\u001b[0m\u001b[0;34m\"qimageview got invalid QImage\"\u001b[0m\u001b[0;34m)\u001b[0m\u001b[0;34m\u001b[0m\u001b[0m\n\u001b[1;32m     60\u001b[0m     \u001b[0;32melse\u001b[0m\u001b[0;34m:\u001b[0m\u001b[0;34m\u001b[0m\u001b[0m\n\u001b[0;32m---> 61\u001b[0;31m         \u001b[0;32mraise\u001b[0m \u001b[0mValueError\u001b[0m\u001b[0;34m(\u001b[0m\u001b[0;34m\"qimageview can only handle 8- or 32-bit QImages (format was %r)\"\u001b[0m \u001b[0;34m%\u001b[0m \u001b[0mformat\u001b[0m\u001b[0;34m)\u001b[0m\u001b[0;34m\u001b[0m\u001b[0m\n\u001b[0m\u001b[1;32m     62\u001b[0m \u001b[0;34m\u001b[0m\u001b[0m\n\u001b[1;32m     63\u001b[0m     image.__array_interface__ = {\n",
      "\u001b[0;31mValueError\u001b[0m: qimageview can only handle 8- or 32-bit QImages (format was 13)"
     ]
    }
   ],
   "source": [
    "qimage2numpyarray(numpyarray2qimage(arr))"
   ]
  },
  {
   "cell_type": "code",
   "execution_count": null,
   "metadata": {},
   "outputs": [],
   "source": []
  },
  {
   "cell_type": "code",
   "execution_count": null,
   "metadata": {},
   "outputs": [],
   "source": [
    "def getCurrent(self):\n",
    "    if self.subtractBackGround:\n",
    "        return self.numpyarray2qimage(\\\n",
    "                    np.subtract(self.qimage2numpyarray(self.data[self.cursor]) \\\n",
    "                    ,self.background))\n",
    "    else:\n",
    "        return self.data[self.cursor]\n",
    "\n",
    "def qimage2numpyarray(self, imgdata):\n",
    "    height = self.data[0].height()\n",
    "    width  = self.data[0].width()\n",
    "    return (qimage2ndarray.rgb_view(imgdata)).reshape(height, width, 3)\n",
    "\n",
    "def numpyarray2qimage(self, numpyarray):\n",
    "    # height = self.numpyarray.shape[1]\n",
    "    # width  = self.numpyarray.shape[0]\n",
    "    numpyarray = np.transpose(numpyarray, (1,0,2))                                                                                                                                                                              \n",
    "    return QImage(numpyarray.tobytes(), numpyarray.shape[1], numpyarray.shape[0], QImage.Format_RGB888)\n"
   ]
  },
  {
   "cell_type": "code",
   "execution_count": null,
   "metadata": {},
   "outputs": [],
   "source": []
  },
  {
   "cell_type": "code",
   "execution_count": null,
   "metadata": {},
   "outputs": [],
   "source": []
  },
  {
   "cell_type": "code",
   "execution_count": 145,
   "metadata": {},
   "outputs": [
    {
     "data": {
      "text/plain": [
       "array([[[1, 1, 1],\n",
       "        [1, 1, 1],\n",
       "        [1, 1, 1],\n",
       "        ..., \n",
       "        [1, 1, 1],\n",
       "        [1, 1, 1],\n",
       "        [1, 1, 1]],\n",
       "\n",
       "       [[1, 1, 1],\n",
       "        [1, 1, 1],\n",
       "        [1, 1, 1],\n",
       "        ..., \n",
       "        [1, 1, 1],\n",
       "        [1, 1, 1],\n",
       "        [1, 1, 1]],\n",
       "\n",
       "       [[1, 1, 1],\n",
       "        [1, 1, 1],\n",
       "        [1, 1, 1],\n",
       "        ..., \n",
       "        [1, 1, 1],\n",
       "        [1, 1, 1],\n",
       "        [1, 1, 1]],\n",
       "\n",
       "       ..., \n",
       "       [[1, 1, 1],\n",
       "        [1, 1, 1],\n",
       "        [1, 1, 1],\n",
       "        ..., \n",
       "        [1, 1, 1],\n",
       "        [1, 1, 1],\n",
       "        [1, 1, 1]],\n",
       "\n",
       "       [[1, 1, 1],\n",
       "        [1, 1, 1],\n",
       "        [1, 1, 1],\n",
       "        ..., \n",
       "        [1, 1, 1],\n",
       "        [1, 1, 1],\n",
       "        [1, 1, 1]],\n",
       "\n",
       "       [[1, 1, 1],\n",
       "        [1, 1, 1],\n",
       "        [1, 1, 1],\n",
       "        ..., \n",
       "        [1, 1, 1],\n",
       "        [1, 1, 1],\n",
       "        [1, 1, 1]]], dtype=int8)"
      ]
     },
     "execution_count": 145,
     "metadata": {},
     "output_type": "execute_result"
    }
   ],
   "source": [
    "im_np"
   ]
  },
  {
   "cell_type": "code",
   "execution_count": 152,
   "metadata": {},
   "outputs": [
    {
     "data": {
      "text/plain": [
       "array([[[100, 100, 100],\n",
       "        [100, 100, 100],\n",
       "        [100, 100, 100],\n",
       "        ..., \n",
       "        [100, 100, 100],\n",
       "        [100, 100, 100],\n",
       "        [100, 100, 100]],\n",
       "\n",
       "       [[100, 100, 100],\n",
       "        [100, 100, 100],\n",
       "        [100, 100, 100],\n",
       "        ..., \n",
       "        [100, 100, 100],\n",
       "        [100, 100, 100],\n",
       "        [100, 100, 100]],\n",
       "\n",
       "       [[100, 100, 100],\n",
       "        [100, 100, 100],\n",
       "        [100, 100, 100],\n",
       "        ..., \n",
       "        [100, 100, 100],\n",
       "        [100, 100, 100],\n",
       "        [100, 100, 100]],\n",
       "\n",
       "       ..., \n",
       "       [[100, 100, 100],\n",
       "        [100, 100, 100],\n",
       "        [100, 100, 100],\n",
       "        ..., \n",
       "        [100, 100, 100],\n",
       "        [100, 100, 100],\n",
       "        [100, 100, 100]],\n",
       "\n",
       "       [[100, 100, 100],\n",
       "        [100, 100, 100],\n",
       "        [100, 100, 100],\n",
       "        ..., \n",
       "        [100, 100, 100],\n",
       "        [100, 100, 100],\n",
       "        [100, 100, 100]],\n",
       "\n",
       "       [[100, 100, 100],\n",
       "        [100, 100, 100],\n",
       "        [100, 100, 100],\n",
       "        ..., \n",
       "        [100, 100, 100],\n",
       "        [100, 100, 100],\n",
       "        [100, 100, 100]]], dtype=int8)"
      ]
     },
     "execution_count": 152,
     "metadata": {},
     "output_type": "execute_result"
    }
   ],
   "source": [
    "im_np*100"
   ]
  },
  {
   "cell_type": "code",
   "execution_count": 153,
   "metadata": {},
   "outputs": [
    {
     "data": {
      "text/plain": [
       "array([[[ 0.33333333,  0.33333333,  0.33333333],\n",
       "        [ 0.33333333,  0.33333333,  0.33333333],\n",
       "        [ 0.33333333,  0.33333333,  0.33333333],\n",
       "        ..., \n",
       "        [ 0.33333333,  0.33333333,  0.33333333],\n",
       "        [ 0.33333333,  0.33333333,  0.33333333],\n",
       "        [ 0.33333333,  0.33333333,  0.33333333]],\n",
       "\n",
       "       [[ 0.33333333,  0.33333333,  0.33333333],\n",
       "        [ 0.33333333,  0.33333333,  0.33333333],\n",
       "        [ 0.33333333,  0.33333333,  0.33333333],\n",
       "        ..., \n",
       "        [ 0.33333333,  0.33333333,  0.33333333],\n",
       "        [ 0.33333333,  0.33333333,  0.33333333],\n",
       "        [ 0.33333333,  0.33333333,  0.33333333]],\n",
       "\n",
       "       [[ 0.33333333,  0.33333333,  0.33333333],\n",
       "        [ 0.33333333,  0.33333333,  0.33333333],\n",
       "        [ 0.33333333,  0.33333333,  0.33333333],\n",
       "        ..., \n",
       "        [ 0.33333333,  0.33333333,  0.33333333],\n",
       "        [ 0.33333333,  0.33333333,  0.33333333],\n",
       "        [ 0.33333333,  0.33333333,  0.33333333]],\n",
       "\n",
       "       ..., \n",
       "       [[ 0.33333333,  0.33333333,  0.33333333],\n",
       "        [ 0.33333333,  0.33333333,  0.33333333],\n",
       "        [ 0.33333333,  0.33333333,  0.33333333],\n",
       "        ..., \n",
       "        [ 0.33333333,  0.33333333,  0.33333333],\n",
       "        [ 0.33333333,  0.33333333,  0.33333333],\n",
       "        [ 0.33333333,  0.33333333,  0.33333333]],\n",
       "\n",
       "       [[ 0.33333333,  0.33333333,  0.33333333],\n",
       "        [ 0.33333333,  0.33333333,  0.33333333],\n",
       "        [ 0.33333333,  0.33333333,  0.33333333],\n",
       "        ..., \n",
       "        [ 0.33333333,  0.33333333,  0.33333333],\n",
       "        [ 0.33333333,  0.33333333,  0.33333333],\n",
       "        [ 0.33333333,  0.33333333,  0.33333333]],\n",
       "\n",
       "       [[ 0.33333333,  0.33333333,  0.33333333],\n",
       "        [ 0.33333333,  0.33333333,  0.33333333],\n",
       "        [ 0.33333333,  0.33333333,  0.33333333],\n",
       "        ..., \n",
       "        [ 0.33333333,  0.33333333,  0.33333333],\n",
       "        [ 0.33333333,  0.33333333,  0.33333333],\n",
       "        [ 0.33333333,  0.33333333,  0.33333333]]])"
      ]
     },
     "execution_count": 153,
     "metadata": {},
     "output_type": "execute_result"
    }
   ],
   "source": [
    "im_np / 3"
   ]
  },
  {
   "cell_type": "code",
   "execution_count": 155,
   "metadata": {},
   "outputs": [
    {
     "data": {
      "text/plain": [
       "array([[[0, 0, 0],\n",
       "        [0, 0, 0],\n",
       "        [0, 0, 0],\n",
       "        ..., \n",
       "        [0, 0, 0],\n",
       "        [0, 0, 0],\n",
       "        [0, 0, 0]],\n",
       "\n",
       "       [[0, 0, 0],\n",
       "        [0, 0, 0],\n",
       "        [0, 0, 0],\n",
       "        ..., \n",
       "        [0, 0, 0],\n",
       "        [0, 0, 0],\n",
       "        [0, 0, 0]],\n",
       "\n",
       "       [[0, 0, 0],\n",
       "        [0, 0, 0],\n",
       "        [0, 0, 0],\n",
       "        ..., \n",
       "        [0, 0, 0],\n",
       "        [0, 0, 0],\n",
       "        [0, 0, 0]],\n",
       "\n",
       "       ..., \n",
       "       [[0, 0, 0],\n",
       "        [0, 0, 0],\n",
       "        [0, 0, 0],\n",
       "        ..., \n",
       "        [0, 0, 0],\n",
       "        [0, 0, 0],\n",
       "        [0, 0, 0]],\n",
       "\n",
       "       [[0, 0, 0],\n",
       "        [0, 0, 0],\n",
       "        [0, 0, 0],\n",
       "        ..., \n",
       "        [0, 0, 0],\n",
       "        [0, 0, 0],\n",
       "        [0, 0, 0]],\n",
       "\n",
       "       [[0, 0, 0],\n",
       "        [0, 0, 0],\n",
       "        [0, 0, 0],\n",
       "        ..., \n",
       "        [0, 0, 0],\n",
       "        [0, 0, 0],\n",
       "        [0, 0, 0]]])"
      ]
     },
     "execution_count": 155,
     "metadata": {},
     "output_type": "execute_result"
    }
   ],
   "source": [
    "np.array(im_np / 3,dtype=int)"
   ]
  },
  {
   "cell_type": "code",
   "execution_count": 110,
   "metadata": {},
   "outputs": [
    {
     "ename": "SyntaxError",
     "evalue": "invalid syntax (<ipython-input-110-1175d475c7e0>, line 1)",
     "output_type": "error",
     "traceback": [
      "\u001b[0;36m  File \u001b[0;32m\"<ipython-input-110-1175d475c7e0>\"\u001b[0;36m, line \u001b[0;32m1\u001b[0m\n\u001b[0;31m    if 1 is in (1,2):\u001b[0m\n\u001b[0m             ^\u001b[0m\n\u001b[0;31mSyntaxError\u001b[0m\u001b[0;31m:\u001b[0m invalid syntax\n"
     ]
    }
   ],
   "source": [
    "ims = []\n",
    "cal = []\n",
    "cal_gray = []\n",
    "paths = glob.glob('data/600V350Q401/*.jpg')\n",
    "step = 1\n",
    "image = cv.imread(paths[0])\n",
    "bgimg_gray = np.zeros((800, 1072))\n",
    "# print(type(bgimg_gray))\n",
    "# print(bgimg_gray.shape)\n",
    "for index, f in zip(range(len(paths)-1), paths[::step]):\n",
    "    if index >= step + 1000:\n",
    "        bgimg_gray /= index\n",
    "        break\n",
    "    image = cv.imread(f)\n",
    "    image = cv.cvtColor(image, cv.COLOR_BGR2RGB)\n",
    "    image_gray = cv.cvtColor(image, cv.COLOR_RGB2GRAY)\n",
    "\n",
    "    bgimg_gray = np.add(bgimg_gray, image_gray)\n",
    "    \n",
    "plt.imshow(bgimg_gray, cmap='gray')"
   ]
  },
  {
   "cell_type": "code",
   "execution_count": 157,
   "metadata": {},
   "outputs": [],
   "source": [
    "from PyQt5.QtCore import QThread, pyqtSignal\n"
   ]
  },
  {
   "cell_type": "code",
   "execution_count": null,
   "metadata": {},
   "outputs": [],
   "source": [
    "class BackendThread(QThread):\n",
    "    \n",
    "    update_cache = pyqtSignal(int)\n",
    "    \n",
    "    def run(self):\n",
    "        "
   ]
  },
  {
   "cell_type": "code",
   "execution_count": null,
   "metadata": {},
   "outputs": [],
   "source": []
  },
  {
   "cell_type": "code",
   "execution_count": 3,
   "metadata": {},
   "outputs": [],
   "source": [
    "class LabelsList():\n",
    "    def __init__(self, length):\n",
    "        self.labelslist = [None for _ in range(length)]\n",
    "\n",
    "    def __len__(self):\n",
    "        return len(self.labelslist)\n",
    "\n",
    "    def update(self,i, shapes):\n",
    "        self.labelslist[i] = shapes\n",
    "    \n",
    "    def __getitem__(self, n):\n",
    "        try:\n",
    "            self.labelslist[n]\n",
    "        except IndexError:\n",
    "            return None\n",
    "        else:\n",
    "            return self.labelslist[n]\n",
    "\n",
    "    def __setitem__(self, n, value):\n",
    "        self.labelslist[n] = value\n",
    "        \n",
    "    def __delitem__(self, n):\n",
    "        todelete = self.labelslist[n]\n",
    "        self.labelslist[n] = None\n",
    "        del(todelete)"
   ]
  },
  {
   "cell_type": "code",
   "execution_count": 4,
   "metadata": {},
   "outputs": [],
   "source": [
    "ll = LabelsList(999)\n"
   ]
  },
  {
   "cell_type": "code",
   "execution_count": 5,
   "metadata": {},
   "outputs": [],
   "source": [
    "ll[1] = 2"
   ]
  },
  {
   "cell_type": "code",
   "execution_count": 6,
   "metadata": {},
   "outputs": [
    {
     "data": {
      "text/plain": [
       "999"
      ]
     },
     "execution_count": 6,
     "metadata": {},
     "output_type": "execute_result"
    }
   ],
   "source": [
    "len(ll)"
   ]
  },
  {
   "cell_type": "code",
   "execution_count": 7,
   "metadata": {},
   "outputs": [
    {
     "data": {
      "text/plain": [
       "2"
      ]
     },
     "execution_count": 7,
     "metadata": {},
     "output_type": "execute_result"
    }
   ],
   "source": [
    "ll[1]"
   ]
  },
  {
   "cell_type": "code",
   "execution_count": 12,
   "metadata": {},
   "outputs": [
    {
     "data": {
      "text/plain": [
       "True"
      ]
     },
     "execution_count": 12,
     "metadata": {},
     "output_type": "execute_result"
    }
   ],
   "source": [
    "ll[98] is None"
   ]
  },
  {
   "cell_type": "code",
   "execution_count": 14,
   "metadata": {},
   "outputs": [],
   "source": [
    "l = [1,2,3,4]"
   ]
  },
  {
   "cell_type": "code",
   "execution_count": 16,
   "metadata": {},
   "outputs": [
    {
     "name": "stdout",
     "output_type": "stream",
     "text": [
      "1 1\n",
      "2 2\n",
      "3 3\n",
      "4 4\n"
     ]
    }
   ],
   "source": [
    "for i1, i2 in enumerate(l, start=1):\n",
    "    print(i1, i2)"
   ]
  },
  {
   "cell_type": "code",
   "execution_count": 27,
   "metadata": {},
   "outputs": [
    {
     "data": {
      "text/plain": [
       "(0, 4, 1)"
      ]
     },
     "execution_count": 27,
     "metadata": {},
     "output_type": "execute_result"
    }
   ],
   "source": [
    "a = slice(0,5,1)\n",
    "a.indices(4)"
   ]
  },
  {
   "cell_type": "code",
   "execution_count": null,
   "metadata": {},
   "outputs": [],
   "source": []
  }
 ],
 "metadata": {
  "kernelspec": {
   "display_name": "Python 3",
   "language": "python",
   "name": "python3"
  },
  "language_info": {
   "codemirror_mode": {
    "name": "ipython",
    "version": 3
   },
   "file_extension": ".py",
   "mimetype": "text/x-python",
   "name": "python",
   "nbconvert_exporter": "python",
   "pygments_lexer": "ipython3",
   "version": "3.6.2"
  }
 },
 "nbformat": 4,
 "nbformat_minor": 2
}
